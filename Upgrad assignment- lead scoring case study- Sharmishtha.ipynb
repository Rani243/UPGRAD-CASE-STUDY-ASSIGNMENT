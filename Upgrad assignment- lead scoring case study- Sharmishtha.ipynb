{
 "cells": [
  {
   "cell_type": "code",
   "execution_count": 1680,
   "id": "52cc82d0",
   "metadata": {},
   "outputs": [],
   "source": [
    "                              ######UPGRAD ASSIGNMENT CASE STUDY#####"
   ]
  },
  {
   "cell_type": "code",
   "execution_count": 1681,
   "id": "982dbe67",
   "metadata": {},
   "outputs": [],
   "source": [
    "##UPLOADING IMPORTANT LIABRARIES##\n",
    "\n",
    "import warnings\n",
    "warnings.filterwarnings('ignore')\n",
    "\n",
    "import numpy as np\n",
    "import pandas as pd\n",
    "import matplotlib.pyplot as plt\n",
    "import seaborn as sns\n",
    "from sklearn.preprocessing import StandardScaler#Importing dataset\n",
    "\n"
   ]
  },
  {
   "cell_type": "code",
   "execution_count": 1682,
   "id": "9ab7522e",
   "metadata": {},
   "outputs": [
    {
     "data": {
      "text/html": [
       "<div>\n",
       "<style scoped>\n",
       "    .dataframe tbody tr th:only-of-type {\n",
       "        vertical-align: middle;\n",
       "    }\n",
       "\n",
       "    .dataframe tbody tr th {\n",
       "        vertical-align: top;\n",
       "    }\n",
       "\n",
       "    .dataframe thead th {\n",
       "        text-align: right;\n",
       "    }\n",
       "</style>\n",
       "<table border=\"1\" class=\"dataframe\">\n",
       "  <thead>\n",
       "    <tr style=\"text-align: right;\">\n",
       "      <th></th>\n",
       "      <th>Prospect ID</th>\n",
       "      <th>Lead Number</th>\n",
       "      <th>Lead Origin</th>\n",
       "      <th>Lead Source</th>\n",
       "      <th>Do Not Email</th>\n",
       "      <th>Do Not Call</th>\n",
       "      <th>Converted</th>\n",
       "      <th>TotalVisits</th>\n",
       "      <th>Total Time Spent on Website</th>\n",
       "      <th>Page Views Per Visit</th>\n",
       "      <th>...</th>\n",
       "      <th>Get updates on DM Content</th>\n",
       "      <th>Lead Profile</th>\n",
       "      <th>City</th>\n",
       "      <th>Asymmetrique Activity Index</th>\n",
       "      <th>Asymmetrique Profile Index</th>\n",
       "      <th>Asymmetrique Activity Score</th>\n",
       "      <th>Asymmetrique Profile Score</th>\n",
       "      <th>I agree to pay the amount through cheque</th>\n",
       "      <th>A free copy of Mastering The Interview</th>\n",
       "      <th>Last Notable Activity</th>\n",
       "    </tr>\n",
       "  </thead>\n",
       "  <tbody>\n",
       "    <tr>\n",
       "      <th>0</th>\n",
       "      <td>7927b2df-8bba-4d29-b9a2-b6e0beafe620</td>\n",
       "      <td>660737</td>\n",
       "      <td>API</td>\n",
       "      <td>Olark Chat</td>\n",
       "      <td>No</td>\n",
       "      <td>No</td>\n",
       "      <td>0</td>\n",
       "      <td>0.0</td>\n",
       "      <td>0</td>\n",
       "      <td>0.0</td>\n",
       "      <td>...</td>\n",
       "      <td>No</td>\n",
       "      <td>Select</td>\n",
       "      <td>Select</td>\n",
       "      <td>02.Medium</td>\n",
       "      <td>02.Medium</td>\n",
       "      <td>15.0</td>\n",
       "      <td>15.0</td>\n",
       "      <td>No</td>\n",
       "      <td>No</td>\n",
       "      <td>Modified</td>\n",
       "    </tr>\n",
       "    <tr>\n",
       "      <th>1</th>\n",
       "      <td>2a272436-5132-4136-86fa-dcc88c88f482</td>\n",
       "      <td>660728</td>\n",
       "      <td>API</td>\n",
       "      <td>Organic Search</td>\n",
       "      <td>No</td>\n",
       "      <td>No</td>\n",
       "      <td>0</td>\n",
       "      <td>5.0</td>\n",
       "      <td>674</td>\n",
       "      <td>2.5</td>\n",
       "      <td>...</td>\n",
       "      <td>No</td>\n",
       "      <td>Select</td>\n",
       "      <td>Select</td>\n",
       "      <td>02.Medium</td>\n",
       "      <td>02.Medium</td>\n",
       "      <td>15.0</td>\n",
       "      <td>15.0</td>\n",
       "      <td>No</td>\n",
       "      <td>No</td>\n",
       "      <td>Email Opened</td>\n",
       "    </tr>\n",
       "    <tr>\n",
       "      <th>2</th>\n",
       "      <td>8cc8c611-a219-4f35-ad23-fdfd2656bd8a</td>\n",
       "      <td>660727</td>\n",
       "      <td>Landing Page Submission</td>\n",
       "      <td>Direct Traffic</td>\n",
       "      <td>No</td>\n",
       "      <td>No</td>\n",
       "      <td>1</td>\n",
       "      <td>2.0</td>\n",
       "      <td>1532</td>\n",
       "      <td>2.0</td>\n",
       "      <td>...</td>\n",
       "      <td>No</td>\n",
       "      <td>Potential Lead</td>\n",
       "      <td>Mumbai</td>\n",
       "      <td>02.Medium</td>\n",
       "      <td>01.High</td>\n",
       "      <td>14.0</td>\n",
       "      <td>20.0</td>\n",
       "      <td>No</td>\n",
       "      <td>Yes</td>\n",
       "      <td>Email Opened</td>\n",
       "    </tr>\n",
       "    <tr>\n",
       "      <th>3</th>\n",
       "      <td>0cc2df48-7cf4-4e39-9de9-19797f9b38cc</td>\n",
       "      <td>660719</td>\n",
       "      <td>Landing Page Submission</td>\n",
       "      <td>Direct Traffic</td>\n",
       "      <td>No</td>\n",
       "      <td>No</td>\n",
       "      <td>0</td>\n",
       "      <td>1.0</td>\n",
       "      <td>305</td>\n",
       "      <td>1.0</td>\n",
       "      <td>...</td>\n",
       "      <td>No</td>\n",
       "      <td>Select</td>\n",
       "      <td>Mumbai</td>\n",
       "      <td>02.Medium</td>\n",
       "      <td>01.High</td>\n",
       "      <td>13.0</td>\n",
       "      <td>17.0</td>\n",
       "      <td>No</td>\n",
       "      <td>No</td>\n",
       "      <td>Modified</td>\n",
       "    </tr>\n",
       "    <tr>\n",
       "      <th>4</th>\n",
       "      <td>3256f628-e534-4826-9d63-4a8b88782852</td>\n",
       "      <td>660681</td>\n",
       "      <td>Landing Page Submission</td>\n",
       "      <td>Google</td>\n",
       "      <td>No</td>\n",
       "      <td>No</td>\n",
       "      <td>1</td>\n",
       "      <td>2.0</td>\n",
       "      <td>1428</td>\n",
       "      <td>1.0</td>\n",
       "      <td>...</td>\n",
       "      <td>No</td>\n",
       "      <td>Select</td>\n",
       "      <td>Mumbai</td>\n",
       "      <td>02.Medium</td>\n",
       "      <td>01.High</td>\n",
       "      <td>15.0</td>\n",
       "      <td>18.0</td>\n",
       "      <td>No</td>\n",
       "      <td>No</td>\n",
       "      <td>Modified</td>\n",
       "    </tr>\n",
       "  </tbody>\n",
       "</table>\n",
       "<p>5 rows × 37 columns</p>\n",
       "</div>"
      ],
      "text/plain": [
       "                            Prospect ID  Lead Number              Lead Origin  \\\n",
       "0  7927b2df-8bba-4d29-b9a2-b6e0beafe620       660737                      API   \n",
       "1  2a272436-5132-4136-86fa-dcc88c88f482       660728                      API   \n",
       "2  8cc8c611-a219-4f35-ad23-fdfd2656bd8a       660727  Landing Page Submission   \n",
       "3  0cc2df48-7cf4-4e39-9de9-19797f9b38cc       660719  Landing Page Submission   \n",
       "4  3256f628-e534-4826-9d63-4a8b88782852       660681  Landing Page Submission   \n",
       "\n",
       "      Lead Source Do Not Email Do Not Call  Converted  TotalVisits  \\\n",
       "0      Olark Chat           No          No          0          0.0   \n",
       "1  Organic Search           No          No          0          5.0   \n",
       "2  Direct Traffic           No          No          1          2.0   \n",
       "3  Direct Traffic           No          No          0          1.0   \n",
       "4          Google           No          No          1          2.0   \n",
       "\n",
       "   Total Time Spent on Website  Page Views Per Visit  ...  \\\n",
       "0                            0                   0.0  ...   \n",
       "1                          674                   2.5  ...   \n",
       "2                         1532                   2.0  ...   \n",
       "3                          305                   1.0  ...   \n",
       "4                         1428                   1.0  ...   \n",
       "\n",
       "  Get updates on DM Content    Lead Profile    City  \\\n",
       "0                        No          Select  Select   \n",
       "1                        No          Select  Select   \n",
       "2                        No  Potential Lead  Mumbai   \n",
       "3                        No          Select  Mumbai   \n",
       "4                        No          Select  Mumbai   \n",
       "\n",
       "  Asymmetrique Activity Index Asymmetrique Profile Index  \\\n",
       "0                   02.Medium                  02.Medium   \n",
       "1                   02.Medium                  02.Medium   \n",
       "2                   02.Medium                    01.High   \n",
       "3                   02.Medium                    01.High   \n",
       "4                   02.Medium                    01.High   \n",
       "\n",
       "  Asymmetrique Activity Score Asymmetrique Profile Score  \\\n",
       "0                        15.0                       15.0   \n",
       "1                        15.0                       15.0   \n",
       "2                        14.0                       20.0   \n",
       "3                        13.0                       17.0   \n",
       "4                        15.0                       18.0   \n",
       "\n",
       "  I agree to pay the amount through cheque  \\\n",
       "0                                       No   \n",
       "1                                       No   \n",
       "2                                       No   \n",
       "3                                       No   \n",
       "4                                       No   \n",
       "\n",
       "  A free copy of Mastering The Interview Last Notable Activity  \n",
       "0                                     No              Modified  \n",
       "1                                     No          Email Opened  \n",
       "2                                    Yes          Email Opened  \n",
       "3                                     No              Modified  \n",
       "4                                     No              Modified  \n",
       "\n",
       "[5 rows x 37 columns]"
      ]
     },
     "execution_count": 1682,
     "metadata": {},
     "output_type": "execute_result"
    }
   ],
   "source": [
    "##IMPORTING THE DATA SET##\n",
    "data=pd.read_csv(\"Leads.csv\")\n",
    "data.head()"
   ]
  },
  {
   "cell_type": "code",
   "execution_count": 1683,
   "id": "62986fe4",
   "metadata": {},
   "outputs": [
    {
     "data": {
      "text/plain": [
       "(9240, 37)"
      ]
     },
     "execution_count": 1683,
     "metadata": {},
     "output_type": "execute_result"
    }
   ],
   "source": [
    "###CHECKING THE NUMBER OF ROWS AND COLUMNS IN THE DATA SET###\n",
    "data.shape"
   ]
  },
  {
   "cell_type": "code",
   "execution_count": 1684,
   "id": "8a606513",
   "metadata": {},
   "outputs": [
    {
     "name": "stdout",
     "output_type": "stream",
     "text": [
      "<class 'pandas.core.frame.DataFrame'>\n",
      "RangeIndex: 9240 entries, 0 to 9239\n",
      "Data columns (total 37 columns):\n",
      " #   Column                                         Non-Null Count  Dtype  \n",
      "---  ------                                         --------------  -----  \n",
      " 0   Prospect ID                                    9240 non-null   object \n",
      " 1   Lead Number                                    9240 non-null   int64  \n",
      " 2   Lead Origin                                    9240 non-null   object \n",
      " 3   Lead Source                                    9204 non-null   object \n",
      " 4   Do Not Email                                   9240 non-null   object \n",
      " 5   Do Not Call                                    9240 non-null   object \n",
      " 6   Converted                                      9240 non-null   int64  \n",
      " 7   TotalVisits                                    9103 non-null   float64\n",
      " 8   Total Time Spent on Website                    9240 non-null   int64  \n",
      " 9   Page Views Per Visit                           9103 non-null   float64\n",
      " 10  Last Activity                                  9137 non-null   object \n",
      " 11  Country                                        6779 non-null   object \n",
      " 12  Specialization                                 7802 non-null   object \n",
      " 13  How did you hear about X Education             7033 non-null   object \n",
      " 14  What is your current occupation                6550 non-null   object \n",
      " 15  What matters most to you in choosing a course  6531 non-null   object \n",
      " 16  Search                                         9240 non-null   object \n",
      " 17  Magazine                                       9240 non-null   object \n",
      " 18  Newspaper Article                              9240 non-null   object \n",
      " 19  X Education Forums                             9240 non-null   object \n",
      " 20  Newspaper                                      9240 non-null   object \n",
      " 21  Digital Advertisement                          9240 non-null   object \n",
      " 22  Through Recommendations                        9240 non-null   object \n",
      " 23  Receive More Updates About Our Courses         9240 non-null   object \n",
      " 24  Tags                                           5887 non-null   object \n",
      " 25  Lead Quality                                   4473 non-null   object \n",
      " 26  Update me on Supply Chain Content              9240 non-null   object \n",
      " 27  Get updates on DM Content                      9240 non-null   object \n",
      " 28  Lead Profile                                   6531 non-null   object \n",
      " 29  City                                           7820 non-null   object \n",
      " 30  Asymmetrique Activity Index                    5022 non-null   object \n",
      " 31  Asymmetrique Profile Index                     5022 non-null   object \n",
      " 32  Asymmetrique Activity Score                    5022 non-null   float64\n",
      " 33  Asymmetrique Profile Score                     5022 non-null   float64\n",
      " 34  I agree to pay the amount through cheque       9240 non-null   object \n",
      " 35  A free copy of Mastering The Interview         9240 non-null   object \n",
      " 36  Last Notable Activity                          9240 non-null   object \n",
      "dtypes: float64(4), int64(3), object(30)\n",
      "memory usage: 2.6+ MB\n"
     ]
    }
   ],
   "source": [
    "##EXTRACTION OF DATA FROM THE DATA SET##\n",
    "data.info()"
   ]
  },
  {
   "cell_type": "code",
   "execution_count": 1685,
   "id": "16fe355e",
   "metadata": {},
   "outputs": [
    {
     "data": {
      "text/html": [
       "<div>\n",
       "<style scoped>\n",
       "    .dataframe tbody tr th:only-of-type {\n",
       "        vertical-align: middle;\n",
       "    }\n",
       "\n",
       "    .dataframe tbody tr th {\n",
       "        vertical-align: top;\n",
       "    }\n",
       "\n",
       "    .dataframe thead th {\n",
       "        text-align: right;\n",
       "    }\n",
       "</style>\n",
       "<table border=\"1\" class=\"dataframe\">\n",
       "  <thead>\n",
       "    <tr style=\"text-align: right;\">\n",
       "      <th></th>\n",
       "      <th>Lead Number</th>\n",
       "      <th>Converted</th>\n",
       "      <th>TotalVisits</th>\n",
       "      <th>Total Time Spent on Website</th>\n",
       "      <th>Page Views Per Visit</th>\n",
       "      <th>Asymmetrique Activity Score</th>\n",
       "      <th>Asymmetrique Profile Score</th>\n",
       "    </tr>\n",
       "  </thead>\n",
       "  <tbody>\n",
       "    <tr>\n",
       "      <th>count</th>\n",
       "      <td>9240.000000</td>\n",
       "      <td>9240.000000</td>\n",
       "      <td>9103.000000</td>\n",
       "      <td>9240.000000</td>\n",
       "      <td>9103.000000</td>\n",
       "      <td>5022.000000</td>\n",
       "      <td>5022.000000</td>\n",
       "    </tr>\n",
       "    <tr>\n",
       "      <th>mean</th>\n",
       "      <td>617188.435606</td>\n",
       "      <td>0.385390</td>\n",
       "      <td>3.445238</td>\n",
       "      <td>487.698268</td>\n",
       "      <td>2.362820</td>\n",
       "      <td>14.306252</td>\n",
       "      <td>16.344883</td>\n",
       "    </tr>\n",
       "    <tr>\n",
       "      <th>std</th>\n",
       "      <td>23405.995698</td>\n",
       "      <td>0.486714</td>\n",
       "      <td>4.854853</td>\n",
       "      <td>548.021466</td>\n",
       "      <td>2.161418</td>\n",
       "      <td>1.386694</td>\n",
       "      <td>1.811395</td>\n",
       "    </tr>\n",
       "    <tr>\n",
       "      <th>min</th>\n",
       "      <td>579533.000000</td>\n",
       "      <td>0.000000</td>\n",
       "      <td>0.000000</td>\n",
       "      <td>0.000000</td>\n",
       "      <td>0.000000</td>\n",
       "      <td>7.000000</td>\n",
       "      <td>11.000000</td>\n",
       "    </tr>\n",
       "    <tr>\n",
       "      <th>25%</th>\n",
       "      <td>596484.500000</td>\n",
       "      <td>0.000000</td>\n",
       "      <td>1.000000</td>\n",
       "      <td>12.000000</td>\n",
       "      <td>1.000000</td>\n",
       "      <td>14.000000</td>\n",
       "      <td>15.000000</td>\n",
       "    </tr>\n",
       "    <tr>\n",
       "      <th>50%</th>\n",
       "      <td>615479.000000</td>\n",
       "      <td>0.000000</td>\n",
       "      <td>3.000000</td>\n",
       "      <td>248.000000</td>\n",
       "      <td>2.000000</td>\n",
       "      <td>14.000000</td>\n",
       "      <td>16.000000</td>\n",
       "    </tr>\n",
       "    <tr>\n",
       "      <th>75%</th>\n",
       "      <td>637387.250000</td>\n",
       "      <td>1.000000</td>\n",
       "      <td>5.000000</td>\n",
       "      <td>936.000000</td>\n",
       "      <td>3.000000</td>\n",
       "      <td>15.000000</td>\n",
       "      <td>18.000000</td>\n",
       "    </tr>\n",
       "    <tr>\n",
       "      <th>max</th>\n",
       "      <td>660737.000000</td>\n",
       "      <td>1.000000</td>\n",
       "      <td>251.000000</td>\n",
       "      <td>2272.000000</td>\n",
       "      <td>55.000000</td>\n",
       "      <td>18.000000</td>\n",
       "      <td>20.000000</td>\n",
       "    </tr>\n",
       "  </tbody>\n",
       "</table>\n",
       "</div>"
      ],
      "text/plain": [
       "         Lead Number    Converted  TotalVisits  Total Time Spent on Website  \\\n",
       "count    9240.000000  9240.000000  9103.000000                  9240.000000   \n",
       "mean   617188.435606     0.385390     3.445238                   487.698268   \n",
       "std     23405.995698     0.486714     4.854853                   548.021466   \n",
       "min    579533.000000     0.000000     0.000000                     0.000000   \n",
       "25%    596484.500000     0.000000     1.000000                    12.000000   \n",
       "50%    615479.000000     0.000000     3.000000                   248.000000   \n",
       "75%    637387.250000     1.000000     5.000000                   936.000000   \n",
       "max    660737.000000     1.000000   251.000000                  2272.000000   \n",
       "\n",
       "       Page Views Per Visit  Asymmetrique Activity Score  \\\n",
       "count           9103.000000                  5022.000000   \n",
       "mean               2.362820                    14.306252   \n",
       "std                2.161418                     1.386694   \n",
       "min                0.000000                     7.000000   \n",
       "25%                1.000000                    14.000000   \n",
       "50%                2.000000                    14.000000   \n",
       "75%                3.000000                    15.000000   \n",
       "max               55.000000                    18.000000   \n",
       "\n",
       "       Asymmetrique Profile Score  \n",
       "count                 5022.000000  \n",
       "mean                    16.344883  \n",
       "std                      1.811395  \n",
       "min                     11.000000  \n",
       "25%                     15.000000  \n",
       "50%                     16.000000  \n",
       "75%                     18.000000  \n",
       "max                     20.000000  "
      ]
     },
     "execution_count": 1685,
     "metadata": {},
     "output_type": "execute_result"
    }
   ],
   "source": [
    "##DESCRIPTION OF DATA##\n",
    "data.describe()"
   ]
  },
  {
   "cell_type": "code",
   "execution_count": 1686,
   "id": "f4da5dd3",
   "metadata": {},
   "outputs": [],
   "source": [
    "###DATA CLEANING###"
   ]
  },
  {
   "cell_type": "code",
   "execution_count": 1687,
   "id": "08adf970",
   "metadata": {},
   "outputs": [],
   "source": [
    "##REMOVING - PROSPECT ID AND LEAD NUMBER COLUMNS FROM DATA##\n",
    "data .drop(['Prospect ID', 'Lead Number'], 1, inplace = True)"
   ]
  },
  {
   "cell_type": "code",
   "execution_count": 1688,
   "id": "40ecf173",
   "metadata": {},
   "outputs": [
    {
     "name": "stdout",
     "output_type": "stream",
     "text": [
      "<class 'pandas.core.frame.DataFrame'>\n",
      "RangeIndex: 9240 entries, 0 to 9239\n",
      "Data columns (total 35 columns):\n",
      " #   Column                                         Non-Null Count  Dtype  \n",
      "---  ------                                         --------------  -----  \n",
      " 0   Lead Origin                                    9240 non-null   object \n",
      " 1   Lead Source                                    9204 non-null   object \n",
      " 2   Do Not Email                                   9240 non-null   object \n",
      " 3   Do Not Call                                    9240 non-null   object \n",
      " 4   Converted                                      9240 non-null   int64  \n",
      " 5   TotalVisits                                    9103 non-null   float64\n",
      " 6   Total Time Spent on Website                    9240 non-null   int64  \n",
      " 7   Page Views Per Visit                           9103 non-null   float64\n",
      " 8   Last Activity                                  9137 non-null   object \n",
      " 9   Country                                        6779 non-null   object \n",
      " 10  Specialization                                 7802 non-null   object \n",
      " 11  How did you hear about X Education             7033 non-null   object \n",
      " 12  What is your current occupation                6550 non-null   object \n",
      " 13  What matters most to you in choosing a course  6531 non-null   object \n",
      " 14  Search                                         9240 non-null   object \n",
      " 15  Magazine                                       9240 non-null   object \n",
      " 16  Newspaper Article                              9240 non-null   object \n",
      " 17  X Education Forums                             9240 non-null   object \n",
      " 18  Newspaper                                      9240 non-null   object \n",
      " 19  Digital Advertisement                          9240 non-null   object \n",
      " 20  Through Recommendations                        9240 non-null   object \n",
      " 21  Receive More Updates About Our Courses         9240 non-null   object \n",
      " 22  Tags                                           5887 non-null   object \n",
      " 23  Lead Quality                                   4473 non-null   object \n",
      " 24  Update me on Supply Chain Content              9240 non-null   object \n",
      " 25  Get updates on DM Content                      9240 non-null   object \n",
      " 26  Lead Profile                                   6531 non-null   object \n",
      " 27  City                                           7820 non-null   object \n",
      " 28  Asymmetrique Activity Index                    5022 non-null   object \n",
      " 29  Asymmetrique Profile Index                     5022 non-null   object \n",
      " 30  Asymmetrique Activity Score                    5022 non-null   float64\n",
      " 31  Asymmetrique Profile Score                     5022 non-null   float64\n",
      " 32  I agree to pay the amount through cheque       9240 non-null   object \n",
      " 33  A free copy of Mastering The Interview         9240 non-null   object \n",
      " 34  Last Notable Activity                          9240 non-null   object \n",
      "dtypes: float64(4), int64(2), object(29)\n",
      "memory usage: 2.5+ MB\n"
     ]
    }
   ],
   "source": [
    "##CHECKING DATA FOR RESULTS##\n",
    "data.info()"
   ]
  },
  {
   "cell_type": "code",
   "execution_count": 1689,
   "id": "e1907a8b",
   "metadata": {},
   "outputs": [],
   "source": [
    "##REPLACING 'SELECT' WITH NULL VALUES##"
   ]
  },
  {
   "cell_type": "code",
   "execution_count": 1690,
   "id": "f7c16483",
   "metadata": {},
   "outputs": [
    {
     "name": "stdout",
     "output_type": "stream",
     "text": [
      "<class 'pandas.core.frame.DataFrame'>\n",
      "RangeIndex: 9240 entries, 0 to 9239\n",
      "Data columns (total 35 columns):\n",
      " #   Column                                         Non-Null Count  Dtype  \n",
      "---  ------                                         --------------  -----  \n",
      " 0   Lead Origin                                    9240 non-null   object \n",
      " 1   Lead Source                                    9204 non-null   object \n",
      " 2   Do Not Email                                   9240 non-null   object \n",
      " 3   Do Not Call                                    9240 non-null   object \n",
      " 4   Converted                                      9240 non-null   int64  \n",
      " 5   TotalVisits                                    9103 non-null   float64\n",
      " 6   Total Time Spent on Website                    9240 non-null   int64  \n",
      " 7   Page Views Per Visit                           9103 non-null   float64\n",
      " 8   Last Activity                                  9137 non-null   object \n",
      " 9   Country                                        6779 non-null   object \n",
      " 10  Specialization                                 5860 non-null   object \n",
      " 11  How did you hear about X Education             1990 non-null   object \n",
      " 12  What is your current occupation                6550 non-null   object \n",
      " 13  What matters most to you in choosing a course  6531 non-null   object \n",
      " 14  Search                                         9240 non-null   object \n",
      " 15  Magazine                                       9240 non-null   object \n",
      " 16  Newspaper Article                              9240 non-null   object \n",
      " 17  X Education Forums                             9240 non-null   object \n",
      " 18  Newspaper                                      9240 non-null   object \n",
      " 19  Digital Advertisement                          9240 non-null   object \n",
      " 20  Through Recommendations                        9240 non-null   object \n",
      " 21  Receive More Updates About Our Courses         9240 non-null   object \n",
      " 22  Tags                                           5887 non-null   object \n",
      " 23  Lead Quality                                   4473 non-null   object \n",
      " 24  Update me on Supply Chain Content              9240 non-null   object \n",
      " 25  Get updates on DM Content                      9240 non-null   object \n",
      " 26  Lead Profile                                   2385 non-null   object \n",
      " 27  City                                           5571 non-null   object \n",
      " 28  Asymmetrique Activity Index                    5022 non-null   object \n",
      " 29  Asymmetrique Profile Index                     5022 non-null   object \n",
      " 30  Asymmetrique Activity Score                    5022 non-null   float64\n",
      " 31  Asymmetrique Profile Score                     5022 non-null   float64\n",
      " 32  I agree to pay the amount through cheque       9240 non-null   object \n",
      " 33  A free copy of Mastering The Interview         9240 non-null   object \n",
      " 34  Last Notable Activity                          9240 non-null   object \n",
      "dtypes: float64(4), int64(2), object(29)\n",
      "memory usage: 2.5+ MB\n"
     ]
    }
   ],
   "source": [
    "data = data.replace('Select', np.nan)\n",
    "data.info()"
   ]
  },
  {
   "cell_type": "code",
   "execution_count": 1691,
   "id": "33381fba",
   "metadata": {},
   "outputs": [
    {
     "data": {
      "text/plain": [
       "54419"
      ]
     },
     "execution_count": 1691,
     "metadata": {},
     "output_type": "execute_result"
    }
   ],
   "source": [
    "##EXISTING NULL VALUES IN THE DATA SET##\n",
    "data.isnull().sum().sum()"
   ]
  },
  {
   "cell_type": "code",
   "execution_count": 1692,
   "id": "b0e8adf4",
   "metadata": {},
   "outputs": [
    {
     "data": {
      "text/plain": [
       "Lead Origin                                       0.000\n",
       "Lead Source                                       0.390\n",
       "Do Not Email                                      0.000\n",
       "Do Not Call                                       0.000\n",
       "Converted                                         0.000\n",
       "TotalVisits                                       1.483\n",
       "Total Time Spent on Website                       0.000\n",
       "Page Views Per Visit                              1.483\n",
       "Last Activity                                     1.115\n",
       "Country                                          26.634\n",
       "Specialization                                   36.580\n",
       "How did you hear about X Education               78.463\n",
       "What is your current occupation                  29.113\n",
       "What matters most to you in choosing a course    29.318\n",
       "Search                                            0.000\n",
       "Magazine                                          0.000\n",
       "Newspaper Article                                 0.000\n",
       "X Education Forums                                0.000\n",
       "Newspaper                                         0.000\n",
       "Digital Advertisement                             0.000\n",
       "Through Recommendations                           0.000\n",
       "Receive More Updates About Our Courses            0.000\n",
       "Tags                                             36.288\n",
       "Lead Quality                                     51.591\n",
       "Update me on Supply Chain Content                 0.000\n",
       "Get updates on DM Content                         0.000\n",
       "Lead Profile                                     74.188\n",
       "City                                             39.708\n",
       "Asymmetrique Activity Index                      45.649\n",
       "Asymmetrique Profile Index                       45.649\n",
       "Asymmetrique Activity Score                      45.649\n",
       "Asymmetrique Profile Score                       45.649\n",
       "I agree to pay the amount through cheque          0.000\n",
       "A free copy of Mastering The Interview            0.000\n",
       "Last Notable Activity                             0.000\n",
       "dtype: float64"
      ]
     },
     "execution_count": 1692,
     "metadata": {},
     "output_type": "execute_result"
    }
   ],
   "source": [
    "##RATION OF NULL VALUES##\n",
    "Null_ratio= data.isnull().sum()/len(data.index)\n",
    "Null_ratio = round(100*(Null_ratio),3)\n",
    "Null_ratio"
   ]
  },
  {
   "cell_type": "code",
   "execution_count": 1693,
   "id": "8188b13d",
   "metadata": {},
   "outputs": [],
   "source": [
    "##REMOVAL OF COLUMNS WITH 50% AND ABOVE MISSING VALUES###\n",
    "columns =data.columns\n",
    "for i in columns:\n",
    "    if((100*(data[i].isnull().sum()/len(data.index))) >= 50):\n",
    "        data.drop(i, 1, inplace = True)"
   ]
  },
  {
   "cell_type": "code",
   "execution_count": 1694,
   "id": "4ca5ce6c",
   "metadata": {},
   "outputs": [
    {
     "data": {
      "text/plain": [
       "Lead Origin                                       0.000\n",
       "Lead Source                                       0.390\n",
       "Do Not Email                                      0.000\n",
       "Do Not Call                                       0.000\n",
       "Converted                                         0.000\n",
       "TotalVisits                                       1.483\n",
       "Total Time Spent on Website                       0.000\n",
       "Page Views Per Visit                              1.483\n",
       "Last Activity                                     1.115\n",
       "Country                                          26.634\n",
       "Specialization                                   36.580\n",
       "What is your current occupation                  29.113\n",
       "What matters most to you in choosing a course    29.318\n",
       "Search                                            0.000\n",
       "Magazine                                          0.000\n",
       "Newspaper Article                                 0.000\n",
       "X Education Forums                                0.000\n",
       "Newspaper                                         0.000\n",
       "Digital Advertisement                             0.000\n",
       "Through Recommendations                           0.000\n",
       "Receive More Updates About Our Courses            0.000\n",
       "Tags                                             36.288\n",
       "Update me on Supply Chain Content                 0.000\n",
       "Get updates on DM Content                         0.000\n",
       "City                                             39.708\n",
       "Asymmetrique Activity Index                      45.649\n",
       "Asymmetrique Profile Index                       45.649\n",
       "Asymmetrique Activity Score                      45.649\n",
       "Asymmetrique Profile Score                       45.649\n",
       "I agree to pay the amount through cheque          0.000\n",
       "A free copy of Mastering The Interview            0.000\n",
       "Last Notable Activity                             0.000\n",
       "dtype: float64"
      ]
     },
     "execution_count": 1694,
     "metadata": {},
     "output_type": "execute_result"
    }
   ],
   "source": [
    "Null_ratio= data.isnull().sum()/len(data.index)\n",
    "Null_ratio = round(100*(Null_ratio),3)\n",
    "Null_ratio"
   ]
  },
  {
   "cell_type": "code",
   "execution_count": 1695,
   "id": "f6ec8b05",
   "metadata": {},
   "outputs": [],
   "source": [
    "###EXPLORATORY DATA ANALYSIS###"
   ]
  },
  {
   "cell_type": "code",
   "execution_count": 1696,
   "id": "58cede8b",
   "metadata": {},
   "outputs": [
    {
     "name": "stdout",
     "output_type": "stream",
     "text": [
      "<class 'pandas.core.frame.DataFrame'>\n",
      "RangeIndex: 9240 entries, 0 to 9239\n",
      "Data columns (total 32 columns):\n",
      " #   Column                                         Non-Null Count  Dtype  \n",
      "---  ------                                         --------------  -----  \n",
      " 0   Lead Origin                                    9240 non-null   object \n",
      " 1   Lead Source                                    9204 non-null   object \n",
      " 2   Do Not Email                                   9240 non-null   object \n",
      " 3   Do Not Call                                    9240 non-null   object \n",
      " 4   Converted                                      9240 non-null   int64  \n",
      " 5   TotalVisits                                    9103 non-null   float64\n",
      " 6   Total Time Spent on Website                    9240 non-null   int64  \n",
      " 7   Page Views Per Visit                           9103 non-null   float64\n",
      " 8   Last Activity                                  9137 non-null   object \n",
      " 9   Country                                        6779 non-null   object \n",
      " 10  Specialization                                 5860 non-null   object \n",
      " 11  What is your current occupation                6550 non-null   object \n",
      " 12  What matters most to you in choosing a course  6531 non-null   object \n",
      " 13  Search                                         9240 non-null   object \n",
      " 14  Magazine                                       9240 non-null   object \n",
      " 15  Newspaper Article                              9240 non-null   object \n",
      " 16  X Education Forums                             9240 non-null   object \n",
      " 17  Newspaper                                      9240 non-null   object \n",
      " 18  Digital Advertisement                          9240 non-null   object \n",
      " 19  Through Recommendations                        9240 non-null   object \n",
      " 20  Receive More Updates About Our Courses         9240 non-null   object \n",
      " 21  Tags                                           5887 non-null   object \n",
      " 22  Update me on Supply Chain Content              9240 non-null   object \n",
      " 23  Get updates on DM Content                      9240 non-null   object \n",
      " 24  City                                           5571 non-null   object \n",
      " 25  Asymmetrique Activity Index                    5022 non-null   object \n",
      " 26  Asymmetrique Profile Index                     5022 non-null   object \n",
      " 27  Asymmetrique Activity Score                    5022 non-null   float64\n",
      " 28  Asymmetrique Profile Score                     5022 non-null   float64\n",
      " 29  I agree to pay the amount through cheque       9240 non-null   object \n",
      " 30  A free copy of Mastering The Interview         9240 non-null   object \n",
      " 31  Last Notable Activity                          9240 non-null   object \n",
      "dtypes: float64(4), int64(2), object(26)\n",
      "memory usage: 2.3+ MB\n"
     ]
    }
   ],
   "source": [
    "##CHECKING DATA FOR MORE INFORMATION##\n",
    "data.info()"
   ]
  },
  {
   "cell_type": "code",
   "execution_count": 1697,
   "id": "a7faa326",
   "metadata": {},
   "outputs": [
    {
     "data": {
      "text/plain": [
       "India                   6492\n",
       "United States             69\n",
       "United Arab Emirates      53\n",
       "Singapore                 24\n",
       "Saudi Arabia              21\n",
       "United Kingdom            15\n",
       "Australia                 13\n",
       "Qatar                     10\n",
       "Hong Kong                  7\n",
       "Bahrain                    7\n",
       "Oman                       6\n",
       "France                     6\n",
       "unknown                    5\n",
       "South Africa               4\n",
       "Nigeria                    4\n",
       "Germany                    4\n",
       "Kuwait                     4\n",
       "Canada                     4\n",
       "Sweden                     3\n",
       "China                      2\n",
       "Asia/Pacific Region        2\n",
       "Uganda                     2\n",
       "Bangladesh                 2\n",
       "Italy                      2\n",
       "Belgium                    2\n",
       "Netherlands                2\n",
       "Ghana                      2\n",
       "Philippines                2\n",
       "Russia                     1\n",
       "Switzerland                1\n",
       "Vietnam                    1\n",
       "Denmark                    1\n",
       "Tanzania                   1\n",
       "Liberia                    1\n",
       "Malaysia                   1\n",
       "Kenya                      1\n",
       "Sri Lanka                  1\n",
       "Indonesia                  1\n",
       "Name: Country, dtype: int64"
      ]
     },
     "execution_count": 1697,
     "metadata": {},
     "output_type": "execute_result"
    }
   ],
   "source": [
    "##VALUE COUNT OF COUNTRY COLUMN##\n",
    "data['Country'].value_counts()"
   ]
  },
  {
   "cell_type": "code",
   "execution_count": 1698,
   "id": "18d5de24",
   "metadata": {},
   "outputs": [
    {
     "data": {
      "text/plain": [
       "<function matplotlib.pyplot.show(close=None, block=None)>"
      ]
     },
     "execution_count": 1698,
     "metadata": {},
     "output_type": "execute_result"
    },
    {
     "data": {
      "image/png": "[encoded data removed]",
      "text/plain": [
       "<Figure size 2000x1300 with 1 Axes>"
      ]
     },
     "metadata": {},
     "output_type": "display_data"
    }
   ],
   "source": [
    "plt.figure(figsize=(20,13))\n",
    "data.Country.value_counts(normalize=True).plot.barh()\n",
    "plt.show"
   ]
  },
  {
   "cell_type": "code",
   "execution_count": 1699,
   "id": "86c309a8",
   "metadata": {},
   "outputs": [],
   "source": [
    "##REMOVAL OF COUNTRY COLUMN##\n",
    "data.drop('Country',1,inplace=True)"
   ]
  },
  {
   "cell_type": "code",
   "execution_count": 1700,
   "id": "583245a8",
   "metadata": {},
   "outputs": [
    {
     "name": "stdout",
     "output_type": "stream",
     "text": [
      "<class 'pandas.core.frame.DataFrame'>\n",
      "RangeIndex: 9240 entries, 0 to 9239\n",
      "Data columns (total 31 columns):\n",
      " #   Column                                         Non-Null Count  Dtype  \n",
      "---  ------                                         --------------  -----  \n",
      " 0   Lead Origin                                    9240 non-null   object \n",
      " 1   Lead Source                                    9204 non-null   object \n",
      " 2   Do Not Email                                   9240 non-null   object \n",
      " 3   Do Not Call                                    9240 non-null   object \n",
      " 4   Converted                                      9240 non-null   int64  \n",
      " 5   TotalVisits                                    9103 non-null   float64\n",
      " 6   Total Time Spent on Website                    9240 non-null   int64  \n",
      " 7   Page Views Per Visit                           9103 non-null   float64\n",
      " 8   Last Activity                                  9137 non-null   object \n",
      " 9   Specialization                                 5860 non-null   object \n",
      " 10  What is your current occupation                6550 non-null   object \n",
      " 11  What matters most to you in choosing a course  6531 non-null   object \n",
      " 12  Search                                         9240 non-null   object \n",
      " 13  Magazine                                       9240 non-null   object \n",
      " 14  Newspaper Article                              9240 non-null   object \n",
      " 15  X Education Forums                             9240 non-null   object \n",
      " 16  Newspaper                                      9240 non-null   object \n",
      " 17  Digital Advertisement                          9240 non-null   object \n",
      " 18  Through Recommendations                        9240 non-null   object \n",
      " 19  Receive More Updates About Our Courses         9240 non-null   object \n",
      " 20  Tags                                           5887 non-null   object \n",
      " 21  Update me on Supply Chain Content              9240 non-null   object \n",
      " 22  Get updates on DM Content                      9240 non-null   object \n",
      " 23  City                                           5571 non-null   object \n",
      " 24  Asymmetrique Activity Index                    5022 non-null   object \n",
      " 25  Asymmetrique Profile Index                     5022 non-null   object \n",
      " 26  Asymmetrique Activity Score                    5022 non-null   float64\n",
      " 27  Asymmetrique Profile Score                     5022 non-null   float64\n",
      " 28  I agree to pay the amount through cheque       9240 non-null   object \n",
      " 29  A free copy of Mastering The Interview         9240 non-null   object \n",
      " 30  Last Notable Activity                          9240 non-null   object \n",
      "dtypes: float64(4), int64(2), object(25)\n",
      "memory usage: 2.2+ MB\n"
     ]
    }
   ],
   "source": [
    "###CHECKING DATA AGAIN###\n",
    "data.info()"
   ]
  },
  {
   "cell_type": "code",
   "execution_count": 1701,
   "id": "fa6288e3",
   "metadata": {},
   "outputs": [
    {
     "data": {
      "text/plain": [
       "NaN                            3669\n",
       "Mumbai                         3222\n",
       "Thane & Outskirts               752\n",
       "Other Cities                    686\n",
       "Other Cities of Maharashtra     457\n",
       "Other Metro Cities              380\n",
       "Tier II Cities                   74\n",
       "Name: City, dtype: int64"
      ]
     },
     "execution_count": 1701,
     "metadata": {},
     "output_type": "execute_result"
    }
   ],
   "source": [
    "###FOR CITY COLUMN###\n",
    "data['City'].value_counts(dropna=False)"
   ]
  },
  {
   "cell_type": "code",
   "execution_count": 1702,
   "id": "4de19df0",
   "metadata": {},
   "outputs": [
    {
     "data": {
      "text/plain": [
       "0    Mumbai\n",
       "Name: City, dtype: object"
      ]
     },
     "execution_count": 1702,
     "metadata": {},
     "output_type": "execute_result"
    }
   ],
   "source": [
    "data['City'].mode()"
   ]
  },
  {
   "cell_type": "code",
   "execution_count": 1703,
   "id": "1bad4e95",
   "metadata": {},
   "outputs": [],
   "source": [
    "##MUMBAI FREQUENTLY OCCURING VALUE##"
   ]
  },
  {
   "cell_type": "code",
   "execution_count": 1704,
   "id": "39169871",
   "metadata": {},
   "outputs": [],
   "source": [
    "data['City'] = data['City'].replace(np.nan,'Mumbai')"
   ]
  },
  {
   "cell_type": "code",
   "execution_count": 1705,
   "id": "cd1fa415",
   "metadata": {},
   "outputs": [
    {
     "name": "stdout",
     "output_type": "stream",
     "text": [
      "<class 'pandas.core.frame.DataFrame'>\n",
      "RangeIndex: 9240 entries, 0 to 9239\n",
      "Data columns (total 31 columns):\n",
      " #   Column                                         Non-Null Count  Dtype  \n",
      "---  ------                                         --------------  -----  \n",
      " 0   Lead Origin                                    9240 non-null   object \n",
      " 1   Lead Source                                    9204 non-null   object \n",
      " 2   Do Not Email                                   9240 non-null   object \n",
      " 3   Do Not Call                                    9240 non-null   object \n",
      " 4   Converted                                      9240 non-null   int64  \n",
      " 5   TotalVisits                                    9103 non-null   float64\n",
      " 6   Total Time Spent on Website                    9240 non-null   int64  \n",
      " 7   Page Views Per Visit                           9103 non-null   float64\n",
      " 8   Last Activity                                  9137 non-null   object \n",
      " 9   Specialization                                 5860 non-null   object \n",
      " 10  What is your current occupation                6550 non-null   object \n",
      " 11  What matters most to you in choosing a course  6531 non-null   object \n",
      " 12  Search                                         9240 non-null   object \n",
      " 13  Magazine                                       9240 non-null   object \n",
      " 14  Newspaper Article                              9240 non-null   object \n",
      " 15  X Education Forums                             9240 non-null   object \n",
      " 16  Newspaper                                      9240 non-null   object \n",
      " 17  Digital Advertisement                          9240 non-null   object \n",
      " 18  Through Recommendations                        9240 non-null   object \n",
      " 19  Receive More Updates About Our Courses         9240 non-null   object \n",
      " 20  Tags                                           5887 non-null   object \n",
      " 21  Update me on Supply Chain Content              9240 non-null   object \n",
      " 22  Get updates on DM Content                      9240 non-null   object \n",
      " 23  City                                           9240 non-null   object \n",
      " 24  Asymmetrique Activity Index                    5022 non-null   object \n",
      " 25  Asymmetrique Profile Index                     5022 non-null   object \n",
      " 26  Asymmetrique Activity Score                    5022 non-null   float64\n",
      " 27  Asymmetrique Profile Score                     5022 non-null   float64\n",
      " 28  I agree to pay the amount through cheque       9240 non-null   object \n",
      " 29  A free copy of Mastering The Interview         9240 non-null   object \n",
      " 30  Last Notable Activity                          9240 non-null   object \n",
      "dtypes: float64(4), int64(2), object(25)\n",
      "memory usage: 2.2+ MB\n"
     ]
    }
   ],
   "source": [
    "data.info()  "
   ]
  },
  {
   "cell_type": "code",
   "execution_count": 1706,
   "id": "0db8edaf",
   "metadata": {},
   "outputs": [
    {
     "data": {
      "text/plain": [
       "NaN                                  3380\n",
       "Finance Management                    976\n",
       "Human Resource Management             848\n",
       "Marketing Management                  838\n",
       "Operations Management                 503\n",
       "Business Administration               403\n",
       "IT Projects Management                366\n",
       "Supply Chain Management               349\n",
       "Banking, Investment And Insurance     338\n",
       "Travel and Tourism                    203\n",
       "Media and Advertising                 203\n",
       "International Business                178\n",
       "Healthcare Management                 159\n",
       "Hospitality Management                114\n",
       "E-COMMERCE                            112\n",
       "Retail Management                     100\n",
       "Rural and Agribusiness                 73\n",
       "E-Business                             57\n",
       "Services Excellence                    40\n",
       "Name: Specialization, dtype: int64"
      ]
     },
     "execution_count": 1706,
     "metadata": {},
     "output_type": "execute_result"
    }
   ],
   "source": [
    "##CHECKING FOR THE SPECIALIZATION COLUMN##\n",
    "data['Specialization'].value_counts(dropna=False)"
   ]
  },
  {
   "cell_type": "code",
   "execution_count": 1707,
   "id": "ae1b794d",
   "metadata": {},
   "outputs": [
    {
     "data": {
      "text/plain": [
       "Text(0.5, 1.0, 'SPECIALIZATION')"
      ]
     },
     "execution_count": 1707,
     "metadata": {},
     "output_type": "execute_result"
    },
    {
     "data": {
      "image/png": "[encoded data removed]",
      "text/plain": [
       "<Figure size 1500x700 with 1 Axes>"
      ]
     },
     "metadata": {},
     "output_type": "display_data"
    }
   ],
   "source": [
    "plt.figure(figsize=(15,7))\n",
    "data.Specialization.value_counts(normalize=True).plot.barh()\n",
    "plt.show\n",
    "plt.title(\"SPECIALIZATION\")"
   ]
  },
  {
   "cell_type": "code",
   "execution_count": 1708,
   "id": "2ec15c5c",
   "metadata": {},
   "outputs": [],
   "source": [
    "data['Specialization'] = data['Specialization'].replace(np.nan, 'Not Specified')"
   ]
  },
  {
   "cell_type": "code",
   "execution_count": 1709,
   "id": "20189077",
   "metadata": {},
   "outputs": [
    {
     "data": {
      "text/plain": [
       "Not Specified                        3380\n",
       "Finance Management                    976\n",
       "Human Resource Management             848\n",
       "Marketing Management                  838\n",
       "Operations Management                 503\n",
       "Business Administration               403\n",
       "IT Projects Management                366\n",
       "Supply Chain Management               349\n",
       "Banking, Investment And Insurance     338\n",
       "Travel and Tourism                    203\n",
       "Media and Advertising                 203\n",
       "International Business                178\n",
       "Healthcare Management                 159\n",
       "Hospitality Management                114\n",
       "E-COMMERCE                            112\n",
       "Retail Management                     100\n",
       "Rural and Agribusiness                 73\n",
       "E-Business                             57\n",
       "Services Excellence                    40\n",
       "Name: Specialization, dtype: int64"
      ]
     },
     "execution_count": 1709,
     "metadata": {},
     "output_type": "execute_result"
    }
   ],
   "source": [
    "data['Specialization'].value_counts()"
   ]
  },
  {
   "cell_type": "code",
   "execution_count": 1710,
   "id": "f61d65d7",
   "metadata": {},
   "outputs": [],
   "source": [
    "data['Specialization'] = data['Specialization'].replace(['Finance Management','Human Resource Management',\n",
    "                                                           'Marketing Management','Operations Management',\n",
    "                                                           'IT Projects Management','Supply Chain Management',\n",
    "                                                    'Healthcare Management','Hospitality Management',\n",
    "                                                           'Retail Management'] ,'Management_Specializations') "
   ]
  },
  {
   "cell_type": "code",
   "execution_count": 1711,
   "id": "b6eeb86c",
   "metadata": {},
   "outputs": [
    {
     "name": "stdout",
     "output_type": "stream",
     "text": [
      "<class 'pandas.core.frame.DataFrame'>\n",
      "RangeIndex: 9240 entries, 0 to 9239\n",
      "Data columns (total 31 columns):\n",
      " #   Column                                         Non-Null Count  Dtype  \n",
      "---  ------                                         --------------  -----  \n",
      " 0   Lead Origin                                    9240 non-null   object \n",
      " 1   Lead Source                                    9204 non-null   object \n",
      " 2   Do Not Email                                   9240 non-null   object \n",
      " 3   Do Not Call                                    9240 non-null   object \n",
      " 4   Converted                                      9240 non-null   int64  \n",
      " 5   TotalVisits                                    9103 non-null   float64\n",
      " 6   Total Time Spent on Website                    9240 non-null   int64  \n",
      " 7   Page Views Per Visit                           9103 non-null   float64\n",
      " 8   Last Activity                                  9137 non-null   object \n",
      " 9   Specialization                                 9240 non-null   object \n",
      " 10  What is your current occupation                6550 non-null   object \n",
      " 11  What matters most to you in choosing a course  6531 non-null   object \n",
      " 12  Search                                         9240 non-null   object \n",
      " 13  Magazine                                       9240 non-null   object \n",
      " 14  Newspaper Article                              9240 non-null   object \n",
      " 15  X Education Forums                             9240 non-null   object \n",
      " 16  Newspaper                                      9240 non-null   object \n",
      " 17  Digital Advertisement                          9240 non-null   object \n",
      " 18  Through Recommendations                        9240 non-null   object \n",
      " 19  Receive More Updates About Our Courses         9240 non-null   object \n",
      " 20  Tags                                           5887 non-null   object \n",
      " 21  Update me on Supply Chain Content              9240 non-null   object \n",
      " 22  Get updates on DM Content                      9240 non-null   object \n",
      " 23  City                                           9240 non-null   object \n",
      " 24  Asymmetrique Activity Index                    5022 non-null   object \n",
      " 25  Asymmetrique Profile Index                     5022 non-null   object \n",
      " 26  Asymmetrique Activity Score                    5022 non-null   float64\n",
      " 27  Asymmetrique Profile Score                     5022 non-null   float64\n",
      " 28  I agree to pay the amount through cheque       9240 non-null   object \n",
      " 29  A free copy of Mastering The Interview         9240 non-null   object \n",
      " 30  Last Notable Activity                          9240 non-null   object \n",
      "dtypes: float64(4), int64(2), object(25)\n",
      "memory usage: 2.2+ MB\n"
     ]
    }
   ],
   "source": [
    "##RECHECKING DATA##\n",
    "data.info()"
   ]
  },
  {
   "cell_type": "code",
   "execution_count": 1712,
   "id": "3a980d08",
   "metadata": {},
   "outputs": [
    {
     "data": {
      "text/plain": [
       "Unemployed              5600\n",
       "NaN                     2690\n",
       "Working Professional     706\n",
       "Student                  210\n",
       "Other                     16\n",
       "Housewife                 10\n",
       "Businessman                8\n",
       "Name: What is your current occupation, dtype: int64"
      ]
     },
     "execution_count": 1712,
     "metadata": {},
     "output_type": "execute_result"
    }
   ],
   "source": [
    "##VALUE COUNT UNDER 'WHAT IS YOUR CURRENT OCCUPATION'##\n",
    "data['What is your current occupation'].value_counts(dropna=False)"
   ]
  },
  {
   "cell_type": "code",
   "execution_count": 1713,
   "id": "295bbae9",
   "metadata": {},
   "outputs": [
    {
     "data": {
      "text/plain": [
       "Text(0.5, 1.0, 'OCCUPATION')"
      ]
     },
     "execution_count": 1713,
     "metadata": {},
     "output_type": "execute_result"
    },
    {
     "data": {
      "image/png": "[encoded data removed]",
      "text/plain": [
       "<Figure size 1500x700 with 1 Axes>"
      ]
     },
     "metadata": {},
     "output_type": "display_data"
    }
   ],
   "source": [
    "plt.figure(figsize=(15,7))\n",
    "data['What is your current occupation'].value_counts(normalize=True).plot.barh()\n",
    "plt.show\n",
    "plt.title(\"OCCUPATION\")"
   ]
  },
  {
   "cell_type": "code",
   "execution_count": 1714,
   "id": "7ca63168",
   "metadata": {},
   "outputs": [],
   "source": [
    "data['What is your current occupation'] = data['What is your current occupation'].replace(np.nan, 'Unemployed')"
   ]
  },
  {
   "cell_type": "code",
   "execution_count": 1715,
   "id": "20d4c00f",
   "metadata": {},
   "outputs": [
    {
     "data": {
      "text/plain": [
       "Unemployed              8290\n",
       "Working Professional     706\n",
       "Student                  210\n",
       "Other                     16\n",
       "Housewife                 10\n",
       "Businessman                8\n",
       "Name: What is your current occupation, dtype: int64"
      ]
     },
     "execution_count": 1715,
     "metadata": {},
     "output_type": "execute_result"
    }
   ],
   "source": [
    "data['What is your current occupation'].value_counts(dropna=False)"
   ]
  },
  {
   "cell_type": "code",
   "execution_count": 1716,
   "id": "458e8127",
   "metadata": {},
   "outputs": [
    {
     "data": {
      "text/plain": [
       "Unemployed              89.718615\n",
       "Working Professional     7.640693\n",
       "Student                  2.272727\n",
       "Other                    0.173160\n",
       "Housewife                0.108225\n",
       "Businessman              0.086580\n",
       "Name: What is your current occupation, dtype: float64"
      ]
     },
     "execution_count": 1716,
     "metadata": {},
     "output_type": "execute_result"
    }
   ],
   "source": [
    "data['What is your current occupation'].value_counts(dropna=False,normalize = True,ascending=False)*100"
   ]
  },
  {
   "cell_type": "code",
   "execution_count": 1717,
   "id": "9f4a3241",
   "metadata": {},
   "outputs": [
    {
     "name": "stdout",
     "output_type": "stream",
     "text": [
      "<class 'pandas.core.frame.DataFrame'>\n",
      "RangeIndex: 9240 entries, 0 to 9239\n",
      "Data columns (total 31 columns):\n",
      " #   Column                                         Non-Null Count  Dtype  \n",
      "---  ------                                         --------------  -----  \n",
      " 0   Lead Origin                                    9240 non-null   object \n",
      " 1   Lead Source                                    9204 non-null   object \n",
      " 2   Do Not Email                                   9240 non-null   object \n",
      " 3   Do Not Call                                    9240 non-null   object \n",
      " 4   Converted                                      9240 non-null   int64  \n",
      " 5   TotalVisits                                    9103 non-null   float64\n",
      " 6   Total Time Spent on Website                    9240 non-null   int64  \n",
      " 7   Page Views Per Visit                           9103 non-null   float64\n",
      " 8   Last Activity                                  9137 non-null   object \n",
      " 9   Specialization                                 9240 non-null   object \n",
      " 10  What is your current occupation                9240 non-null   object \n",
      " 11  What matters most to you in choosing a course  6531 non-null   object \n",
      " 12  Search                                         9240 non-null   object \n",
      " 13  Magazine                                       9240 non-null   object \n",
      " 14  Newspaper Article                              9240 non-null   object \n",
      " 15  X Education Forums                             9240 non-null   object \n",
      " 16  Newspaper                                      9240 non-null   object \n",
      " 17  Digital Advertisement                          9240 non-null   object \n",
      " 18  Through Recommendations                        9240 non-null   object \n",
      " 19  Receive More Updates About Our Courses         9240 non-null   object \n",
      " 20  Tags                                           5887 non-null   object \n",
      " 21  Update me on Supply Chain Content              9240 non-null   object \n",
      " 22  Get updates on DM Content                      9240 non-null   object \n",
      " 23  City                                           9240 non-null   object \n",
      " 24  Asymmetrique Activity Index                    5022 non-null   object \n",
      " 25  Asymmetrique Profile Index                     5022 non-null   object \n",
      " 26  Asymmetrique Activity Score                    5022 non-null   float64\n",
      " 27  Asymmetrique Profile Score                     5022 non-null   float64\n",
      " 28  I agree to pay the amount through cheque       9240 non-null   object \n",
      " 29  A free copy of Mastering The Interview         9240 non-null   object \n",
      " 30  Last Notable Activity                          9240 non-null   object \n",
      "dtypes: float64(4), int64(2), object(25)\n",
      "memory usage: 2.2+ MB\n"
     ]
    }
   ],
   "source": [
    "##CHECKING DATA INFORMATION FOR THE CHANGES##\n",
    "data.info()"
   ]
  },
  {
   "cell_type": "code",
   "execution_count": 1718,
   "id": "703119a9",
   "metadata": {},
   "outputs": [
    {
     "data": {
      "text/plain": [
       "Better Career Prospects      6528\n",
       "NaN                          2709\n",
       "Flexibility & Convenience       2\n",
       "Other                           1\n",
       "Name: What matters most to you in choosing a course, dtype: int64"
      ]
     },
     "execution_count": 1718,
     "metadata": {},
     "output_type": "execute_result"
    }
   ],
   "source": [
    "##CHECKING FOR THE VARIABLE- 'WHAT MATTERS MOST TO YOU IN CHOOSING COURSE'##\n",
    "data['What matters most to you in choosing a course'].value_counts(dropna=False)"
   ]
  },
  {
   "cell_type": "code",
   "execution_count": 1719,
   "id": "d5fdcd28",
   "metadata": {},
   "outputs": [
    {
     "data": {
      "text/plain": [
       "Better Career Prospects      70.649351\n",
       "NaN                          29.318182\n",
       "Flexibility & Convenience     0.021645\n",
       "Other                         0.010823\n",
       "Name: What matters most to you in choosing a course, dtype: float64"
      ]
     },
     "execution_count": 1719,
     "metadata": {},
     "output_type": "execute_result"
    }
   ],
   "source": [
    "data['What matters most to you in choosing a course'].value_counts(dropna=False,normalize=True)*100"
   ]
  },
  {
   "cell_type": "code",
   "execution_count": 1720,
   "id": "575bf9a5",
   "metadata": {},
   "outputs": [],
   "source": [
    "##DROPPING OF THE VARIABLE 'WHAT MATTERS MOST TO YOU IN CHOOSING COURSE'##\n",
    "data.drop('What matters most to you in choosing a course',1,inplace=True)"
   ]
  },
  {
   "cell_type": "code",
   "execution_count": 1721,
   "id": "e76886a0",
   "metadata": {},
   "outputs": [
    {
     "name": "stdout",
     "output_type": "stream",
     "text": [
      "<class 'pandas.core.frame.DataFrame'>\n",
      "RangeIndex: 9240 entries, 0 to 9239\n",
      "Data columns (total 30 columns):\n",
      " #   Column                                    Non-Null Count  Dtype  \n",
      "---  ------                                    --------------  -----  \n",
      " 0   Lead Origin                               9240 non-null   object \n",
      " 1   Lead Source                               9204 non-null   object \n",
      " 2   Do Not Email                              9240 non-null   object \n",
      " 3   Do Not Call                               9240 non-null   object \n",
      " 4   Converted                                 9240 non-null   int64  \n",
      " 5   TotalVisits                               9103 non-null   float64\n",
      " 6   Total Time Spent on Website               9240 non-null   int64  \n",
      " 7   Page Views Per Visit                      9103 non-null   float64\n",
      " 8   Last Activity                             9137 non-null   object \n",
      " 9   Specialization                            9240 non-null   object \n",
      " 10  What is your current occupation           9240 non-null   object \n",
      " 11  Search                                    9240 non-null   object \n",
      " 12  Magazine                                  9240 non-null   object \n",
      " 13  Newspaper Article                         9240 non-null   object \n",
      " 14  X Education Forums                        9240 non-null   object \n",
      " 15  Newspaper                                 9240 non-null   object \n",
      " 16  Digital Advertisement                     9240 non-null   object \n",
      " 17  Through Recommendations                   9240 non-null   object \n",
      " 18  Receive More Updates About Our Courses    9240 non-null   object \n",
      " 19  Tags                                      5887 non-null   object \n",
      " 20  Update me on Supply Chain Content         9240 non-null   object \n",
      " 21  Get updates on DM Content                 9240 non-null   object \n",
      " 22  City                                      9240 non-null   object \n",
      " 23  Asymmetrique Activity Index               5022 non-null   object \n",
      " 24  Asymmetrique Profile Index                5022 non-null   object \n",
      " 25  Asymmetrique Activity Score               5022 non-null   float64\n",
      " 26  Asymmetrique Profile Score                5022 non-null   float64\n",
      " 27  I agree to pay the amount through cheque  9240 non-null   object \n",
      " 28  A free copy of Mastering The Interview    9240 non-null   object \n",
      " 29  Last Notable Activity                     9240 non-null   object \n",
      "dtypes: float64(4), int64(2), object(24)\n",
      "memory usage: 2.1+ MB\n"
     ]
    }
   ],
   "source": [
    "##RECHECKING OF COMPLETE DATA AFTER THE PREVIOUS DROP##\n",
    "data.info()"
   ]
  },
  {
   "cell_type": "code",
   "execution_count": 1722,
   "id": "f4b3a74e",
   "metadata": {},
   "outputs": [
    {
     "data": {
      "text/plain": [
       "NaN                                                  3353\n",
       "Will revert after reading the email                  2072\n",
       "Ringing                                              1203\n",
       "Interested in other courses                           513\n",
       "Already a student                                     465\n",
       "Closed by Horizzon                                    358\n",
       "switched off                                          240\n",
       "Busy                                                  186\n",
       "Lost to EINS                                          175\n",
       "Not doing further education                           145\n",
       "Interested  in full time MBA                          117\n",
       "Graduation in progress                                111\n",
       "invalid number                                         83\n",
       "Diploma holder (Not Eligible)                          63\n",
       "wrong number given                                     47\n",
       "opp hangup                                             33\n",
       "number not provided                                    27\n",
       "in touch with EINS                                     12\n",
       "Lost to Others                                          7\n",
       "Still Thinking                                          6\n",
       "Want to take admission but has financial problems       6\n",
       "In confusion whether part time or DLP                   5\n",
       "Interested in Next batch                                5\n",
       "Lateral student                                         3\n",
       "Shall take in the next coming month                     2\n",
       "University not recognized                               2\n",
       "Recognition issue (DEC approval)                        1\n",
       "Name: Tags, dtype: int64"
      ]
     },
     "execution_count": 1722,
     "metadata": {},
     "output_type": "execute_result"
    }
   ],
   "source": [
    "##CHECKING VALUE COUNT OF 'TAGS'##\n",
    "data['Tags'].value_counts(dropna=False)"
   ]
  },
  {
   "cell_type": "code",
   "execution_count": 1723,
   "id": "fa39fb7c",
   "metadata": {},
   "outputs": [],
   "source": [
    "data['Tags'] = data['Tags'].replace(np.nan,'Not Specified')"
   ]
  },
  {
   "cell_type": "code",
   "execution_count": 1724,
   "id": "9644aab3",
   "metadata": {},
   "outputs": [],
   "source": [
    "#Since some tags have very minimal values, we can replace them as \"Other Tags\"\n",
    "data['Tags'] = data['Tags'].replace(['In confusion whether part time or DLP', 'in touch with EINS','Diploma holder (Not Eligible)',\n",
    "                                     'Approached upfront','Graduation in progress','number not provided', 'opp hangup','Still Thinking',\n",
    "                                    'Lost to Others','Shall take in the next coming month','Lateral student','Interested in Next batch',\n",
    "                                    'Recognition issue (DEC approval)','Want to take admission but has financial problems',\n",
    "                                    'University not recognized','switched off','Already a student','Not doing further education',\n",
    "                                     'invalid number','wrong number given','Interested  in full time MBA'], 'Other_Tags')"
   ]
  },
  {
   "cell_type": "code",
   "execution_count": 1725,
   "id": "8ed3a734",
   "metadata": {},
   "outputs": [
    {
     "name": "stdout",
     "output_type": "stream",
     "text": [
      "<class 'pandas.core.frame.DataFrame'>\n",
      "RangeIndex: 9240 entries, 0 to 9239\n",
      "Data columns (total 30 columns):\n",
      " #   Column                                    Non-Null Count  Dtype  \n",
      "---  ------                                    --------------  -----  \n",
      " 0   Lead Origin                               9240 non-null   object \n",
      " 1   Lead Source                               9204 non-null   object \n",
      " 2   Do Not Email                              9240 non-null   object \n",
      " 3   Do Not Call                               9240 non-null   object \n",
      " 4   Converted                                 9240 non-null   int64  \n",
      " 5   TotalVisits                               9103 non-null   float64\n",
      " 6   Total Time Spent on Website               9240 non-null   int64  \n",
      " 7   Page Views Per Visit                      9103 non-null   float64\n",
      " 8   Last Activity                             9137 non-null   object \n",
      " 9   Specialization                            9240 non-null   object \n",
      " 10  What is your current occupation           9240 non-null   object \n",
      " 11  Search                                    9240 non-null   object \n",
      " 12  Magazine                                  9240 non-null   object \n",
      " 13  Newspaper Article                         9240 non-null   object \n",
      " 14  X Education Forums                        9240 non-null   object \n",
      " 15  Newspaper                                 9240 non-null   object \n",
      " 16  Digital Advertisement                     9240 non-null   object \n",
      " 17  Through Recommendations                   9240 non-null   object \n",
      " 18  Receive More Updates About Our Courses    9240 non-null   object \n",
      " 19  Tags                                      9240 non-null   object \n",
      " 20  Update me on Supply Chain Content         9240 non-null   object \n",
      " 21  Get updates on DM Content                 9240 non-null   object \n",
      " 22  City                                      9240 non-null   object \n",
      " 23  Asymmetrique Activity Index               5022 non-null   object \n",
      " 24  Asymmetrique Profile Index                5022 non-null   object \n",
      " 25  Asymmetrique Activity Score               5022 non-null   float64\n",
      " 26  Asymmetrique Profile Score                5022 non-null   float64\n",
      " 27  I agree to pay the amount through cheque  9240 non-null   object \n",
      " 28  A free copy of Mastering The Interview    9240 non-null   object \n",
      " 29  Last Notable Activity                     9240 non-null   object \n",
      "dtypes: float64(4), int64(2), object(24)\n",
      "memory usage: 2.1+ MB\n"
     ]
    }
   ],
   "source": [
    "# Rechecking the Data\n",
    "data.info()"
   ]
  },
  {
   "cell_type": "code",
   "execution_count": 1726,
   "id": "6b05a272",
   "metadata": {},
   "outputs": [
    {
     "data": {
      "text/plain": [
       "Lead Origin                                    0\n",
       "Lead Source                                   36\n",
       "Do Not Email                                   0\n",
       "Do Not Call                                    0\n",
       "Converted                                      0\n",
       "TotalVisits                                  137\n",
       "Total Time Spent on Website                    0\n",
       "Page Views Per Visit                         137\n",
       "Last Activity                                103\n",
       "Specialization                                 0\n",
       "What is your current occupation                0\n",
       "Search                                         0\n",
       "Magazine                                       0\n",
       "Newspaper Article                              0\n",
       "X Education Forums                             0\n",
       "Newspaper                                      0\n",
       "Digital Advertisement                          0\n",
       "Through Recommendations                        0\n",
       "Receive More Updates About Our Courses         0\n",
       "Tags                                           0\n",
       "Update me on Supply Chain Content              0\n",
       "Get updates on DM Content                      0\n",
       "City                                           0\n",
       "Asymmetrique Activity Index                 4218\n",
       "Asymmetrique Profile Index                  4218\n",
       "Asymmetrique Activity Score                 4218\n",
       "Asymmetrique Profile Score                  4218\n",
       "I agree to pay the amount through cheque       0\n",
       "A free copy of Mastering The Interview         0\n",
       "Last Notable Activity                          0\n",
       "dtype: int64"
      ]
     },
     "execution_count": 1726,
     "metadata": {},
     "output_type": "execute_result"
    }
   ],
   "source": [
    "##ANALYSING NULL VALUES IN THE GIVEN DATA##\n",
    "data.isnull().sum()"
   ]
  },
  {
   "cell_type": "code",
   "execution_count": 1727,
   "id": "e4dd07a7",
   "metadata": {},
   "outputs": [
    {
     "data": {
      "text/plain": [
       "Google               2868\n",
       "Direct Traffic       2543\n",
       "Olark Chat           1755\n",
       "Organic Search       1154\n",
       "Reference             534\n",
       "Welingak Website      142\n",
       "Referral Sites        125\n",
       "Facebook               55\n",
       "NaN                    36\n",
       "bing                    6\n",
       "google                  5\n",
       "Click2call              4\n",
       "Press_Release           2\n",
       "Social Media            2\n",
       "Live Chat               2\n",
       "youtubechannel          1\n",
       "testone                 1\n",
       "Pay per Click Ads       1\n",
       "welearnblog_Home        1\n",
       "WeLearn                 1\n",
       "blog                    1\n",
       "NC_EDM                  1\n",
       "Name: Lead Source, dtype: int64"
      ]
     },
     "execution_count": 1727,
     "metadata": {},
     "output_type": "execute_result"
    }
   ],
   "source": [
    "##VALUE COUNT FOR 'LEAD SOURCE##'\n",
    "data['Lead Source'].value_counts(dropna=False)"
   ]
  },
  {
   "cell_type": "code",
   "execution_count": 1728,
   "id": "e173d4f6",
   "metadata": {},
   "outputs": [
    {
     "data": {
      "text/plain": [
       "Text(0.5, 1.0, 'LEAD SOURCE')"
      ]
     },
     "execution_count": 1728,
     "metadata": {},
     "output_type": "execute_result"
    },
    {
     "data": {
      "image/png": "[encoded data removed]",
      "text/plain": [
       "<Figure size 1000x700 with 1 Axes>"
      ]
     },
     "metadata": {},
     "output_type": "display_data"
    }
   ],
   "source": [
    "plt.figure(figsize=(10,7))\n",
    "data['Lead Source'].value_counts(normalize=True).plot.barh()\n",
    "plt.show\n",
    "plt.title(\"LEAD SOURCE\")"
   ]
  },
  {
   "cell_type": "code",
   "execution_count": 1729,
   "id": "6a5b62a0",
   "metadata": {},
   "outputs": [],
   "source": [
    "data['Lead Source'] = data['Lead Source'].replace(np.nan,'Others')"
   ]
  },
  {
   "cell_type": "code",
   "execution_count": 1730,
   "id": "0dbe283d",
   "metadata": {},
   "outputs": [
    {
     "data": {
      "text/plain": [
       "Email Opened                    3437\n",
       "SMS Sent                        2745\n",
       "Olark Chat Conversation          973\n",
       "Page Visited on Website          640\n",
       "Converted to Lead                428\n",
       "Email Bounced                    326\n",
       "Email Link Clicked               267\n",
       "Form Submitted on Website        116\n",
       "NaN                              103\n",
       "Unreachable                       93\n",
       "Unsubscribed                      61\n",
       "Had a Phone Conversation          30\n",
       "Approached upfront                 9\n",
       "View in browser link Clicked       6\n",
       "Email Received                     2\n",
       "Email Marked Spam                  2\n",
       "Visited Booth in Tradeshow         1\n",
       "Resubscribed to emails             1\n",
       "Name: Last Activity, dtype: int64"
      ]
     },
     "execution_count": 1730,
     "metadata": {},
     "output_type": "execute_result"
    }
   ],
   "source": [
    "##GETTING AN OVERALL IDEA OF 'LAST ACTIVITY  VARIABLE'- VALUE COUNT\n",
    "data['Last Activity'].value_counts(dropna=False)"
   ]
  },
  {
   "cell_type": "code",
   "execution_count": 1731,
   "id": "077339d0",
   "metadata": {},
   "outputs": [
    {
     "data": {
      "text/plain": [
       "Email Opened                    37.196970\n",
       "SMS Sent                        29.707792\n",
       "Olark Chat Conversation         10.530303\n",
       "Page Visited on Website          6.926407\n",
       "Converted to Lead                4.632035\n",
       "Email Bounced                    3.528139\n",
       "Email Link Clicked               2.889610\n",
       "Form Submitted on Website        1.255411\n",
       "NaN                              1.114719\n",
       "Unreachable                      1.006494\n",
       "Unsubscribed                     0.660173\n",
       "Had a Phone Conversation         0.324675\n",
       "Approached upfront               0.097403\n",
       "View in browser link Clicked     0.064935\n",
       "Email Received                   0.021645\n",
       "Email Marked Spam                0.021645\n",
       "Visited Booth in Tradeshow       0.010823\n",
       "Resubscribed to emails           0.010823\n",
       "Name: Last Activity, dtype: float64"
      ]
     },
     "execution_count": 1731,
     "metadata": {},
     "output_type": "execute_result"
    }
   ],
   "source": [
    "data['Last Activity'].value_counts(dropna=False, normalize = True)*100"
   ]
  },
  {
   "cell_type": "code",
   "execution_count": 1732,
   "id": "84e70b50",
   "metadata": {},
   "outputs": [
    {
     "data": {
      "text/plain": [
       "Text(0.5, 1.0, 'LAST ACTIVITY')"
      ]
     },
     "execution_count": 1732,
     "metadata": {},
     "output_type": "execute_result"
    },
    {
     "data": {
      "image/png": "[encoded data removed]",
      "text/plain": [
       "<Figure size 900x600 with 1 Axes>"
      ]
     },
     "metadata": {},
     "output_type": "display_data"
    }
   ],
   "source": [
    "plt.figure(figsize=(9,6))\n",
    "data['Last Activity'].value_counts(normalize=True).plot.barh()\n",
    "plt.show\n",
    "plt.title(\"LAST ACTIVITY\")"
   ]
  },
  {
   "cell_type": "code",
   "execution_count": 1733,
   "id": "def2069f",
   "metadata": {},
   "outputs": [],
   "source": [
    "##CONVERSION OF NULL VALUES TO 'OTHERS'\n",
    "data['Last Activity'] = data['Last Activity'].replace(np.nan,'Others')"
   ]
  },
  {
   "cell_type": "code",
   "execution_count": 1734,
   "id": "521e911d",
   "metadata": {},
   "outputs": [],
   "source": [
    "data['Last Activity'] = data['Last Activity'].replace(['Unreachable','Unsubscribed',\n",
    "                                                        'Had a Phone Conversation', \n",
    "                                                        'Approached upfront',\n",
    "                                                        'View in browser link Clicked',       \n",
    "                                                        'Email Marked Spam',                  \n",
    "                                                        'Email Received','Resubscribed to emails',\n",
    "                                                         'Visited Booth in Tradeshow'],'Others')"
   ]
  },
  {
   "cell_type": "code",
   "execution_count": 1735,
   "id": "10d69cb5",
   "metadata": {},
   "outputs": [
    {
     "data": {
      "text/plain": [
       "Email Opened                 3437\n",
       "SMS Sent                     2745\n",
       "Olark Chat Conversation       973\n",
       "Page Visited on Website       640\n",
       "Converted to Lead             428\n",
       "Email Bounced                 326\n",
       "Others                        308\n",
       "Email Link Clicked            267\n",
       "Form Submitted on Website     116\n",
       "Name: Last Activity, dtype: int64"
      ]
     },
     "execution_count": 1735,
     "metadata": {},
     "output_type": "execute_result"
    }
   ],
   "source": [
    "data['Last Activity'].value_counts(dropna=False)"
   ]
  },
  {
   "cell_type": "code",
   "execution_count": 1736,
   "id": "631e1e9a",
   "metadata": {},
   "outputs": [
    {
     "name": "stdout",
     "output_type": "stream",
     "text": [
      "<class 'pandas.core.frame.DataFrame'>\n",
      "RangeIndex: 9240 entries, 0 to 9239\n",
      "Data columns (total 30 columns):\n",
      " #   Column                                    Non-Null Count  Dtype  \n",
      "---  ------                                    --------------  -----  \n",
      " 0   Lead Origin                               9240 non-null   object \n",
      " 1   Lead Source                               9240 non-null   object \n",
      " 2   Do Not Email                              9240 non-null   object \n",
      " 3   Do Not Call                               9240 non-null   object \n",
      " 4   Converted                                 9240 non-null   int64  \n",
      " 5   TotalVisits                               9103 non-null   float64\n",
      " 6   Total Time Spent on Website               9240 non-null   int64  \n",
      " 7   Page Views Per Visit                      9103 non-null   float64\n",
      " 8   Last Activity                             9240 non-null   object \n",
      " 9   Specialization                            9240 non-null   object \n",
      " 10  What is your current occupation           9240 non-null   object \n",
      " 11  Search                                    9240 non-null   object \n",
      " 12  Magazine                                  9240 non-null   object \n",
      " 13  Newspaper Article                         9240 non-null   object \n",
      " 14  X Education Forums                        9240 non-null   object \n",
      " 15  Newspaper                                 9240 non-null   object \n",
      " 16  Digital Advertisement                     9240 non-null   object \n",
      " 17  Through Recommendations                   9240 non-null   object \n",
      " 18  Receive More Updates About Our Courses    9240 non-null   object \n",
      " 19  Tags                                      9240 non-null   object \n",
      " 20  Update me on Supply Chain Content         9240 non-null   object \n",
      " 21  Get updates on DM Content                 9240 non-null   object \n",
      " 22  City                                      9240 non-null   object \n",
      " 23  Asymmetrique Activity Index               5022 non-null   object \n",
      " 24  Asymmetrique Profile Index                5022 non-null   object \n",
      " 25  Asymmetrique Activity Score               5022 non-null   float64\n",
      " 26  Asymmetrique Profile Score                5022 non-null   float64\n",
      " 27  I agree to pay the amount through cheque  9240 non-null   object \n",
      " 28  A free copy of Mastering The Interview    9240 non-null   object \n",
      " 29  Last Notable Activity                     9240 non-null   object \n",
      "dtypes: float64(4), int64(2), object(24)\n",
      "memory usage: 2.1+ MB\n"
     ]
    }
   ],
   "source": [
    "##RECHECKKING THE DATA AFTER CHANGES##\n",
    "data.info()"
   ]
  },
  {
   "cell_type": "code",
   "execution_count": 1737,
   "id": "cbc43611",
   "metadata": {},
   "outputs": [
    {
     "data": {
      "text/plain": [
       "Lead Origin                                  0.000\n",
       "Lead Source                                  0.000\n",
       "Do Not Email                                 0.000\n",
       "Do Not Call                                  0.000\n",
       "Converted                                    0.000\n",
       "TotalVisits                                  1.483\n",
       "Total Time Spent on Website                  0.000\n",
       "Page Views Per Visit                         1.483\n",
       "Last Activity                                0.000\n",
       "Specialization                               0.000\n",
       "What is your current occupation              0.000\n",
       "Search                                       0.000\n",
       "Magazine                                     0.000\n",
       "Newspaper Article                            0.000\n",
       "X Education Forums                           0.000\n",
       "Newspaper                                    0.000\n",
       "Digital Advertisement                        0.000\n",
       "Through Recommendations                      0.000\n",
       "Receive More Updates About Our Courses       0.000\n",
       "Tags                                         0.000\n",
       "Update me on Supply Chain Content            0.000\n",
       "Get updates on DM Content                    0.000\n",
       "City                                         0.000\n",
       "Asymmetrique Activity Index                 45.649\n",
       "Asymmetrique Profile Index                  45.649\n",
       "Asymmetrique Activity Score                 45.649\n",
       "Asymmetrique Profile Score                  45.649\n",
       "I agree to pay the amount through cheque     0.000\n",
       "A free copy of Mastering The Interview       0.000\n",
       "Last Notable Activity                        0.000\n",
       "dtype: float64"
      ]
     },
     "execution_count": 1737,
     "metadata": {},
     "output_type": "execute_result"
    }
   ],
   "source": [
    "##SEEING FOR NA VALUES IN THE GIVEN SET##\n",
    "Null_ratio= data.isnull().sum()/len(data.index)\n",
    "Null_ratio = round(100*(Null_ratio),3)\n",
    "Null_ratio\n"
   ]
  },
  {
   "cell_type": "code",
   "execution_count": 1738,
   "id": "2efe5a3c",
   "metadata": {},
   "outputs": [],
   "source": [
    "##DROPPING OF UNNECESSARY NA VALUES##\n",
    "data = data.dropna()"
   ]
  },
  {
   "cell_type": "code",
   "execution_count": 1739,
   "id": "a91f9ba3",
   "metadata": {},
   "outputs": [
    {
     "data": {
      "text/plain": [
       "Landing Page Submission    2572\n",
       "API                        2030\n",
       "Lead Add Form               302\n",
       "Lead Import                  31\n",
       "Name: Lead Origin, dtype: int64"
      ]
     },
     "execution_count": 1739,
     "metadata": {},
     "output_type": "execute_result"
    }
   ],
   "source": [
    "##CHECKING FOR THE LEAD ORIGIN DATA FOR VALUE COUNTS##\n",
    "data['Lead Origin'].value_counts(dropna=False)\n"
   ]
  },
  {
   "cell_type": "code",
   "execution_count": 1740,
   "id": "23d1034f",
   "metadata": {},
   "outputs": [
    {
     "data": {
      "text/plain": [
       "No     4933\n",
       "Yes       2\n",
       "Name: Do Not Call, dtype: int64"
      ]
     },
     "execution_count": 1740,
     "metadata": {},
     "output_type": "execute_result"
    }
   ],
   "source": [
    "##CHECKING VALUE COUNT OF 'DO NOT CALL'##\n",
    "data['Do Not Call'].value_counts(dropna=False)"
   ]
  },
  {
   "cell_type": "code",
   "execution_count": 1741,
   "id": "b413a56a",
   "metadata": {},
   "outputs": [],
   "source": [
    "##DROPPING OF 'DO NOT CALL'##\n",
    "data.drop(\"Do Not Call\", 1, inplace=True)"
   ]
  },
  {
   "cell_type": "code",
   "execution_count": 1742,
   "id": "ccc1726f",
   "metadata": {},
   "outputs": [
    {
     "name": "stdout",
     "output_type": "stream",
     "text": [
      "<class 'pandas.core.frame.DataFrame'>\n",
      "Int64Index: 4935 entries, 0 to 9239\n",
      "Data columns (total 29 columns):\n",
      " #   Column                                    Non-Null Count  Dtype  \n",
      "---  ------                                    --------------  -----  \n",
      " 0   Lead Origin                               4935 non-null   object \n",
      " 1   Lead Source                               4935 non-null   object \n",
      " 2   Do Not Email                              4935 non-null   object \n",
      " 3   Converted                                 4935 non-null   int64  \n",
      " 4   TotalVisits                               4935 non-null   float64\n",
      " 5   Total Time Spent on Website               4935 non-null   int64  \n",
      " 6   Page Views Per Visit                      4935 non-null   float64\n",
      " 7   Last Activity                             4935 non-null   object \n",
      " 8   Specialization                            4935 non-null   object \n",
      " 9   What is your current occupation           4935 non-null   object \n",
      " 10  Search                                    4935 non-null   object \n",
      " 11  Magazine                                  4935 non-null   object \n",
      " 12  Newspaper Article                         4935 non-null   object \n",
      " 13  X Education Forums                        4935 non-null   object \n",
      " 14  Newspaper                                 4935 non-null   object \n",
      " 15  Digital Advertisement                     4935 non-null   object \n",
      " 16  Through Recommendations                   4935 non-null   object \n",
      " 17  Receive More Updates About Our Courses    4935 non-null   object \n",
      " 18  Tags                                      4935 non-null   object \n",
      " 19  Update me on Supply Chain Content         4935 non-null   object \n",
      " 20  Get updates on DM Content                 4935 non-null   object \n",
      " 21  City                                      4935 non-null   object \n",
      " 22  Asymmetrique Activity Index               4935 non-null   object \n",
      " 23  Asymmetrique Profile Index                4935 non-null   object \n",
      " 24  Asymmetrique Activity Score               4935 non-null   float64\n",
      " 25  Asymmetrique Profile Score                4935 non-null   float64\n",
      " 26  I agree to pay the amount through cheque  4935 non-null   object \n",
      " 27  A free copy of Mastering The Interview    4935 non-null   object \n",
      " 28  Last Notable Activity                     4935 non-null   object \n",
      "dtypes: float64(4), int64(2), object(23)\n",
      "memory usage: 1.1+ MB\n"
     ]
    }
   ],
   "source": [
    "##RECHECKING THE DATA AFTER CHANGES##\n",
    "data.info()"
   ]
  },
  {
   "cell_type": "code",
   "execution_count": 1743,
   "id": "05ca2758",
   "metadata": {},
   "outputs": [
    {
     "data": {
      "text/plain": [
       "No     4584\n",
       "Yes     351\n",
       "Name: Do Not Email, dtype: int64"
      ]
     },
     "execution_count": 1743,
     "metadata": {},
     "output_type": "execute_result"
    }
   ],
   "source": [
    "##VALUE COUNT OF 'DO NOT EMAIL'##\n",
    "data['Do Not Email'].value_counts(dropna=False)"
   ]
  },
  {
   "cell_type": "code",
   "execution_count": 1744,
   "id": "3f83dff3",
   "metadata": {},
   "outputs": [
    {
     "data": {
      "text/plain": [
       "No     92.887538\n",
       "Yes     7.112462\n",
       "Name: Do Not Email, dtype: float64"
      ]
     },
     "execution_count": 1744,
     "metadata": {},
     "output_type": "execute_result"
    }
   ],
   "source": [
    "data['Do Not Email'].value_counts(dropna=False, normalize = True)*100"
   ]
  },
  {
   "cell_type": "code",
   "execution_count": 1745,
   "id": "c66192fc",
   "metadata": {},
   "outputs": [],
   "source": [
    "##CHECKING IF CATEGORICAL COLUMNS CAN BE DROPPED##\n",
    "Check_cat_var = (['Search','Magazine','Newspaper Article','X Education Forums','Newspaper',\n",
    "                 'Digital Advertisement','Through Recommendations','Receive More Updates About Our Courses',\n",
    "                 'Update me on Supply Chain Content',\n",
    "                 'Get updates on DM Content','I agree to pay the amount through cheque'])"
   ]
  },
  {
   "cell_type": "code",
   "execution_count": 1746,
   "id": "30b26169",
   "metadata": {},
   "outputs": [
    {
     "name": "stdout",
     "output_type": "stream",
     "text": [
      "Search\n",
      "No     4928\n",
      "Yes       7\n",
      "Name: Search, dtype: int64\n",
      "**************************************\n",
      "Magazine\n",
      "No    4935\n",
      "Name: Magazine, dtype: int64\n",
      "**************************************\n",
      "Newspaper Article\n",
      "No     4934\n",
      "Yes       1\n",
      "Name: Newspaper Article, dtype: int64\n",
      "**************************************\n",
      "X Education Forums\n",
      "No    4935\n",
      "Name: X Education Forums, dtype: int64\n",
      "**************************************\n",
      "Newspaper\n",
      "No    4935\n",
      "Name: Newspaper, dtype: int64\n",
      "**************************************\n",
      "Digital Advertisement\n",
      "No     4933\n",
      "Yes       2\n",
      "Name: Digital Advertisement, dtype: int64\n",
      "**************************************\n",
      "Through Recommendations\n",
      "No     4932\n",
      "Yes       3\n",
      "Name: Through Recommendations, dtype: int64\n",
      "**************************************\n",
      "Receive More Updates About Our Courses\n",
      "No    4935\n",
      "Name: Receive More Updates About Our Courses, dtype: int64\n",
      "**************************************\n",
      "Update me on Supply Chain Content\n",
      "No    4935\n",
      "Name: Update me on Supply Chain Content, dtype: int64\n",
      "**************************************\n",
      "Get updates on DM Content\n",
      "No    4935\n",
      "Name: Get updates on DM Content, dtype: int64\n",
      "**************************************\n",
      "I agree to pay the amount through cheque\n",
      "No    4935\n",
      "Name: I agree to pay the amount through cheque, dtype: int64\n",
      "**************************************\n"
     ]
    }
   ],
   "source": [
    "for i in Check_cat_var:\n",
    "    print(i)\n",
    "    print(data[i].value_counts(dropna=False))\n",
    "    print(\"**************************************\")"
   ]
  },
  {
   "cell_type": "code",
   "execution_count": 1747,
   "id": "a95415cb",
   "metadata": {},
   "outputs": [
    {
     "data": {
      "text/plain": [
       "Modified                    2103\n",
       "Email Opened                1562\n",
       "SMS Sent                     821\n",
       "Page Visited on Website      156\n",
       "Email Link Clicked           101\n",
       "Olark Chat Conversation       98\n",
       "Email Bounced                 31\n",
       "Unsubscribed                  24\n",
       "Unreachable                   23\n",
       "Had a Phone Conversation      12\n",
       "Email Marked Spam              2\n",
       "Approached upfront             1\n",
       "Email Received                 1\n",
       "Name: Last Notable Activity, dtype: int64"
      ]
     },
     "execution_count": 1747,
     "metadata": {},
     "output_type": "execute_result"
    }
   ],
   "source": [
    "##VALUE COUNT FOR 'LAST NOTABLE ACTIVITY'##\n",
    "data ['Last Notable Activity'].value_counts()"
   ]
  },
  {
   "cell_type": "code",
   "execution_count": 1748,
   "id": "7df1c5c4",
   "metadata": {},
   "outputs": [],
   "source": [
    "##CONSOLIDATION OF CATEGORIES HAVING LESS THAN 1% OF OCCURANCE ON 'LAST NOTABLE ACTIVITY'##\n",
    "data['Last Notable Activity'] = data['Last Notable Activity'].replace(['Had a Phone Conversation','Email Marked Spam',\n",
    "                                                                       'Unreachable','Unsubscribed','Email Bounced',\n",
    "                                                                       'Resubscribed to emails','View in browser link Clicked',\n",
    "                                                                       'Approached upfront', 'Form Submitted on Website',\n",
    "                                                                       'Email Received'],'Other_Notable_activity')"
   ]
  },
  {
   "cell_type": "code",
   "execution_count": 1749,
   "id": "24f88eaf",
   "metadata": {},
   "outputs": [
    {
     "data": {
      "text/plain": [
       "Modified                   2103\n",
       "Email Opened               1562\n",
       "SMS Sent                    821\n",
       "Page Visited on Website     156\n",
       "Email Link Clicked          101\n",
       "Olark Chat Conversation      98\n",
       "Other_Notable_activity       94\n",
       "Name: Last Notable Activity, dtype: int64"
      ]
     },
     "execution_count": 1749,
     "metadata": {},
     "output_type": "execute_result"
    }
   ],
   "source": [
    "##VALUE COUNTS FOR 'LAST NOTABLE ACTIVITY'##\n",
    "data['Last Notable Activity'].value_counts()"
   ]
  },
  {
   "cell_type": "code",
   "execution_count": 1750,
   "id": "1d74b2a3",
   "metadata": {},
   "outputs": [
    {
     "data": {
      "text/plain": [
       "Modified                   42.613982\n",
       "Email Opened               31.651469\n",
       "SMS Sent                   16.636272\n",
       "Page Visited on Website     3.161094\n",
       "Email Link Clicked          2.046606\n",
       "Olark Chat Conversation     1.985816\n",
       "Other_Notable_activity      1.904762\n",
       "Name: Last Notable Activity, dtype: float64"
      ]
     },
     "execution_count": 1750,
     "metadata": {},
     "output_type": "execute_result"
    }
   ],
   "source": [
    "data['Last Notable Activity'].value_counts(normalize = True)* 100"
   ]
  },
  {
   "cell_type": "code",
   "execution_count": 1751,
   "id": "bf23f305",
   "metadata": {},
   "outputs": [
    {
     "name": "stdout",
     "output_type": "stream",
     "text": [
      "<class 'pandas.core.frame.DataFrame'>\n",
      "Int64Index: 4935 entries, 0 to 9239\n",
      "Data columns (total 29 columns):\n",
      " #   Column                                    Non-Null Count  Dtype  \n",
      "---  ------                                    --------------  -----  \n",
      " 0   Lead Origin                               4935 non-null   object \n",
      " 1   Lead Source                               4935 non-null   object \n",
      " 2   Do Not Email                              4935 non-null   object \n",
      " 3   Converted                                 4935 non-null   int64  \n",
      " 4   TotalVisits                               4935 non-null   float64\n",
      " 5   Total Time Spent on Website               4935 non-null   int64  \n",
      " 6   Page Views Per Visit                      4935 non-null   float64\n",
      " 7   Last Activity                             4935 non-null   object \n",
      " 8   Specialization                            4935 non-null   object \n",
      " 9   What is your current occupation           4935 non-null   object \n",
      " 10  Search                                    4935 non-null   object \n",
      " 11  Magazine                                  4935 non-null   object \n",
      " 12  Newspaper Article                         4935 non-null   object \n",
      " 13  X Education Forums                        4935 non-null   object \n",
      " 14  Newspaper                                 4935 non-null   object \n",
      " 15  Digital Advertisement                     4935 non-null   object \n",
      " 16  Through Recommendations                   4935 non-null   object \n",
      " 17  Receive More Updates About Our Courses    4935 non-null   object \n",
      " 18  Tags                                      4935 non-null   object \n",
      " 19  Update me on Supply Chain Content         4935 non-null   object \n",
      " 20  Get updates on DM Content                 4935 non-null   object \n",
      " 21  City                                      4935 non-null   object \n",
      " 22  Asymmetrique Activity Index               4935 non-null   object \n",
      " 23  Asymmetrique Profile Index                4935 non-null   object \n",
      " 24  Asymmetrique Activity Score               4935 non-null   float64\n",
      " 25  Asymmetrique Profile Score                4935 non-null   float64\n",
      " 26  I agree to pay the amount through cheque  4935 non-null   object \n",
      " 27  A free copy of Mastering The Interview    4935 non-null   object \n",
      " 28  Last Notable Activity                     4935 non-null   object \n",
      "dtypes: float64(4), int64(2), object(23)\n",
      "memory usage: 1.1+ MB\n"
     ]
    }
   ],
   "source": [
    "##RE-CHECKING OF DATA##\n",
    "data.info()"
   ]
  },
  {
   "cell_type": "code",
   "execution_count": 1752,
   "id": "4e30c657",
   "metadata": {},
   "outputs": [
    {
     "data": {
      "text/plain": [
       "0    3082\n",
       "1    1853\n",
       "Name: Converted, dtype: int64"
      ]
     },
     "execution_count": 1752,
     "metadata": {},
     "output_type": "execute_result"
    }
   ],
   "source": [
    "##ANALYSIS OF NUMERICAL VARIABLES##\n",
    "data['Converted'].value_counts()"
   ]
  },
  {
   "cell_type": "code",
   "execution_count": 1753,
   "id": "88e75921",
   "metadata": {},
   "outputs": [
    {
     "data": {
      "text/plain": [
       "0    62.451874\n",
       "1    37.548126\n",
       "Name: Converted, dtype: float64"
      ]
     },
     "execution_count": 1753,
     "metadata": {},
     "output_type": "execute_result"
    }
   ],
   "source": [
    "data['Converted'].value_counts(normalize=True)*100"
   ]
  },
  {
   "cell_type": "code",
   "execution_count": 1754,
   "id": "e3c20a31",
   "metadata": {},
   "outputs": [
    {
     "data": {
      "image/png": "[encoded data removed]",
      "text/plain": [
       "<Figure size 1500x700 with 2 Axes>"
      ]
     },
     "metadata": {},
     "output_type": "display_data"
    }
   ],
   "source": [
    "##VISUALIZATION##\n",
    "plt.figure(figsize=(15,7))\n",
    "sns.heatmap(data.corr(), cmap=\"Reds\", annot=True)\n",
    "plt.title(\"NUMERICAL VARIABLES\",fontsize=16)\n",
    "plt.show()"
   ]
  },
  {
   "cell_type": "code",
   "execution_count": 1755,
   "id": "92fd122e",
   "metadata": {},
   "outputs": [
    {
     "data": {
      "text/plain": [
       "count    4935.000000\n",
       "mean      489.623100\n",
       "std       547.324076\n",
       "min         0.000000\n",
       "25%        16.000000\n",
       "50%       253.000000\n",
       "75%       932.500000\n",
       "max      2253.000000\n",
       "Name: Total Time Spent on Website, dtype: float64"
      ]
     },
     "execution_count": 1755,
     "metadata": {},
     "output_type": "execute_result"
    }
   ],
   "source": [
    "##FOR 'TOTAL TIME SPENT ON WEBSITE'\n",
    "data['Total Time Spent on Website'].describe()"
   ]
  },
  {
   "cell_type": "code",
   "execution_count": 1756,
   "id": "08326f4e",
   "metadata": {},
   "outputs": [
    {
     "data": {
      "image/png": "[encoded data removed]",
      "text/plain": [
       "<Figure size 1000x500 with 1 Axes>"
      ]
     },
     "metadata": {},
     "output_type": "display_data"
    },
    {
     "name": "stdout",
     "output_type": "stream",
     "text": [
      "Median is  253.0\n"
     ]
    }
   ],
   "source": [
    "##CHECKING FOR OUTLIERS##\n",
    "plt.figure(figsize=(10,5))\n",
    "sns.boxplot(x=data['Total Time Spent on Website'])\n",
    "plt.title('Outliers for Total Time Spent on Website')\n",
    "plt.show()\n",
    "print ('Median is ', data['Total Time Spent on Website'].median())"
   ]
  },
  {
   "cell_type": "code",
   "execution_count": 1757,
   "id": "256744b7",
   "metadata": {},
   "outputs": [
    {
     "data": {
      "text/plain": [
       "count    4935.000000\n",
       "mean        3.554813\n",
       "std         4.199352\n",
       "min         0.000000\n",
       "25%         1.000000\n",
       "50%         3.000000\n",
       "75%         5.000000\n",
       "max       141.000000\n",
       "Name: TotalVisits, dtype: float64"
      ]
     },
     "execution_count": 1757,
     "metadata": {},
     "output_type": "execute_result"
    }
   ],
   "source": [
    "##ANALYSING TOTAL VISITS##\n",
    "data['TotalVisits'].describe()"
   ]
  },
  {
   "cell_type": "code",
   "execution_count": 1758,
   "id": "5874f146",
   "metadata": {},
   "outputs": [
    {
     "data": {
      "image/png": "[encoded data removed]",
      "text/plain": [
       "<Figure size 1000x400 with 1 Axes>"
      ]
     },
     "metadata": {},
     "output_type": "display_data"
    },
    {
     "name": "stdout",
     "output_type": "stream",
     "text": [
      "Median is 3.0\n"
     ]
    }
   ],
   "source": [
    "##VISUALIZATION##\n",
    "plt.figure(figsize=(10,4))\n",
    "sns.boxplot(x=data['TotalVisits'])\n",
    "plt.title('Outlier detection for TotalVisits')\n",
    "plt.show()\n",
    "print ('Median is', data['TotalVisits'].median())"
   ]
  },
  {
   "cell_type": "code",
   "execution_count": 1759,
   "id": "af8fd80c",
   "metadata": {},
   "outputs": [
    {
     "data": {
      "image/png": "[encoded data removed]",
      "text/plain": [
       "<Figure size 1000x400 with 1 Axes>"
      ]
     },
     "metadata": {},
     "output_type": "display_data"
    }
   ],
   "source": [
    "##DEALING WITH OUTLIERS##\n",
    "plt.figure(figsize=(10,4))\n",
    "Q3 = data['TotalVisits'].quantile(0.99)\n",
    "data = data[(data['TotalVisits'] <= Q3)]\n",
    "Q1 = data['TotalVisits'].quantile(0.01)\n",
    "data = data[(data['TotalVisits'] >= Q1)]\n",
    "sns.boxplot(x=data['TotalVisits'])\n",
    "plt.title(\"TOTAL VISITS AFTER REMOVAL OF OUTLIERS\")\n",
    "plt.show()"
   ]
  },
  {
   "cell_type": "code",
   "execution_count": 1760,
   "id": "f642e507",
   "metadata": {},
   "outputs": [
    {
     "data": {
      "text/plain": [
       "(4893, 29)"
      ]
     },
     "execution_count": 1760,
     "metadata": {},
     "output_type": "execute_result"
    }
   ],
   "source": [
    "data.shape"
   ]
  },
  {
   "cell_type": "code",
   "execution_count": 1761,
   "id": "c82c6c2a",
   "metadata": {},
   "outputs": [
    {
     "data": {
      "text/plain": [
       "count    4893.000000\n",
       "mean        2.376227\n",
       "std         2.072878\n",
       "min         0.000000\n",
       "25%         1.000000\n",
       "50%         2.000000\n",
       "75%         3.000000\n",
       "max        16.000000\n",
       "Name: Page Views Per Visit, dtype: float64"
      ]
     },
     "execution_count": 1761,
     "metadata": {},
     "output_type": "execute_result"
    }
   ],
   "source": [
    "##CHECKING PAGE VIEWS PER VISIT##\n",
    "data['Page Views Per Visit'].describe()"
   ]
  },
  {
   "cell_type": "code",
   "execution_count": 1762,
   "id": "63f86d58",
   "metadata": {},
   "outputs": [
    {
     "name": "stdout",
     "output_type": "stream",
     "text": [
      "Median of Page Views Per Visit is 2.0\n"
     ]
    },
    {
     "data": {
      "image/png": "[encoded data removed]",
      "text/plain": [
       "<Figure size 1000x400 with 1 Axes>"
      ]
     },
     "metadata": {},
     "output_type": "display_data"
    }
   ],
   "source": [
    "##OUTLIER DETECTION##\n",
    "plt.figure(figsize=(10,4))\n",
    "sns.boxplot(x=data['Page Views Per Visit'])\n",
    "plt.title('Outlier detection for Page Views Per Visit')\n",
    "print ('Median of Page Views Per Visit is', data['Page Views Per Visit'].median())\n",
    "plt.show()\n"
   ]
  },
  {
   "cell_type": "code",
   "execution_count": 1763,
   "id": "50affca8",
   "metadata": {},
   "outputs": [
    {
     "data": {
      "image/png": "[encoded data removed]",
      "text/plain": [
       "<Figure size 1000x400 with 1 Axes>"
      ]
     },
     "metadata": {},
     "output_type": "display_data"
    }
   ],
   "source": [
    "## OUTLIERS FOUND. NEED TO BE CAPPED AT 1%##\n",
    "plt.figure(figsize=(10,4))\n",
    "Q3 = data['Page Views Per Visit'].quantile(0.99)\n",
    "data = data[(data['Page Views Per Visit'] <= Q3)]\n",
    "Q1 = data['Page Views Per Visit'].quantile(0.01)\n",
    "data = data[(data['Page Views Per Visit'] >= Q1)]\n",
    "sns.boxplot(x=data['Page Views Per Visit'],color = \"Red\")\n",
    "plt.title(\"Boxplot of Page Views Per Visit after removing Outliers\")\n",
    "plt.show()\n"
   ]
  },
  {
   "cell_type": "code",
   "execution_count": 1764,
   "id": "9719c79e",
   "metadata": {},
   "outputs": [
    {
     "data": {
      "text/plain": [
       "(4851, 29)"
      ]
     },
     "execution_count": 1764,
     "metadata": {},
     "output_type": "execute_result"
    }
   ],
   "source": [
    "##SHAPE OF THE DATA SET AT PRESENT##\n",
    "data.shape"
   ]
  },
  {
   "cell_type": "code",
   "execution_count": 1765,
   "id": "297f5031",
   "metadata": {},
   "outputs": [
    {
     "data": {
      "text/plain": [
       "Lead Origin                                 0\n",
       "Lead Source                                 0\n",
       "Do Not Email                                0\n",
       "Converted                                   0\n",
       "TotalVisits                                 0\n",
       "Total Time Spent on Website                 0\n",
       "Page Views Per Visit                        0\n",
       "Last Activity                               0\n",
       "Specialization                              0\n",
       "What is your current occupation             0\n",
       "Search                                      0\n",
       "Magazine                                    0\n",
       "Newspaper Article                           0\n",
       "X Education Forums                          0\n",
       "Newspaper                                   0\n",
       "Digital Advertisement                       0\n",
       "Through Recommendations                     0\n",
       "Receive More Updates About Our Courses      0\n",
       "Tags                                        0\n",
       "Update me on Supply Chain Content           0\n",
       "Get updates on DM Content                   0\n",
       "City                                        0\n",
       "Asymmetrique Activity Index                 0\n",
       "Asymmetrique Profile Index                  0\n",
       "Asymmetrique Activity Score                 0\n",
       "Asymmetrique Profile Score                  0\n",
       "I agree to pay the amount through cheque    0\n",
       "A free copy of Mastering The Interview      0\n",
       "Last Notable Activity                       0\n",
       "dtype: int64"
      ]
     },
     "execution_count": 1765,
     "metadata": {},
     "output_type": "execute_result"
    }
   ],
   "source": [
    "##NULL VSLUES OF THE DATA##\n",
    "data.isnull().sum()"
   ]
  },
  {
   "cell_type": "code",
   "execution_count": 1766,
   "id": "95e6e179",
   "metadata": {},
   "outputs": [
    {
     "data": {
      "text/plain": [
       "Index(['Lead Origin', 'Lead Source', 'Do Not Email', 'Last Activity',\n",
       "       'Specialization', 'What is your current occupation', 'Search',\n",
       "       'Magazine', 'Newspaper Article', 'X Education Forums', 'Newspaper',\n",
       "       'Digital Advertisement', 'Through Recommendations',\n",
       "       'Receive More Updates About Our Courses', 'Tags',\n",
       "       'Update me on Supply Chain Content', 'Get updates on DM Content',\n",
       "       'City', 'Asymmetrique Activity Index', 'Asymmetrique Profile Index',\n",
       "       'I agree to pay the amount through cheque',\n",
       "       'A free copy of Mastering The Interview', 'Last Notable Activity'],\n",
       "      dtype='object')"
      ]
     },
     "execution_count": 1766,
     "metadata": {},
     "output_type": "execute_result"
    }
   ],
   "source": [
    "###MODEL PREPARATION###\n",
    "##CATEGORICAL COLUMNS PRESENT IN THE GIVEN DATA##\n",
    "categorical_vals= data.select_dtypes(include=['object']).columns\n",
    "categorical_vals"
   ]
  },
  {
   "cell_type": "code",
   "execution_count": 1767,
   "id": "6d8396bd",
   "metadata": {},
   "outputs": [
    {
     "name": "stdout",
     "output_type": "stream",
     "text": [
      "Lead Origin\n",
      "Landing Page Submission    2512\n",
      "API                        2007\n",
      "Lead Add Form               301\n",
      "Lead Import                  31\n",
      "Name: Lead Origin, dtype: int64\n",
      " \n",
      "Lead Source\n",
      "Google               1622\n",
      "Direct Traffic       1251\n",
      "Olark Chat            919\n",
      "Organic Search        603\n",
      "Reference             216\n",
      "Referral Sites        113\n",
      "Welingak Website       66\n",
      "Facebook               30\n",
      "Others                 14\n",
      "google                  5\n",
      "Click2call              2\n",
      "Live Chat               2\n",
      "Social Media            2\n",
      "Press_Release           1\n",
      "blog                    1\n",
      "WeLearn                 1\n",
      "bing                    1\n",
      "Pay per Click Ads       1\n",
      "NC_EDM                  1\n",
      "Name: Lead Source, dtype: int64\n",
      " \n",
      "Do Not Email\n",
      "No     4512\n",
      "Yes     339\n",
      "Name: Do Not Email, dtype: int64\n",
      " \n",
      "Last Activity\n",
      "Email Opened                 1962\n",
      "SMS Sent                     1234\n",
      "Olark Chat Conversation       573\n",
      "Page Visited on Website       305\n",
      "Converted to Lead             239\n",
      "Email Link Clicked            167\n",
      "Email Bounced                 145\n",
      "Others                        142\n",
      "Form Submitted on Website      84\n",
      "Name: Last Activity, dtype: int64\n",
      " \n",
      "Specialization\n",
      "Management_Specializations           2194\n",
      "Not Specified                        1813\n",
      "Business Administration               219\n",
      "Banking, Investment And Insurance     184\n",
      "Media and Advertising                  98\n",
      "Travel and Tourism                     96\n",
      "International Business                 87\n",
      "E-COMMERCE                             59\n",
      "Rural and Agribusiness                 40\n",
      "E-Business                             33\n",
      "Services Excellence                    28\n",
      "Name: Specialization, dtype: int64\n",
      " \n",
      "What is your current occupation\n",
      "Unemployed              4380\n",
      "Working Professional     366\n",
      "Student                   92\n",
      "Businessman                5\n",
      "Other                      5\n",
      "Housewife                  3\n",
      "Name: What is your current occupation, dtype: int64\n",
      " \n",
      "Search\n",
      "No     4844\n",
      "Yes       7\n",
      "Name: Search, dtype: int64\n",
      " \n",
      "Magazine\n",
      "No    4851\n",
      "Name: Magazine, dtype: int64\n",
      " \n",
      "Newspaper Article\n",
      "No     4850\n",
      "Yes       1\n",
      "Name: Newspaper Article, dtype: int64\n",
      " \n",
      "X Education Forums\n",
      "No    4851\n",
      "Name: X Education Forums, dtype: int64\n",
      " \n",
      "Newspaper\n",
      "No    4851\n",
      "Name: Newspaper, dtype: int64\n",
      " \n",
      "Digital Advertisement\n",
      "No     4849\n",
      "Yes       2\n",
      "Name: Digital Advertisement, dtype: int64\n",
      " \n",
      "Through Recommendations\n",
      "No     4848\n",
      "Yes       3\n",
      "Name: Through Recommendations, dtype: int64\n",
      " \n",
      "Receive More Updates About Our Courses\n",
      "No    4851\n",
      "Name: Receive More Updates About Our Courses, dtype: int64\n",
      " \n",
      "Tags\n",
      "Not Specified                          1715\n",
      "Will revert after reading the email    1084\n",
      "Other_Tags                              726\n",
      "Ringing                                 603\n",
      "Interested in other courses             344\n",
      "Closed by Horizzon                      186\n",
      "Lost to EINS                            102\n",
      "Busy                                     91\n",
      "Name: Tags, dtype: int64\n",
      " \n",
      "Update me on Supply Chain Content\n",
      "No    4851\n",
      "Name: Update me on Supply Chain Content, dtype: int64\n",
      " \n",
      "Get updates on DM Content\n",
      "No    4851\n",
      "Name: Get updates on DM Content, dtype: int64\n",
      " \n",
      "City\n",
      "Mumbai                         3638\n",
      "Thane & Outskirts               395\n",
      "Other Cities                    368\n",
      "Other Cities of Maharashtra     236\n",
      "Other Metro Cities              180\n",
      "Tier II Cities                   34\n",
      "Name: City, dtype: int64\n",
      " \n",
      "Asymmetrique Activity Index\n",
      "02.Medium    3713\n",
      "01.High       779\n",
      "03.Low        359\n",
      "Name: Asymmetrique Activity Index, dtype: int64\n",
      " \n",
      "Asymmetrique Profile Index\n",
      "02.Medium    2708\n",
      "01.High      2115\n",
      "03.Low         28\n",
      "Name: Asymmetrique Profile Index, dtype: int64\n",
      " \n",
      "I agree to pay the amount through cheque\n",
      "No    4851\n",
      "Name: I agree to pay the amount through cheque, dtype: int64\n",
      " \n",
      "A free copy of Mastering The Interview\n",
      "No     3359\n",
      "Yes    1492\n",
      "Name: A free copy of Mastering The Interview, dtype: int64\n",
      " \n",
      "Last Notable Activity\n",
      "Modified                   2072\n",
      "Email Opened               1540\n",
      "SMS Sent                    810\n",
      "Page Visited on Website     141\n",
      "Email Link Clicked           99\n",
      "Olark Chat Conversation      97\n",
      "Other_Notable_activity       92\n",
      "Name: Last Notable Activity, dtype: int64\n",
      " \n"
     ]
    }
   ],
   "source": [
    "for i in categorical_vals:\n",
    "    print(i)\n",
    "    print(data[i].value_counts())\n",
    "    print(\" \")"
   ]
  },
  {
   "cell_type": "code",
   "execution_count": 1768,
   "id": "505b5779",
   "metadata": {},
   "outputs": [],
   "source": [
    "##MAPPING##\n",
    "map_var =  ['A free copy of Mastering The Interview','Do Not Email']\n",
    "def binary_map(x):\n",
    "    return x.map({'Yes': 1, \"No\": 0})\n",
    "data[map_var] = data[map_var].apply(binary_map)"
   ]
  },
  {
   "cell_type": "code",
   "execution_count": 1769,
   "id": "ef86c4fe",
   "metadata": {},
   "outputs": [
    {
     "data": {
      "text/html": [
       "<div>\n",
       "<style scoped>\n",
       "    .dataframe tbody tr th:only-of-type {\n",
       "        vertical-align: middle;\n",
       "    }\n",
       "\n",
       "    .dataframe tbody tr th {\n",
       "        vertical-align: top;\n",
       "    }\n",
       "\n",
       "    .dataframe thead th {\n",
       "        text-align: right;\n",
       "    }\n",
       "</style>\n",
       "<table border=\"1\" class=\"dataframe\">\n",
       "  <thead>\n",
       "    <tr style=\"text-align: right;\">\n",
       "      <th></th>\n",
       "      <th>A free copy of Mastering The Interview</th>\n",
       "      <th>Do Not Email</th>\n",
       "    </tr>\n",
       "  </thead>\n",
       "  <tbody>\n",
       "    <tr>\n",
       "      <th>0</th>\n",
       "      <td>0</td>\n",
       "      <td>0</td>\n",
       "    </tr>\n",
       "    <tr>\n",
       "      <th>1</th>\n",
       "      <td>0</td>\n",
       "      <td>0</td>\n",
       "    </tr>\n",
       "    <tr>\n",
       "      <th>2</th>\n",
       "      <td>1</td>\n",
       "      <td>0</td>\n",
       "    </tr>\n",
       "    <tr>\n",
       "      <th>3</th>\n",
       "      <td>0</td>\n",
       "      <td>0</td>\n",
       "    </tr>\n",
       "    <tr>\n",
       "      <th>4</th>\n",
       "      <td>0</td>\n",
       "      <td>0</td>\n",
       "    </tr>\n",
       "  </tbody>\n",
       "</table>\n",
       "</div>"
      ],
      "text/plain": [
       "   A free copy of Mastering The Interview  Do Not Email\n",
       "0                                       0             0\n",
       "1                                       0             0\n",
       "2                                       1             0\n",
       "3                                       0             0\n",
       "4                                       0             0"
      ]
     },
     "execution_count": 1769,
     "metadata": {},
     "output_type": "execute_result"
    }
   ],
   "source": [
    "##CHECKING IF MAPPING WAS CONSIDERED##\n",
    "data[map_var].head()"
   ]
  },
  {
   "cell_type": "code",
   "execution_count": 1770,
   "id": "a0f60da4",
   "metadata": {},
   "outputs": [],
   "source": [
    "##ADDING DUMMY VARIABLES##\n",
    "dummy = pd.get_dummies(data[['Lead Origin','What is your current occupation',\n",
    "                             'City']], drop_first=True)\n",
    "data = pd.concat([data,dummy],1)"
   ]
  },
  {
   "cell_type": "code",
   "execution_count": 1771,
   "id": "5ae6a2cf",
   "metadata": {},
   "outputs": [],
   "source": [
    "##ADDING DUMMY VARRIABLES FOR 'SPECIALIZATION'##\n",
    "dummy = pd.get_dummies(data['Specialization'], prefix  = 'Specialization')\n",
    "dummy = dummy.drop(['Specialization_Not Specified'], 1)\n",
    "data = pd.concat([data, dummy], axis = 1)"
   ]
  },
  {
   "cell_type": "code",
   "execution_count": 1772,
   "id": "fbb93d68",
   "metadata": {},
   "outputs": [],
   "source": [
    "##ADDING DUMMY VARIABLES FOR 'LEAD SOURCE'##\n",
    "dummy = pd.get_dummies(data['Lead Source'], prefix  = 'Lead Source')\n",
    "dummy = dummy.drop(['Lead Source_Others'], 1)\n",
    "data = pd.concat([data, dummy], axis = 1)"
   ]
  },
  {
   "cell_type": "code",
   "execution_count": 1773,
   "id": "65804da1",
   "metadata": {},
   "outputs": [],
   "source": [
    "##ADDING DUMMY VARIABLES FOR 'LAST ACTIVITY'##\n",
    "dummy = pd.get_dummies(data['Last Activity'], prefix  = 'Last Activity')\n",
    "dummy = dummy.drop(['Last Activity_Others'], 1)\n",
    "data = pd.concat([data, dummy], axis = 1)"
   ]
  },
  {
   "cell_type": "code",
   "execution_count": 1774,
   "id": "f86f1bfd",
   "metadata": {},
   "outputs": [],
   "source": [
    "##ADDING DUMMY VARIABLES FOR 'LAST NOTABLE ACTIVITY'##\n",
    "dummy = pd.get_dummies(data['Last Notable Activity'], prefix  = 'Last Notable Activity')\n",
    "dummy = dummy.drop(['Last Notable Activity_Other_Notable_activity'], 1)\n",
    "data = pd.concat([data, dummy], axis = 1)"
   ]
  },
  {
   "cell_type": "code",
   "execution_count": 1775,
   "id": "3c749539",
   "metadata": {},
   "outputs": [],
   "source": [
    "##ADDING DUMMY VARIABLES FOR 'TAGS NOT SPECIFIED'##\n",
    "dummy = pd.get_dummies(data['Tags'], prefix  = 'Tags')\n",
    "dummy = dummy.drop(['Tags_Not Specified'], 1)\n",
    "data = pd.concat([data, dummy], axis = 1)"
   ]
  },
  {
   "cell_type": "code",
   "execution_count": 1776,
   "id": "eb6488c1",
   "metadata": {},
   "outputs": [],
   "source": [
    "##DROPPING OF ORIGINAL COLUMNS DUE TO DUMMY CREATION##\n",
    "data.drop(categorical_vals,1,inplace = True)"
   ]
  },
  {
   "cell_type": "code",
   "execution_count": 1777,
   "id": "781c8817",
   "metadata": {},
   "outputs": [
    {
     "data": {
      "text/html": [
       "<div>\n",
       "<style scoped>\n",
       "    .dataframe tbody tr th:only-of-type {\n",
       "        vertical-align: middle;\n",
       "    }\n",
       "\n",
       "    .dataframe tbody tr th {\n",
       "        vertical-align: top;\n",
       "    }\n",
       "\n",
       "    .dataframe thead th {\n",
       "        text-align: right;\n",
       "    }\n",
       "</style>\n",
       "<table border=\"1\" class=\"dataframe\">\n",
       "  <thead>\n",
       "    <tr style=\"text-align: right;\">\n",
       "      <th></th>\n",
       "      <th>Converted</th>\n",
       "      <th>TotalVisits</th>\n",
       "      <th>Total Time Spent on Website</th>\n",
       "      <th>Page Views Per Visit</th>\n",
       "      <th>Asymmetrique Activity Score</th>\n",
       "      <th>Asymmetrique Profile Score</th>\n",
       "      <th>Lead Origin_Landing Page Submission</th>\n",
       "      <th>Lead Origin_Lead Add Form</th>\n",
       "      <th>Lead Origin_Lead Import</th>\n",
       "      <th>What is your current occupation_Housewife</th>\n",
       "      <th>...</th>\n",
       "      <th>Last Notable Activity_Olark Chat Conversation</th>\n",
       "      <th>Last Notable Activity_Page Visited on Website</th>\n",
       "      <th>Last Notable Activity_SMS Sent</th>\n",
       "      <th>Tags_Busy</th>\n",
       "      <th>Tags_Closed by Horizzon</th>\n",
       "      <th>Tags_Interested in other courses</th>\n",
       "      <th>Tags_Lost to EINS</th>\n",
       "      <th>Tags_Other_Tags</th>\n",
       "      <th>Tags_Ringing</th>\n",
       "      <th>Tags_Will revert after reading the email</th>\n",
       "    </tr>\n",
       "  </thead>\n",
       "  <tbody>\n",
       "    <tr>\n",
       "      <th>0</th>\n",
       "      <td>0</td>\n",
       "      <td>0.0</td>\n",
       "      <td>0</td>\n",
       "      <td>0.0</td>\n",
       "      <td>15.0</td>\n",
       "      <td>15.0</td>\n",
       "      <td>0</td>\n",
       "      <td>0</td>\n",
       "      <td>0</td>\n",
       "      <td>0</td>\n",
       "      <td>...</td>\n",
       "      <td>0</td>\n",
       "      <td>0</td>\n",
       "      <td>0</td>\n",
       "      <td>0</td>\n",
       "      <td>0</td>\n",
       "      <td>1</td>\n",
       "      <td>0</td>\n",
       "      <td>0</td>\n",
       "      <td>0</td>\n",
       "      <td>0</td>\n",
       "    </tr>\n",
       "    <tr>\n",
       "      <th>1</th>\n",
       "      <td>0</td>\n",
       "      <td>5.0</td>\n",
       "      <td>674</td>\n",
       "      <td>2.5</td>\n",
       "      <td>15.0</td>\n",
       "      <td>15.0</td>\n",
       "      <td>0</td>\n",
       "      <td>0</td>\n",
       "      <td>0</td>\n",
       "      <td>0</td>\n",
       "      <td>...</td>\n",
       "      <td>0</td>\n",
       "      <td>0</td>\n",
       "      <td>0</td>\n",
       "      <td>0</td>\n",
       "      <td>0</td>\n",
       "      <td>0</td>\n",
       "      <td>0</td>\n",
       "      <td>0</td>\n",
       "      <td>1</td>\n",
       "      <td>0</td>\n",
       "    </tr>\n",
       "    <tr>\n",
       "      <th>2</th>\n",
       "      <td>1</td>\n",
       "      <td>2.0</td>\n",
       "      <td>1532</td>\n",
       "      <td>2.0</td>\n",
       "      <td>14.0</td>\n",
       "      <td>20.0</td>\n",
       "      <td>1</td>\n",
       "      <td>0</td>\n",
       "      <td>0</td>\n",
       "      <td>0</td>\n",
       "      <td>...</td>\n",
       "      <td>0</td>\n",
       "      <td>0</td>\n",
       "      <td>0</td>\n",
       "      <td>0</td>\n",
       "      <td>0</td>\n",
       "      <td>0</td>\n",
       "      <td>0</td>\n",
       "      <td>0</td>\n",
       "      <td>0</td>\n",
       "      <td>1</td>\n",
       "    </tr>\n",
       "    <tr>\n",
       "      <th>3</th>\n",
       "      <td>0</td>\n",
       "      <td>1.0</td>\n",
       "      <td>305</td>\n",
       "      <td>1.0</td>\n",
       "      <td>13.0</td>\n",
       "      <td>17.0</td>\n",
       "      <td>1</td>\n",
       "      <td>0</td>\n",
       "      <td>0</td>\n",
       "      <td>0</td>\n",
       "      <td>...</td>\n",
       "      <td>0</td>\n",
       "      <td>0</td>\n",
       "      <td>0</td>\n",
       "      <td>0</td>\n",
       "      <td>0</td>\n",
       "      <td>0</td>\n",
       "      <td>0</td>\n",
       "      <td>0</td>\n",
       "      <td>1</td>\n",
       "      <td>0</td>\n",
       "    </tr>\n",
       "    <tr>\n",
       "      <th>4</th>\n",
       "      <td>1</td>\n",
       "      <td>2.0</td>\n",
       "      <td>1428</td>\n",
       "      <td>1.0</td>\n",
       "      <td>15.0</td>\n",
       "      <td>18.0</td>\n",
       "      <td>1</td>\n",
       "      <td>0</td>\n",
       "      <td>0</td>\n",
       "      <td>0</td>\n",
       "      <td>...</td>\n",
       "      <td>0</td>\n",
       "      <td>0</td>\n",
       "      <td>0</td>\n",
       "      <td>0</td>\n",
       "      <td>0</td>\n",
       "      <td>0</td>\n",
       "      <td>0</td>\n",
       "      <td>0</td>\n",
       "      <td>0</td>\n",
       "      <td>1</td>\n",
       "    </tr>\n",
       "  </tbody>\n",
       "</table>\n",
       "<p>5 rows × 68 columns</p>\n",
       "</div>"
      ],
      "text/plain": [
       "   Converted  TotalVisits  Total Time Spent on Website  Page Views Per Visit  \\\n",
       "0          0          0.0                            0                   0.0   \n",
       "1          0          5.0                          674                   2.5   \n",
       "2          1          2.0                         1532                   2.0   \n",
       "3          0          1.0                          305                   1.0   \n",
       "4          1          2.0                         1428                   1.0   \n",
       "\n",
       "   Asymmetrique Activity Score  Asymmetrique Profile Score  \\\n",
       "0                         15.0                        15.0   \n",
       "1                         15.0                        15.0   \n",
       "2                         14.0                        20.0   \n",
       "3                         13.0                        17.0   \n",
       "4                         15.0                        18.0   \n",
       "\n",
       "   Lead Origin_Landing Page Submission  Lead Origin_Lead Add Form  \\\n",
       "0                                    0                          0   \n",
       "1                                    0                          0   \n",
       "2                                    1                          0   \n",
       "3                                    1                          0   \n",
       "4                                    1                          0   \n",
       "\n",
       "   Lead Origin_Lead Import  What is your current occupation_Housewife  ...  \\\n",
       "0                        0                                          0  ...   \n",
       "1                        0                                          0  ...   \n",
       "2                        0                                          0  ...   \n",
       "3                        0                                          0  ...   \n",
       "4                        0                                          0  ...   \n",
       "\n",
       "   Last Notable Activity_Olark Chat Conversation  \\\n",
       "0                                              0   \n",
       "1                                              0   \n",
       "2                                              0   \n",
       "3                                              0   \n",
       "4                                              0   \n",
       "\n",
       "   Last Notable Activity_Page Visited on Website  \\\n",
       "0                                              0   \n",
       "1                                              0   \n",
       "2                                              0   \n",
       "3                                              0   \n",
       "4                                              0   \n",
       "\n",
       "   Last Notable Activity_SMS Sent  Tags_Busy  Tags_Closed by Horizzon  \\\n",
       "0                               0          0                        0   \n",
       "1                               0          0                        0   \n",
       "2                               0          0                        0   \n",
       "3                               0          0                        0   \n",
       "4                               0          0                        0   \n",
       "\n",
       "   Tags_Interested in other courses  Tags_Lost to EINS  Tags_Other_Tags  \\\n",
       "0                                 1                  0                0   \n",
       "1                                 0                  0                0   \n",
       "2                                 0                  0                0   \n",
       "3                                 0                  0                0   \n",
       "4                                 0                  0                0   \n",
       "\n",
       "   Tags_Ringing  Tags_Will revert after reading the email  \n",
       "0             0                                         0  \n",
       "1             1                                         0  \n",
       "2             0                                         1  \n",
       "3             1                                         0  \n",
       "4             0                                         1  \n",
       "\n",
       "[5 rows x 68 columns]"
      ]
     },
     "execution_count": 1777,
     "metadata": {},
     "output_type": "execute_result"
    }
   ],
   "source": [
    "data.head()"
   ]
  },
  {
   "cell_type": "code",
   "execution_count": 1778,
   "id": "1c4be05d",
   "metadata": {},
   "outputs": [
    {
     "name": "stdout",
     "output_type": "stream",
     "text": [
      "<class 'pandas.core.frame.DataFrame'>\n",
      "Int64Index: 4851 entries, 0 to 9239\n",
      "Data columns (total 68 columns):\n",
      " #   Column                                                Non-Null Count  Dtype  \n",
      "---  ------                                                --------------  -----  \n",
      " 0   Converted                                             4851 non-null   int64  \n",
      " 1   TotalVisits                                           4851 non-null   float64\n",
      " 2   Total Time Spent on Website                           4851 non-null   int64  \n",
      " 3   Page Views Per Visit                                  4851 non-null   float64\n",
      " 4   Asymmetrique Activity Score                           4851 non-null   float64\n",
      " 5   Asymmetrique Profile Score                            4851 non-null   float64\n",
      " 6   Lead Origin_Landing Page Submission                   4851 non-null   uint8  \n",
      " 7   Lead Origin_Lead Add Form                             4851 non-null   uint8  \n",
      " 8   Lead Origin_Lead Import                               4851 non-null   uint8  \n",
      " 9   What is your current occupation_Housewife             4851 non-null   uint8  \n",
      " 10  What is your current occupation_Other                 4851 non-null   uint8  \n",
      " 11  What is your current occupation_Student               4851 non-null   uint8  \n",
      " 12  What is your current occupation_Unemployed            4851 non-null   uint8  \n",
      " 13  What is your current occupation_Working Professional  4851 non-null   uint8  \n",
      " 14  City_Other Cities                                     4851 non-null   uint8  \n",
      " 15  City_Other Cities of Maharashtra                      4851 non-null   uint8  \n",
      " 16  City_Other Metro Cities                               4851 non-null   uint8  \n",
      " 17  City_Thane & Outskirts                                4851 non-null   uint8  \n",
      " 18  City_Tier II Cities                                   4851 non-null   uint8  \n",
      " 19  Specialization_Banking, Investment And Insurance      4851 non-null   uint8  \n",
      " 20  Specialization_Business Administration                4851 non-null   uint8  \n",
      " 21  Specialization_E-Business                             4851 non-null   uint8  \n",
      " 22  Specialization_E-COMMERCE                             4851 non-null   uint8  \n",
      " 23  Specialization_International Business                 4851 non-null   uint8  \n",
      " 24  Specialization_Management_Specializations             4851 non-null   uint8  \n",
      " 25  Specialization_Media and Advertising                  4851 non-null   uint8  \n",
      " 26  Specialization_Rural and Agribusiness                 4851 non-null   uint8  \n",
      " 27  Specialization_Services Excellence                    4851 non-null   uint8  \n",
      " 28  Specialization_Travel and Tourism                     4851 non-null   uint8  \n",
      " 29  Lead Source_Click2call                                4851 non-null   uint8  \n",
      " 30  Lead Source_Direct Traffic                            4851 non-null   uint8  \n",
      " 31  Lead Source_Facebook                                  4851 non-null   uint8  \n",
      " 32  Lead Source_Google                                    4851 non-null   uint8  \n",
      " 33  Lead Source_Live Chat                                 4851 non-null   uint8  \n",
      " 34  Lead Source_NC_EDM                                    4851 non-null   uint8  \n",
      " 35  Lead Source_Olark Chat                                4851 non-null   uint8  \n",
      " 36  Lead Source_Organic Search                            4851 non-null   uint8  \n",
      " 37  Lead Source_Pay per Click Ads                         4851 non-null   uint8  \n",
      " 38  Lead Source_Press_Release                             4851 non-null   uint8  \n",
      " 39  Lead Source_Reference                                 4851 non-null   uint8  \n",
      " 40  Lead Source_Referral Sites                            4851 non-null   uint8  \n",
      " 41  Lead Source_Social Media                              4851 non-null   uint8  \n",
      " 42  Lead Source_WeLearn                                   4851 non-null   uint8  \n",
      " 43  Lead Source_Welingak Website                          4851 non-null   uint8  \n",
      " 44  Lead Source_bing                                      4851 non-null   uint8  \n",
      " 45  Lead Source_blog                                      4851 non-null   uint8  \n",
      " 46  Lead Source_google                                    4851 non-null   uint8  \n",
      " 47  Last Activity_Converted to Lead                       4851 non-null   uint8  \n",
      " 48  Last Activity_Email Bounced                           4851 non-null   uint8  \n",
      " 49  Last Activity_Email Link Clicked                      4851 non-null   uint8  \n",
      " 50  Last Activity_Email Opened                            4851 non-null   uint8  \n",
      " 51  Last Activity_Form Submitted on Website               4851 non-null   uint8  \n",
      " 52  Last Activity_Olark Chat Conversation                 4851 non-null   uint8  \n",
      " 53  Last Activity_Page Visited on Website                 4851 non-null   uint8  \n",
      " 54  Last Activity_SMS Sent                                4851 non-null   uint8  \n",
      " 55  Last Notable Activity_Email Link Clicked              4851 non-null   uint8  \n",
      " 56  Last Notable Activity_Email Opened                    4851 non-null   uint8  \n",
      " 57  Last Notable Activity_Modified                        4851 non-null   uint8  \n",
      " 58  Last Notable Activity_Olark Chat Conversation         4851 non-null   uint8  \n",
      " 59  Last Notable Activity_Page Visited on Website         4851 non-null   uint8  \n",
      " 60  Last Notable Activity_SMS Sent                        4851 non-null   uint8  \n",
      " 61  Tags_Busy                                             4851 non-null   uint8  \n",
      " 62  Tags_Closed by Horizzon                               4851 non-null   uint8  \n",
      " 63  Tags_Interested in other courses                      4851 non-null   uint8  \n",
      " 64  Tags_Lost to EINS                                     4851 non-null   uint8  \n",
      " 65  Tags_Other_Tags                                       4851 non-null   uint8  \n",
      " 66  Tags_Ringing                                          4851 non-null   uint8  \n",
      " 67  Tags_Will revert after reading the email              4851 non-null   uint8  \n",
      "dtypes: float64(4), int64(2), uint8(62)\n",
      "memory usage: 559.0 KB\n"
     ]
    }
   ],
   "source": [
    "##RE-CHECKING DATA FOR AN IDEA##\n",
    "data.info()"
   ]
  },
  {
   "cell_type": "code",
   "execution_count": 1779,
   "id": "4b5cca24",
   "metadata": {},
   "outputs": [],
   "source": [
    "##MODEL BUILDING - LINEAR REGRESSION##"
   ]
  },
  {
   "cell_type": "code",
   "execution_count": 1780,
   "id": "1d9609ca",
   "metadata": {},
   "outputs": [
    {
     "data": {
      "text/plain": [
       "0    0\n",
       "1    0\n",
       "2    1\n",
       "3    0\n",
       "4    1\n",
       "Name: Converted, dtype: int64"
      ]
     },
     "execution_count": 1780,
     "metadata": {},
     "output_type": "execute_result"
    }
   ],
   "source": [
    "from sklearn.model_selection import train_test_split\n",
    "y = data['Converted'] # Target Variable\n",
    "y.head()"
   ]
  },
  {
   "cell_type": "code",
   "execution_count": 1781,
   "id": "be81ee27",
   "metadata": {},
   "outputs": [
    {
     "data": {
      "text/html": [
       "<div>\n",
       "<style scoped>\n",
       "    .dataframe tbody tr th:only-of-type {\n",
       "        vertical-align: middle;\n",
       "    }\n",
       "\n",
       "    .dataframe tbody tr th {\n",
       "        vertical-align: top;\n",
       "    }\n",
       "\n",
       "    .dataframe thead th {\n",
       "        text-align: right;\n",
       "    }\n",
       "</style>\n",
       "<table border=\"1\" class=\"dataframe\">\n",
       "  <thead>\n",
       "    <tr style=\"text-align: right;\">\n",
       "      <th></th>\n",
       "      <th>TotalVisits</th>\n",
       "      <th>Total Time Spent on Website</th>\n",
       "      <th>Page Views Per Visit</th>\n",
       "      <th>Asymmetrique Activity Score</th>\n",
       "      <th>Asymmetrique Profile Score</th>\n",
       "      <th>Lead Origin_Landing Page Submission</th>\n",
       "      <th>Lead Origin_Lead Add Form</th>\n",
       "      <th>Lead Origin_Lead Import</th>\n",
       "      <th>What is your current occupation_Housewife</th>\n",
       "      <th>What is your current occupation_Other</th>\n",
       "      <th>...</th>\n",
       "      <th>Last Notable Activity_Olark Chat Conversation</th>\n",
       "      <th>Last Notable Activity_Page Visited on Website</th>\n",
       "      <th>Last Notable Activity_SMS Sent</th>\n",
       "      <th>Tags_Busy</th>\n",
       "      <th>Tags_Closed by Horizzon</th>\n",
       "      <th>Tags_Interested in other courses</th>\n",
       "      <th>Tags_Lost to EINS</th>\n",
       "      <th>Tags_Other_Tags</th>\n",
       "      <th>Tags_Ringing</th>\n",
       "      <th>Tags_Will revert after reading the email</th>\n",
       "    </tr>\n",
       "  </thead>\n",
       "  <tbody>\n",
       "    <tr>\n",
       "      <th>0</th>\n",
       "      <td>0.0</td>\n",
       "      <td>0</td>\n",
       "      <td>0.0</td>\n",
       "      <td>15.0</td>\n",
       "      <td>15.0</td>\n",
       "      <td>0</td>\n",
       "      <td>0</td>\n",
       "      <td>0</td>\n",
       "      <td>0</td>\n",
       "      <td>0</td>\n",
       "      <td>...</td>\n",
       "      <td>0</td>\n",
       "      <td>0</td>\n",
       "      <td>0</td>\n",
       "      <td>0</td>\n",
       "      <td>0</td>\n",
       "      <td>1</td>\n",
       "      <td>0</td>\n",
       "      <td>0</td>\n",
       "      <td>0</td>\n",
       "      <td>0</td>\n",
       "    </tr>\n",
       "    <tr>\n",
       "      <th>1</th>\n",
       "      <td>5.0</td>\n",
       "      <td>674</td>\n",
       "      <td>2.5</td>\n",
       "      <td>15.0</td>\n",
       "      <td>15.0</td>\n",
       "      <td>0</td>\n",
       "      <td>0</td>\n",
       "      <td>0</td>\n",
       "      <td>0</td>\n",
       "      <td>0</td>\n",
       "      <td>...</td>\n",
       "      <td>0</td>\n",
       "      <td>0</td>\n",
       "      <td>0</td>\n",
       "      <td>0</td>\n",
       "      <td>0</td>\n",
       "      <td>0</td>\n",
       "      <td>0</td>\n",
       "      <td>0</td>\n",
       "      <td>1</td>\n",
       "      <td>0</td>\n",
       "    </tr>\n",
       "    <tr>\n",
       "      <th>2</th>\n",
       "      <td>2.0</td>\n",
       "      <td>1532</td>\n",
       "      <td>2.0</td>\n",
       "      <td>14.0</td>\n",
       "      <td>20.0</td>\n",
       "      <td>1</td>\n",
       "      <td>0</td>\n",
       "      <td>0</td>\n",
       "      <td>0</td>\n",
       "      <td>0</td>\n",
       "      <td>...</td>\n",
       "      <td>0</td>\n",
       "      <td>0</td>\n",
       "      <td>0</td>\n",
       "      <td>0</td>\n",
       "      <td>0</td>\n",
       "      <td>0</td>\n",
       "      <td>0</td>\n",
       "      <td>0</td>\n",
       "      <td>0</td>\n",
       "      <td>1</td>\n",
       "    </tr>\n",
       "    <tr>\n",
       "      <th>3</th>\n",
       "      <td>1.0</td>\n",
       "      <td>305</td>\n",
       "      <td>1.0</td>\n",
       "      <td>13.0</td>\n",
       "      <td>17.0</td>\n",
       "      <td>1</td>\n",
       "      <td>0</td>\n",
       "      <td>0</td>\n",
       "      <td>0</td>\n",
       "      <td>0</td>\n",
       "      <td>...</td>\n",
       "      <td>0</td>\n",
       "      <td>0</td>\n",
       "      <td>0</td>\n",
       "      <td>0</td>\n",
       "      <td>0</td>\n",
       "      <td>0</td>\n",
       "      <td>0</td>\n",
       "      <td>0</td>\n",
       "      <td>1</td>\n",
       "      <td>0</td>\n",
       "    </tr>\n",
       "    <tr>\n",
       "      <th>4</th>\n",
       "      <td>2.0</td>\n",
       "      <td>1428</td>\n",
       "      <td>1.0</td>\n",
       "      <td>15.0</td>\n",
       "      <td>18.0</td>\n",
       "      <td>1</td>\n",
       "      <td>0</td>\n",
       "      <td>0</td>\n",
       "      <td>0</td>\n",
       "      <td>0</td>\n",
       "      <td>...</td>\n",
       "      <td>0</td>\n",
       "      <td>0</td>\n",
       "      <td>0</td>\n",
       "      <td>0</td>\n",
       "      <td>0</td>\n",
       "      <td>0</td>\n",
       "      <td>0</td>\n",
       "      <td>0</td>\n",
       "      <td>0</td>\n",
       "      <td>1</td>\n",
       "    </tr>\n",
       "  </tbody>\n",
       "</table>\n",
       "<p>5 rows × 67 columns</p>\n",
       "</div>"
      ],
      "text/plain": [
       "   TotalVisits  Total Time Spent on Website  Page Views Per Visit  \\\n",
       "0          0.0                            0                   0.0   \n",
       "1          5.0                          674                   2.5   \n",
       "2          2.0                         1532                   2.0   \n",
       "3          1.0                          305                   1.0   \n",
       "4          2.0                         1428                   1.0   \n",
       "\n",
       "   Asymmetrique Activity Score  Asymmetrique Profile Score  \\\n",
       "0                         15.0                        15.0   \n",
       "1                         15.0                        15.0   \n",
       "2                         14.0                        20.0   \n",
       "3                         13.0                        17.0   \n",
       "4                         15.0                        18.0   \n",
       "\n",
       "   Lead Origin_Landing Page Submission  Lead Origin_Lead Add Form  \\\n",
       "0                                    0                          0   \n",
       "1                                    0                          0   \n",
       "2                                    1                          0   \n",
       "3                                    1                          0   \n",
       "4                                    1                          0   \n",
       "\n",
       "   Lead Origin_Lead Import  What is your current occupation_Housewife  \\\n",
       "0                        0                                          0   \n",
       "1                        0                                          0   \n",
       "2                        0                                          0   \n",
       "3                        0                                          0   \n",
       "4                        0                                          0   \n",
       "\n",
       "   What is your current occupation_Other  ...  \\\n",
       "0                                      0  ...   \n",
       "1                                      0  ...   \n",
       "2                                      0  ...   \n",
       "3                                      0  ...   \n",
       "4                                      0  ...   \n",
       "\n",
       "   Last Notable Activity_Olark Chat Conversation  \\\n",
       "0                                              0   \n",
       "1                                              0   \n",
       "2                                              0   \n",
       "3                                              0   \n",
       "4                                              0   \n",
       "\n",
       "   Last Notable Activity_Page Visited on Website  \\\n",
       "0                                              0   \n",
       "1                                              0   \n",
       "2                                              0   \n",
       "3                                              0   \n",
       "4                                              0   \n",
       "\n",
       "   Last Notable Activity_SMS Sent  Tags_Busy  Tags_Closed by Horizzon  \\\n",
       "0                               0          0                        0   \n",
       "1                               0          0                        0   \n",
       "2                               0          0                        0   \n",
       "3                               0          0                        0   \n",
       "4                               0          0                        0   \n",
       "\n",
       "   Tags_Interested in other courses  Tags_Lost to EINS  Tags_Other_Tags  \\\n",
       "0                                 1                  0                0   \n",
       "1                                 0                  0                0   \n",
       "2                                 0                  0                0   \n",
       "3                                 0                  0                0   \n",
       "4                                 0                  0                0   \n",
       "\n",
       "   Tags_Ringing  Tags_Will revert after reading the email  \n",
       "0             0                                         0  \n",
       "1             1                                         0  \n",
       "2             0                                         1  \n",
       "3             1                                         0  \n",
       "4             0                                         1  \n",
       "\n",
       "[5 rows x 67 columns]"
      ]
     },
     "execution_count": 1781,
     "metadata": {},
     "output_type": "execute_result"
    }
   ],
   "source": [
    "X=data.drop('Converted', axis=1)\n",
    "X.head()"
   ]
  },
  {
   "cell_type": "code",
   "execution_count": 1782,
   "id": "e6df7c3b",
   "metadata": {},
   "outputs": [],
   "source": [
    "X_train, X_test, y_train, y_test = train_test_split(X, y, train_size=0.7, test_size=0.3, random_state=100)"
   ]
  },
  {
   "cell_type": "code",
   "execution_count": 1783,
   "id": "71a01cfa",
   "metadata": {},
   "outputs": [
    {
     "data": {
      "text/html": [
       "<div>\n",
       "<style scoped>\n",
       "    .dataframe tbody tr th:only-of-type {\n",
       "        vertical-align: middle;\n",
       "    }\n",
       "\n",
       "    .dataframe tbody tr th {\n",
       "        vertical-align: top;\n",
       "    }\n",
       "\n",
       "    .dataframe thead th {\n",
       "        text-align: right;\n",
       "    }\n",
       "</style>\n",
       "<table border=\"1\" class=\"dataframe\">\n",
       "  <thead>\n",
       "    <tr style=\"text-align: right;\">\n",
       "      <th></th>\n",
       "      <th>TotalVisits</th>\n",
       "      <th>Total Time Spent on Website</th>\n",
       "      <th>Page Views Per Visit</th>\n",
       "      <th>Asymmetrique Activity Score</th>\n",
       "      <th>Asymmetrique Profile Score</th>\n",
       "      <th>Lead Origin_Landing Page Submission</th>\n",
       "      <th>Lead Origin_Lead Add Form</th>\n",
       "      <th>Lead Origin_Lead Import</th>\n",
       "      <th>What is your current occupation_Housewife</th>\n",
       "      <th>What is your current occupation_Other</th>\n",
       "      <th>...</th>\n",
       "      <th>Last Notable Activity_Olark Chat Conversation</th>\n",
       "      <th>Last Notable Activity_Page Visited on Website</th>\n",
       "      <th>Last Notable Activity_SMS Sent</th>\n",
       "      <th>Tags_Busy</th>\n",
       "      <th>Tags_Closed by Horizzon</th>\n",
       "      <th>Tags_Interested in other courses</th>\n",
       "      <th>Tags_Lost to EINS</th>\n",
       "      <th>Tags_Other_Tags</th>\n",
       "      <th>Tags_Ringing</th>\n",
       "      <th>Tags_Will revert after reading the email</th>\n",
       "    </tr>\n",
       "  </thead>\n",
       "  <tbody>\n",
       "    <tr>\n",
       "      <th>200</th>\n",
       "      <td>5.0</td>\n",
       "      <td>1234</td>\n",
       "      <td>1.67</td>\n",
       "      <td>16.0</td>\n",
       "      <td>17.0</td>\n",
       "      <td>0</td>\n",
       "      <td>0</td>\n",
       "      <td>0</td>\n",
       "      <td>0</td>\n",
       "      <td>0</td>\n",
       "      <td>...</td>\n",
       "      <td>0</td>\n",
       "      <td>0</td>\n",
       "      <td>0</td>\n",
       "      <td>0</td>\n",
       "      <td>0</td>\n",
       "      <td>0</td>\n",
       "      <td>0</td>\n",
       "      <td>0</td>\n",
       "      <td>0</td>\n",
       "      <td>1</td>\n",
       "    </tr>\n",
       "    <tr>\n",
       "      <th>816</th>\n",
       "      <td>3.0</td>\n",
       "      <td>1007</td>\n",
       "      <td>1.50</td>\n",
       "      <td>15.0</td>\n",
       "      <td>15.0</td>\n",
       "      <td>0</td>\n",
       "      <td>0</td>\n",
       "      <td>0</td>\n",
       "      <td>0</td>\n",
       "      <td>0</td>\n",
       "      <td>...</td>\n",
       "      <td>1</td>\n",
       "      <td>0</td>\n",
       "      <td>0</td>\n",
       "      <td>0</td>\n",
       "      <td>0</td>\n",
       "      <td>0</td>\n",
       "      <td>0</td>\n",
       "      <td>0</td>\n",
       "      <td>0</td>\n",
       "      <td>0</td>\n",
       "    </tr>\n",
       "    <tr>\n",
       "      <th>8764</th>\n",
       "      <td>4.0</td>\n",
       "      <td>1029</td>\n",
       "      <td>4.00</td>\n",
       "      <td>14.0</td>\n",
       "      <td>20.0</td>\n",
       "      <td>1</td>\n",
       "      <td>0</td>\n",
       "      <td>0</td>\n",
       "      <td>0</td>\n",
       "      <td>0</td>\n",
       "      <td>...</td>\n",
       "      <td>0</td>\n",
       "      <td>0</td>\n",
       "      <td>1</td>\n",
       "      <td>0</td>\n",
       "      <td>0</td>\n",
       "      <td>0</td>\n",
       "      <td>0</td>\n",
       "      <td>0</td>\n",
       "      <td>1</td>\n",
       "      <td>0</td>\n",
       "    </tr>\n",
       "    <tr>\n",
       "      <th>3502</th>\n",
       "      <td>9.0</td>\n",
       "      <td>99</td>\n",
       "      <td>2.25</td>\n",
       "      <td>15.0</td>\n",
       "      <td>16.0</td>\n",
       "      <td>0</td>\n",
       "      <td>0</td>\n",
       "      <td>0</td>\n",
       "      <td>0</td>\n",
       "      <td>0</td>\n",
       "      <td>...</td>\n",
       "      <td>0</td>\n",
       "      <td>0</td>\n",
       "      <td>0</td>\n",
       "      <td>0</td>\n",
       "      <td>0</td>\n",
       "      <td>0</td>\n",
       "      <td>0</td>\n",
       "      <td>0</td>\n",
       "      <td>0</td>\n",
       "      <td>0</td>\n",
       "    </tr>\n",
       "    <tr>\n",
       "      <th>8576</th>\n",
       "      <td>3.0</td>\n",
       "      <td>535</td>\n",
       "      <td>3.00</td>\n",
       "      <td>15.0</td>\n",
       "      <td>20.0</td>\n",
       "      <td>1</td>\n",
       "      <td>0</td>\n",
       "      <td>0</td>\n",
       "      <td>0</td>\n",
       "      <td>0</td>\n",
       "      <td>...</td>\n",
       "      <td>0</td>\n",
       "      <td>0</td>\n",
       "      <td>1</td>\n",
       "      <td>0</td>\n",
       "      <td>0</td>\n",
       "      <td>0</td>\n",
       "      <td>0</td>\n",
       "      <td>0</td>\n",
       "      <td>0</td>\n",
       "      <td>1</td>\n",
       "    </tr>\n",
       "  </tbody>\n",
       "</table>\n",
       "<p>5 rows × 67 columns</p>\n",
       "</div>"
      ],
      "text/plain": [
       "      TotalVisits  Total Time Spent on Website  Page Views Per Visit  \\\n",
       "200           5.0                         1234                  1.67   \n",
       "816           3.0                         1007                  1.50   \n",
       "8764          4.0                         1029                  4.00   \n",
       "3502          9.0                           99                  2.25   \n",
       "8576          3.0                          535                  3.00   \n",
       "\n",
       "      Asymmetrique Activity Score  Asymmetrique Profile Score  \\\n",
       "200                          16.0                        17.0   \n",
       "816                          15.0                        15.0   \n",
       "8764                         14.0                        20.0   \n",
       "3502                         15.0                        16.0   \n",
       "8576                         15.0                        20.0   \n",
       "\n",
       "      Lead Origin_Landing Page Submission  Lead Origin_Lead Add Form  \\\n",
       "200                                     0                          0   \n",
       "816                                     0                          0   \n",
       "8764                                    1                          0   \n",
       "3502                                    0                          0   \n",
       "8576                                    1                          0   \n",
       "\n",
       "      Lead Origin_Lead Import  What is your current occupation_Housewife  \\\n",
       "200                         0                                          0   \n",
       "816                         0                                          0   \n",
       "8764                        0                                          0   \n",
       "3502                        0                                          0   \n",
       "8576                        0                                          0   \n",
       "\n",
       "      What is your current occupation_Other  ...  \\\n",
       "200                                       0  ...   \n",
       "816                                       0  ...   \n",
       "8764                                      0  ...   \n",
       "3502                                      0  ...   \n",
       "8576                                      0  ...   \n",
       "\n",
       "      Last Notable Activity_Olark Chat Conversation  \\\n",
       "200                                               0   \n",
       "816                                               1   \n",
       "8764                                              0   \n",
       "3502                                              0   \n",
       "8576                                              0   \n",
       "\n",
       "      Last Notable Activity_Page Visited on Website  \\\n",
       "200                                               0   \n",
       "816                                               0   \n",
       "8764                                              0   \n",
       "3502                                              0   \n",
       "8576                                              0   \n",
       "\n",
       "      Last Notable Activity_SMS Sent  Tags_Busy  Tags_Closed by Horizzon  \\\n",
       "200                                0          0                        0   \n",
       "816                                0          0                        0   \n",
       "8764                               1          0                        0   \n",
       "3502                               0          0                        0   \n",
       "8576                               1          0                        0   \n",
       "\n",
       "      Tags_Interested in other courses  Tags_Lost to EINS  Tags_Other_Tags  \\\n",
       "200                                  0                  0                0   \n",
       "816                                  0                  0                0   \n",
       "8764                                 0                  0                0   \n",
       "3502                                 0                  0                0   \n",
       "8576                                 0                  0                0   \n",
       "\n",
       "      Tags_Ringing  Tags_Will revert after reading the email  \n",
       "200              0                                         1  \n",
       "816              0                                         0  \n",
       "8764             1                                         0  \n",
       "3502             0                                         0  \n",
       "8576             0                                         1  \n",
       "\n",
       "[5 rows x 67 columns]"
      ]
     },
     "execution_count": 1783,
     "metadata": {},
     "output_type": "execute_result"
    }
   ],
   "source": [
    "X_train.head()"
   ]
  },
  {
   "cell_type": "code",
   "execution_count": 1784,
   "id": "e4fc673a",
   "metadata": {},
   "outputs": [
    {
     "data": {
      "text/html": [
       "<div>\n",
       "<style scoped>\n",
       "    .dataframe tbody tr th:only-of-type {\n",
       "        vertical-align: middle;\n",
       "    }\n",
       "\n",
       "    .dataframe tbody tr th {\n",
       "        vertical-align: top;\n",
       "    }\n",
       "\n",
       "    .dataframe thead th {\n",
       "        text-align: right;\n",
       "    }\n",
       "</style>\n",
       "<table border=\"1\" class=\"dataframe\">\n",
       "  <thead>\n",
       "    <tr style=\"text-align: right;\">\n",
       "      <th></th>\n",
       "      <th>TotalVisits</th>\n",
       "      <th>Total Time Spent on Website</th>\n",
       "      <th>Page Views Per Visit</th>\n",
       "      <th>Asymmetrique Activity Score</th>\n",
       "      <th>Asymmetrique Profile Score</th>\n",
       "      <th>Lead Origin_Landing Page Submission</th>\n",
       "      <th>Lead Origin_Lead Add Form</th>\n",
       "      <th>Lead Origin_Lead Import</th>\n",
       "      <th>What is your current occupation_Housewife</th>\n",
       "      <th>What is your current occupation_Other</th>\n",
       "      <th>...</th>\n",
       "      <th>Last Notable Activity_Olark Chat Conversation</th>\n",
       "      <th>Last Notable Activity_Page Visited on Website</th>\n",
       "      <th>Last Notable Activity_SMS Sent</th>\n",
       "      <th>Tags_Busy</th>\n",
       "      <th>Tags_Closed by Horizzon</th>\n",
       "      <th>Tags_Interested in other courses</th>\n",
       "      <th>Tags_Lost to EINS</th>\n",
       "      <th>Tags_Other_Tags</th>\n",
       "      <th>Tags_Ringing</th>\n",
       "      <th>Tags_Will revert after reading the email</th>\n",
       "    </tr>\n",
       "  </thead>\n",
       "  <tbody>\n",
       "    <tr>\n",
       "      <th>8430</th>\n",
       "      <td>0.0</td>\n",
       "      <td>0</td>\n",
       "      <td>0.00</td>\n",
       "      <td>17.0</td>\n",
       "      <td>15.0</td>\n",
       "      <td>0</td>\n",
       "      <td>0</td>\n",
       "      <td>0</td>\n",
       "      <td>0</td>\n",
       "      <td>0</td>\n",
       "      <td>...</td>\n",
       "      <td>0</td>\n",
       "      <td>0</td>\n",
       "      <td>0</td>\n",
       "      <td>0</td>\n",
       "      <td>0</td>\n",
       "      <td>0</td>\n",
       "      <td>0</td>\n",
       "      <td>0</td>\n",
       "      <td>0</td>\n",
       "      <td>0</td>\n",
       "    </tr>\n",
       "    <tr>\n",
       "      <th>7802</th>\n",
       "      <td>0.0</td>\n",
       "      <td>0</td>\n",
       "      <td>0.00</td>\n",
       "      <td>15.0</td>\n",
       "      <td>15.0</td>\n",
       "      <td>0</td>\n",
       "      <td>0</td>\n",
       "      <td>0</td>\n",
       "      <td>0</td>\n",
       "      <td>0</td>\n",
       "      <td>...</td>\n",
       "      <td>1</td>\n",
       "      <td>0</td>\n",
       "      <td>0</td>\n",
       "      <td>0</td>\n",
       "      <td>0</td>\n",
       "      <td>1</td>\n",
       "      <td>0</td>\n",
       "      <td>0</td>\n",
       "      <td>0</td>\n",
       "      <td>0</td>\n",
       "    </tr>\n",
       "    <tr>\n",
       "      <th>2188</th>\n",
       "      <td>3.0</td>\n",
       "      <td>354</td>\n",
       "      <td>3.00</td>\n",
       "      <td>14.0</td>\n",
       "      <td>17.0</td>\n",
       "      <td>1</td>\n",
       "      <td>0</td>\n",
       "      <td>0</td>\n",
       "      <td>0</td>\n",
       "      <td>0</td>\n",
       "      <td>...</td>\n",
       "      <td>0</td>\n",
       "      <td>0</td>\n",
       "      <td>0</td>\n",
       "      <td>0</td>\n",
       "      <td>1</td>\n",
       "      <td>0</td>\n",
       "      <td>0</td>\n",
       "      <td>0</td>\n",
       "      <td>0</td>\n",
       "      <td>0</td>\n",
       "    </tr>\n",
       "    <tr>\n",
       "      <th>1512</th>\n",
       "      <td>4.0</td>\n",
       "      <td>995</td>\n",
       "      <td>1.33</td>\n",
       "      <td>14.0</td>\n",
       "      <td>17.0</td>\n",
       "      <td>0</td>\n",
       "      <td>0</td>\n",
       "      <td>0</td>\n",
       "      <td>0</td>\n",
       "      <td>0</td>\n",
       "      <td>...</td>\n",
       "      <td>0</td>\n",
       "      <td>0</td>\n",
       "      <td>0</td>\n",
       "      <td>0</td>\n",
       "      <td>0</td>\n",
       "      <td>0</td>\n",
       "      <td>0</td>\n",
       "      <td>0</td>\n",
       "      <td>0</td>\n",
       "      <td>1</td>\n",
       "    </tr>\n",
       "    <tr>\n",
       "      <th>362</th>\n",
       "      <td>4.0</td>\n",
       "      <td>71</td>\n",
       "      <td>4.00</td>\n",
       "      <td>11.0</td>\n",
       "      <td>15.0</td>\n",
       "      <td>0</td>\n",
       "      <td>0</td>\n",
       "      <td>0</td>\n",
       "      <td>0</td>\n",
       "      <td>0</td>\n",
       "      <td>...</td>\n",
       "      <td>0</td>\n",
       "      <td>0</td>\n",
       "      <td>0</td>\n",
       "      <td>0</td>\n",
       "      <td>0</td>\n",
       "      <td>0</td>\n",
       "      <td>0</td>\n",
       "      <td>0</td>\n",
       "      <td>0</td>\n",
       "      <td>0</td>\n",
       "    </tr>\n",
       "  </tbody>\n",
       "</table>\n",
       "<p>5 rows × 67 columns</p>\n",
       "</div>"
      ],
      "text/plain": [
       "      TotalVisits  Total Time Spent on Website  Page Views Per Visit  \\\n",
       "8430          0.0                            0                  0.00   \n",
       "7802          0.0                            0                  0.00   \n",
       "2188          3.0                          354                  3.00   \n",
       "1512          4.0                          995                  1.33   \n",
       "362           4.0                           71                  4.00   \n",
       "\n",
       "      Asymmetrique Activity Score  Asymmetrique Profile Score  \\\n",
       "8430                         17.0                        15.0   \n",
       "7802                         15.0                        15.0   \n",
       "2188                         14.0                        17.0   \n",
       "1512                         14.0                        17.0   \n",
       "362                          11.0                        15.0   \n",
       "\n",
       "      Lead Origin_Landing Page Submission  Lead Origin_Lead Add Form  \\\n",
       "8430                                    0                          0   \n",
       "7802                                    0                          0   \n",
       "2188                                    1                          0   \n",
       "1512                                    0                          0   \n",
       "362                                     0                          0   \n",
       "\n",
       "      Lead Origin_Lead Import  What is your current occupation_Housewife  \\\n",
       "8430                        0                                          0   \n",
       "7802                        0                                          0   \n",
       "2188                        0                                          0   \n",
       "1512                        0                                          0   \n",
       "362                         0                                          0   \n",
       "\n",
       "      What is your current occupation_Other  ...  \\\n",
       "8430                                      0  ...   \n",
       "7802                                      0  ...   \n",
       "2188                                      0  ...   \n",
       "1512                                      0  ...   \n",
       "362                                       0  ...   \n",
       "\n",
       "      Last Notable Activity_Olark Chat Conversation  \\\n",
       "8430                                              0   \n",
       "7802                                              1   \n",
       "2188                                              0   \n",
       "1512                                              0   \n",
       "362                                               0   \n",
       "\n",
       "      Last Notable Activity_Page Visited on Website  \\\n",
       "8430                                              0   \n",
       "7802                                              0   \n",
       "2188                                              0   \n",
       "1512                                              0   \n",
       "362                                               0   \n",
       "\n",
       "      Last Notable Activity_SMS Sent  Tags_Busy  Tags_Closed by Horizzon  \\\n",
       "8430                               0          0                        0   \n",
       "7802                               0          0                        0   \n",
       "2188                               0          0                        1   \n",
       "1512                               0          0                        0   \n",
       "362                                0          0                        0   \n",
       "\n",
       "      Tags_Interested in other courses  Tags_Lost to EINS  Tags_Other_Tags  \\\n",
       "8430                                 0                  0                0   \n",
       "7802                                 1                  0                0   \n",
       "2188                                 0                  0                0   \n",
       "1512                                 0                  0                0   \n",
       "362                                  0                  0                0   \n",
       "\n",
       "      Tags_Ringing  Tags_Will revert after reading the email  \n",
       "8430             0                                         0  \n",
       "7802             0                                         0  \n",
       "2188             0                                         0  \n",
       "1512             0                                         1  \n",
       "362              0                                         0  \n",
       "\n",
       "[5 rows x 67 columns]"
      ]
     },
     "execution_count": 1784,
     "metadata": {},
     "output_type": "execute_result"
    }
   ],
   "source": [
    "X_test.head()"
   ]
  },
  {
   "cell_type": "code",
   "execution_count": 1785,
   "id": "7cafaf45",
   "metadata": {},
   "outputs": [
    {
     "data": {
      "text/plain": [
       "200     1\n",
       "816     1\n",
       "8764    0\n",
       "3502    0\n",
       "8576    1\n",
       "Name: Converted, dtype: int64"
      ]
     },
     "execution_count": 1785,
     "metadata": {},
     "output_type": "execute_result"
    }
   ],
   "source": [
    "y_train.head()"
   ]
  },
  {
   "cell_type": "code",
   "execution_count": 1786,
   "id": "2b8b74d6",
   "metadata": {},
   "outputs": [
    {
     "data": {
      "text/plain": [
       "8430    0\n",
       "7802    0\n",
       "2188    1\n",
       "1512    1\n",
       "362     0\n",
       "Name: Converted, dtype: int64"
      ]
     },
     "execution_count": 1786,
     "metadata": {},
     "output_type": "execute_result"
    }
   ],
   "source": [
    "y_test.head()"
   ]
  },
  {
   "cell_type": "code",
   "execution_count": 1787,
   "id": "c61d0a68",
   "metadata": {},
   "outputs": [
    {
     "name": "stdout",
     "output_type": "stream",
     "text": [
      "<class 'pandas.core.frame.DataFrame'>\n",
      "Int64Index: 3395 entries, 200 to 8289\n",
      "Data columns (total 67 columns):\n",
      " #   Column                                                Non-Null Count  Dtype  \n",
      "---  ------                                                --------------  -----  \n",
      " 0   TotalVisits                                           3395 non-null   float64\n",
      " 1   Total Time Spent on Website                           3395 non-null   int64  \n",
      " 2   Page Views Per Visit                                  3395 non-null   float64\n",
      " 3   Asymmetrique Activity Score                           3395 non-null   float64\n",
      " 4   Asymmetrique Profile Score                            3395 non-null   float64\n",
      " 5   Lead Origin_Landing Page Submission                   3395 non-null   uint8  \n",
      " 6   Lead Origin_Lead Add Form                             3395 non-null   uint8  \n",
      " 7   Lead Origin_Lead Import                               3395 non-null   uint8  \n",
      " 8   What is your current occupation_Housewife             3395 non-null   uint8  \n",
      " 9   What is your current occupation_Other                 3395 non-null   uint8  \n",
      " 10  What is your current occupation_Student               3395 non-null   uint8  \n",
      " 11  What is your current occupation_Unemployed            3395 non-null   uint8  \n",
      " 12  What is your current occupation_Working Professional  3395 non-null   uint8  \n",
      " 13  City_Other Cities                                     3395 non-null   uint8  \n",
      " 14  City_Other Cities of Maharashtra                      3395 non-null   uint8  \n",
      " 15  City_Other Metro Cities                               3395 non-null   uint8  \n",
      " 16  City_Thane & Outskirts                                3395 non-null   uint8  \n",
      " 17  City_Tier II Cities                                   3395 non-null   uint8  \n",
      " 18  Specialization_Banking, Investment And Insurance      3395 non-null   uint8  \n",
      " 19  Specialization_Business Administration                3395 non-null   uint8  \n",
      " 20  Specialization_E-Business                             3395 non-null   uint8  \n",
      " 21  Specialization_E-COMMERCE                             3395 non-null   uint8  \n",
      " 22  Specialization_International Business                 3395 non-null   uint8  \n",
      " 23  Specialization_Management_Specializations             3395 non-null   uint8  \n",
      " 24  Specialization_Media and Advertising                  3395 non-null   uint8  \n",
      " 25  Specialization_Rural and Agribusiness                 3395 non-null   uint8  \n",
      " 26  Specialization_Services Excellence                    3395 non-null   uint8  \n",
      " 27  Specialization_Travel and Tourism                     3395 non-null   uint8  \n",
      " 28  Lead Source_Click2call                                3395 non-null   uint8  \n",
      " 29  Lead Source_Direct Traffic                            3395 non-null   uint8  \n",
      " 30  Lead Source_Facebook                                  3395 non-null   uint8  \n",
      " 31  Lead Source_Google                                    3395 non-null   uint8  \n",
      " 32  Lead Source_Live Chat                                 3395 non-null   uint8  \n",
      " 33  Lead Source_NC_EDM                                    3395 non-null   uint8  \n",
      " 34  Lead Source_Olark Chat                                3395 non-null   uint8  \n",
      " 35  Lead Source_Organic Search                            3395 non-null   uint8  \n",
      " 36  Lead Source_Pay per Click Ads                         3395 non-null   uint8  \n",
      " 37  Lead Source_Press_Release                             3395 non-null   uint8  \n",
      " 38  Lead Source_Reference                                 3395 non-null   uint8  \n",
      " 39  Lead Source_Referral Sites                            3395 non-null   uint8  \n",
      " 40  Lead Source_Social Media                              3395 non-null   uint8  \n",
      " 41  Lead Source_WeLearn                                   3395 non-null   uint8  \n",
      " 42  Lead Source_Welingak Website                          3395 non-null   uint8  \n",
      " 43  Lead Source_bing                                      3395 non-null   uint8  \n",
      " 44  Lead Source_blog                                      3395 non-null   uint8  \n",
      " 45  Lead Source_google                                    3395 non-null   uint8  \n",
      " 46  Last Activity_Converted to Lead                       3395 non-null   uint8  \n",
      " 47  Last Activity_Email Bounced                           3395 non-null   uint8  \n",
      " 48  Last Activity_Email Link Clicked                      3395 non-null   uint8  \n",
      " 49  Last Activity_Email Opened                            3395 non-null   uint8  \n",
      " 50  Last Activity_Form Submitted on Website               3395 non-null   uint8  \n",
      " 51  Last Activity_Olark Chat Conversation                 3395 non-null   uint8  \n",
      " 52  Last Activity_Page Visited on Website                 3395 non-null   uint8  \n",
      " 53  Last Activity_SMS Sent                                3395 non-null   uint8  \n",
      " 54  Last Notable Activity_Email Link Clicked              3395 non-null   uint8  \n",
      " 55  Last Notable Activity_Email Opened                    3395 non-null   uint8  \n",
      " 56  Last Notable Activity_Modified                        3395 non-null   uint8  \n",
      " 57  Last Notable Activity_Olark Chat Conversation         3395 non-null   uint8  \n",
      " 58  Last Notable Activity_Page Visited on Website         3395 non-null   uint8  \n",
      " 59  Last Notable Activity_SMS Sent                        3395 non-null   uint8  \n",
      " 60  Tags_Busy                                             3395 non-null   uint8  \n",
      " 61  Tags_Closed by Horizzon                               3395 non-null   uint8  \n",
      " 62  Tags_Interested in other courses                      3395 non-null   uint8  \n",
      " 63  Tags_Lost to EINS                                     3395 non-null   uint8  \n",
      " 64  Tags_Other_Tags                                       3395 non-null   uint8  \n",
      " 65  Tags_Ringing                                          3395 non-null   uint8  \n",
      " 66  Tags_Will revert after reading the email              3395 non-null   uint8  \n",
      "dtypes: float64(4), int64(1), uint8(62)\n",
      "memory usage: 364.7 KB\n"
     ]
    }
   ],
   "source": [
    "X_train.info()"
   ]
  },
  {
   "cell_type": "code",
   "execution_count": 1788,
   "id": "d3e6595f",
   "metadata": {},
   "outputs": [
    {
     "data": {
      "text/plain": [
       "(3395, 67)"
      ]
     },
     "execution_count": 1788,
     "metadata": {},
     "output_type": "execute_result"
    }
   ],
   "source": [
    "X_train.shape"
   ]
  },
  {
   "cell_type": "code",
   "execution_count": 1789,
   "id": "5e4455f6",
   "metadata": {},
   "outputs": [
    {
     "data": {
      "text/plain": [
       "(3395,)"
      ]
     },
     "execution_count": 1789,
     "metadata": {},
     "output_type": "execute_result"
    }
   ],
   "source": [
    "y_train.shape"
   ]
  },
  {
   "cell_type": "code",
   "execution_count": 1790,
   "id": "e6f7232f",
   "metadata": {},
   "outputs": [
    {
     "data": {
      "text/plain": [
       "(1456, 67)"
      ]
     },
     "execution_count": 1790,
     "metadata": {},
     "output_type": "execute_result"
    }
   ],
   "source": [
    "X_test.shape"
   ]
  },
  {
   "cell_type": "code",
   "execution_count": 1791,
   "id": "3deca4c4",
   "metadata": {},
   "outputs": [
    {
     "data": {
      "text/plain": [
       "(1456,)"
      ]
     },
     "execution_count": 1791,
     "metadata": {},
     "output_type": "execute_result"
    }
   ],
   "source": [
    "y_test.shape"
   ]
  },
  {
   "cell_type": "code",
   "execution_count": 1792,
   "id": "cc81d0dc",
   "metadata": {},
   "outputs": [
    {
     "data": {
      "text/html": [
       "<div>\n",
       "<style scoped>\n",
       "    .dataframe tbody tr th:only-of-type {\n",
       "        vertical-align: middle;\n",
       "    }\n",
       "\n",
       "    .dataframe tbody tr th {\n",
       "        vertical-align: top;\n",
       "    }\n",
       "\n",
       "    .dataframe thead th {\n",
       "        text-align: right;\n",
       "    }\n",
       "</style>\n",
       "<table border=\"1\" class=\"dataframe\">\n",
       "  <thead>\n",
       "    <tr style=\"text-align: right;\">\n",
       "      <th></th>\n",
       "      <th>TotalVisits</th>\n",
       "      <th>Total Time Spent on Website</th>\n",
       "      <th>Page Views Per Visit</th>\n",
       "      <th>Asymmetrique Activity Score</th>\n",
       "      <th>Asymmetrique Profile Score</th>\n",
       "      <th>Lead Origin_Landing Page Submission</th>\n",
       "      <th>Lead Origin_Lead Add Form</th>\n",
       "      <th>Lead Origin_Lead Import</th>\n",
       "      <th>What is your current occupation_Housewife</th>\n",
       "      <th>What is your current occupation_Other</th>\n",
       "      <th>...</th>\n",
       "      <th>Last Notable Activity_Olark Chat Conversation</th>\n",
       "      <th>Last Notable Activity_Page Visited on Website</th>\n",
       "      <th>Last Notable Activity_SMS Sent</th>\n",
       "      <th>Tags_Busy</th>\n",
       "      <th>Tags_Closed by Horizzon</th>\n",
       "      <th>Tags_Interested in other courses</th>\n",
       "      <th>Tags_Lost to EINS</th>\n",
       "      <th>Tags_Other_Tags</th>\n",
       "      <th>Tags_Ringing</th>\n",
       "      <th>Tags_Will revert after reading the email</th>\n",
       "    </tr>\n",
       "  </thead>\n",
       "  <tbody>\n",
       "    <tr>\n",
       "      <th>200</th>\n",
       "      <td>0.575560</td>\n",
       "      <td>1.376269</td>\n",
       "      <td>-0.322542</td>\n",
       "      <td>1.215443</td>\n",
       "      <td>0.357474</td>\n",
       "      <td>0</td>\n",
       "      <td>0</td>\n",
       "      <td>0</td>\n",
       "      <td>0</td>\n",
       "      <td>0</td>\n",
       "      <td>...</td>\n",
       "      <td>0</td>\n",
       "      <td>0</td>\n",
       "      <td>0</td>\n",
       "      <td>0</td>\n",
       "      <td>0</td>\n",
       "      <td>0</td>\n",
       "      <td>0</td>\n",
       "      <td>0</td>\n",
       "      <td>0</td>\n",
       "      <td>1</td>\n",
       "    </tr>\n",
       "    <tr>\n",
       "      <th>816</th>\n",
       "      <td>-0.083582</td>\n",
       "      <td>0.960712</td>\n",
       "      <td>-0.411276</td>\n",
       "      <td>0.495047</td>\n",
       "      <td>-0.767294</td>\n",
       "      <td>0</td>\n",
       "      <td>0</td>\n",
       "      <td>0</td>\n",
       "      <td>0</td>\n",
       "      <td>0</td>\n",
       "      <td>...</td>\n",
       "      <td>1</td>\n",
       "      <td>0</td>\n",
       "      <td>0</td>\n",
       "      <td>0</td>\n",
       "      <td>0</td>\n",
       "      <td>0</td>\n",
       "      <td>0</td>\n",
       "      <td>0</td>\n",
       "      <td>0</td>\n",
       "      <td>0</td>\n",
       "    </tr>\n",
       "    <tr>\n",
       "      <th>8764</th>\n",
       "      <td>0.245989</td>\n",
       "      <td>1.000986</td>\n",
       "      <td>0.893636</td>\n",
       "      <td>-0.225349</td>\n",
       "      <td>2.044628</td>\n",
       "      <td>1</td>\n",
       "      <td>0</td>\n",
       "      <td>0</td>\n",
       "      <td>0</td>\n",
       "      <td>0</td>\n",
       "      <td>...</td>\n",
       "      <td>0</td>\n",
       "      <td>0</td>\n",
       "      <td>1</td>\n",
       "      <td>0</td>\n",
       "      <td>0</td>\n",
       "      <td>0</td>\n",
       "      <td>0</td>\n",
       "      <td>0</td>\n",
       "      <td>1</td>\n",
       "      <td>0</td>\n",
       "    </tr>\n",
       "    <tr>\n",
       "      <th>3502</th>\n",
       "      <td>1.893843</td>\n",
       "      <td>-0.701519</td>\n",
       "      <td>-0.019802</td>\n",
       "      <td>0.495047</td>\n",
       "      <td>-0.204910</td>\n",
       "      <td>0</td>\n",
       "      <td>0</td>\n",
       "      <td>0</td>\n",
       "      <td>0</td>\n",
       "      <td>0</td>\n",
       "      <td>...</td>\n",
       "      <td>0</td>\n",
       "      <td>0</td>\n",
       "      <td>0</td>\n",
       "      <td>0</td>\n",
       "      <td>0</td>\n",
       "      <td>0</td>\n",
       "      <td>0</td>\n",
       "      <td>0</td>\n",
       "      <td>0</td>\n",
       "      <td>0</td>\n",
       "    </tr>\n",
       "    <tr>\n",
       "      <th>8576</th>\n",
       "      <td>-0.083582</td>\n",
       "      <td>0.096645</td>\n",
       "      <td>0.371671</td>\n",
       "      <td>0.495047</td>\n",
       "      <td>2.044628</td>\n",
       "      <td>1</td>\n",
       "      <td>0</td>\n",
       "      <td>0</td>\n",
       "      <td>0</td>\n",
       "      <td>0</td>\n",
       "      <td>...</td>\n",
       "      <td>0</td>\n",
       "      <td>0</td>\n",
       "      <td>1</td>\n",
       "      <td>0</td>\n",
       "      <td>0</td>\n",
       "      <td>0</td>\n",
       "      <td>0</td>\n",
       "      <td>0</td>\n",
       "      <td>0</td>\n",
       "      <td>1</td>\n",
       "    </tr>\n",
       "  </tbody>\n",
       "</table>\n",
       "<p>5 rows × 67 columns</p>\n",
       "</div>"
      ],
      "text/plain": [
       "      TotalVisits  Total Time Spent on Website  Page Views Per Visit  \\\n",
       "200      0.575560                     1.376269             -0.322542   \n",
       "816     -0.083582                     0.960712             -0.411276   \n",
       "8764     0.245989                     1.000986              0.893636   \n",
       "3502     1.893843                    -0.701519             -0.019802   \n",
       "8576    -0.083582                     0.096645              0.371671   \n",
       "\n",
       "      Asymmetrique Activity Score  Asymmetrique Profile Score  \\\n",
       "200                      1.215443                    0.357474   \n",
       "816                      0.495047                   -0.767294   \n",
       "8764                    -0.225349                    2.044628   \n",
       "3502                     0.495047                   -0.204910   \n",
       "8576                     0.495047                    2.044628   \n",
       "\n",
       "      Lead Origin_Landing Page Submission  Lead Origin_Lead Add Form  \\\n",
       "200                                     0                          0   \n",
       "816                                     0                          0   \n",
       "8764                                    1                          0   \n",
       "3502                                    0                          0   \n",
       "8576                                    1                          0   \n",
       "\n",
       "      Lead Origin_Lead Import  What is your current occupation_Housewife  \\\n",
       "200                         0                                          0   \n",
       "816                         0                                          0   \n",
       "8764                        0                                          0   \n",
       "3502                        0                                          0   \n",
       "8576                        0                                          0   \n",
       "\n",
       "      What is your current occupation_Other  ...  \\\n",
       "200                                       0  ...   \n",
       "816                                       0  ...   \n",
       "8764                                      0  ...   \n",
       "3502                                      0  ...   \n",
       "8576                                      0  ...   \n",
       "\n",
       "      Last Notable Activity_Olark Chat Conversation  \\\n",
       "200                                               0   \n",
       "816                                               1   \n",
       "8764                                              0   \n",
       "3502                                              0   \n",
       "8576                                              0   \n",
       "\n",
       "      Last Notable Activity_Page Visited on Website  \\\n",
       "200                                               0   \n",
       "816                                               0   \n",
       "8764                                              0   \n",
       "3502                                              0   \n",
       "8576                                              0   \n",
       "\n",
       "      Last Notable Activity_SMS Sent  Tags_Busy  Tags_Closed by Horizzon  \\\n",
       "200                                0          0                        0   \n",
       "816                                0          0                        0   \n",
       "8764                               1          0                        0   \n",
       "3502                               0          0                        0   \n",
       "8576                               1          0                        0   \n",
       "\n",
       "      Tags_Interested in other courses  Tags_Lost to EINS  Tags_Other_Tags  \\\n",
       "200                                  0                  0                0   \n",
       "816                                  0                  0                0   \n",
       "8764                                 0                  0                0   \n",
       "3502                                 0                  0                0   \n",
       "8576                                 0                  0                0   \n",
       "\n",
       "      Tags_Ringing  Tags_Will revert after reading the email  \n",
       "200              0                                         1  \n",
       "816              0                                         0  \n",
       "8764             1                                         0  \n",
       "3502             0                                         0  \n",
       "8576             0                                         1  \n",
       "\n",
       "[5 rows x 67 columns]"
      ]
     },
     "execution_count": 1792,
     "metadata": {},
     "output_type": "execute_result"
    }
   ],
   "source": [
    "from sklearn.preprocessing import StandardScaler\n",
    "scaler = StandardScaler()\n",
    "numerical_cols=X_train.select_dtypes(include=['float64', 'int64']).columns\n",
    "X_train[numerical_cols] = scaler.fit_transform(X_train[numerical_cols])\n",
    "X_train.head()"
   ]
  },
  {
   "cell_type": "code",
   "execution_count": 1793,
   "id": "a09d2272",
   "metadata": {},
   "outputs": [],
   "source": [
    "##BULIDING OF LINEAR REGRESSION USING THE STATS MODEL AND RFE:"
   ]
  },
  {
   "cell_type": "code",
   "execution_count": 1794,
   "id": "0b3ec8e1",
   "metadata": {},
   "outputs": [],
   "source": [
    "##IMPORTING OF STAT MODEL##\n",
    "import statsmodels.api as sm"
   ]
  },
  {
   "cell_type": "code",
   "execution_count": 1795,
   "id": "f666d660",
   "metadata": {},
   "outputs": [],
   "source": [
    "from sklearn.linear_model import LogisticRegression\n",
    "logreg = LogisticRegression()\n",
    "from sklearn.feature_selection import RFE\n",
    "rfe = RFE(logreg, n_features_to_select=10)\n",
    "rfe = rfe.fit(X_train, y_train)"
   ]
  },
  {
   "cell_type": "code",
   "execution_count": 1796,
   "id": "fd92127a",
   "metadata": {},
   "outputs": [
    {
     "data": {
      "text/plain": [
       "array([False,  True, False, False, False, False,  True, False, False,\n",
       "       False, False, False, False, False, False, False, False, False,\n",
       "       False, False, False, False, False, False, False, False, False,\n",
       "       False, False, False, False, False, False, False, False, False,\n",
       "       False, False, False, False, False, False,  True, False, False,\n",
       "       False, False, False, False, False, False, False, False, False,\n",
       "       False, False, False, False, False,  True, False,  True,  True,\n",
       "        True,  True,  True,  True])"
      ]
     },
     "execution_count": 1796,
     "metadata": {},
     "output_type": "execute_result"
    }
   ],
   "source": [
    "rfe.support_"
   ]
  },
  {
   "cell_type": "code",
   "execution_count": 1797,
   "id": "5cb1c293",
   "metadata": {},
   "outputs": [
    {
     "data": {
      "text/plain": [
       "[('TotalVisits', False, 47),\n",
       " ('Total Time Spent on Website', True, 1),\n",
       " ('Page Views Per Visit', False, 36),\n",
       " ('Asymmetrique Activity Score', False, 10),\n",
       " ('Asymmetrique Profile Score', False, 29),\n",
       " ('Lead Origin_Landing Page Submission', False, 3),\n",
       " ('Lead Origin_Lead Add Form', True, 1),\n",
       " ('Lead Origin_Lead Import', False, 38),\n",
       " ('What is your current occupation_Housewife', False, 44),\n",
       " ('What is your current occupation_Other', False, 27),\n",
       " ('What is your current occupation_Student', False, 46),\n",
       " ('What is your current occupation_Unemployed', False, 40),\n",
       " ('What is your current occupation_Working Professional', False, 11),\n",
       " ('City_Other Cities', False, 23),\n",
       " ('City_Other Cities of Maharashtra', False, 31),\n",
       " ('City_Other Metro Cities', False, 14),\n",
       " ('City_Thane & Outskirts', False, 42),\n",
       " ('City_Tier II Cities', False, 39),\n",
       " ('Specialization_Banking, Investment And Insurance', False, 34),\n",
       " ('Specialization_Business Administration', False, 21),\n",
       " ('Specialization_E-Business', False, 25),\n",
       " ('Specialization_E-COMMERCE', False, 24),\n",
       " ('Specialization_International Business', False, 43),\n",
       " ('Specialization_Management_Specializations', False, 50),\n",
       " ('Specialization_Media and Advertising', False, 53),\n",
       " ('Specialization_Rural and Agribusiness', False, 48),\n",
       " ('Specialization_Services Excellence', False, 28),\n",
       " ('Specialization_Travel and Tourism', False, 49),\n",
       " ('Lead Source_Click2call', False, 56),\n",
       " ('Lead Source_Direct Traffic', False, 22),\n",
       " ('Lead Source_Facebook', False, 18),\n",
       " ('Lead Source_Google', False, 30),\n",
       " ('Lead Source_Live Chat', False, 57),\n",
       " ('Lead Source_NC_EDM', False, 16),\n",
       " ('Lead Source_Olark Chat', False, 35),\n",
       " ('Lead Source_Organic Search', False, 26),\n",
       " ('Lead Source_Pay per Click Ads', False, 55),\n",
       " ('Lead Source_Press_Release', False, 54),\n",
       " ('Lead Source_Reference', False, 4),\n",
       " ('Lead Source_Referral Sites', False, 15),\n",
       " ('Lead Source_Social Media', False, 45),\n",
       " ('Lead Source_WeLearn', False, 51),\n",
       " ('Lead Source_Welingak Website', True, 1),\n",
       " ('Lead Source_bing', False, 52),\n",
       " ('Lead Source_blog', False, 58),\n",
       " ('Lead Source_google', False, 41),\n",
       " ('Last Activity_Converted to Lead', False, 9),\n",
       " ('Last Activity_Email Bounced', False, 5),\n",
       " ('Last Activity_Email Link Clicked', False, 37),\n",
       " ('Last Activity_Email Opened', False, 33),\n",
       " ('Last Activity_Form Submitted on Website', False, 19),\n",
       " ('Last Activity_Olark Chat Conversation', False, 6),\n",
       " ('Last Activity_Page Visited on Website', False, 8),\n",
       " ('Last Activity_SMS Sent', False, 12),\n",
       " ('Last Notable Activity_Email Link Clicked', False, 17),\n",
       " ('Last Notable Activity_Email Opened', False, 32),\n",
       " ('Last Notable Activity_Modified', False, 13),\n",
       " ('Last Notable Activity_Olark Chat Conversation', False, 20),\n",
       " ('Last Notable Activity_Page Visited on Website', False, 7),\n",
       " ('Last Notable Activity_SMS Sent', True, 1),\n",
       " ('Tags_Busy', False, 2),\n",
       " ('Tags_Closed by Horizzon', True, 1),\n",
       " ('Tags_Interested in other courses', True, 1),\n",
       " ('Tags_Lost to EINS', True, 1),\n",
       " ('Tags_Other_Tags', True, 1),\n",
       " ('Tags_Ringing', True, 1),\n",
       " ('Tags_Will revert after reading the email', True, 1)]"
      ]
     },
     "execution_count": 1797,
     "metadata": {},
     "output_type": "execute_result"
    }
   ],
   "source": [
    "##COMBINING DATA##\n",
    "Zipped_data = zip(X_train.columns, rfe.support_, rfe.ranking_)\n",
    "Zipped_data = list(Zipped_data)\n",
    "Zipped_data"
   ]
  },
  {
   "cell_type": "code",
   "execution_count": 1798,
   "id": "a120bc24",
   "metadata": {},
   "outputs": [
    {
     "data": {
      "text/plain": [
       "Index(['Total Time Spent on Website', 'Lead Origin_Lead Add Form',\n",
       "       'Lead Source_Welingak Website', 'Last Notable Activity_SMS Sent',\n",
       "       'Tags_Closed by Horizzon', 'Tags_Interested in other courses',\n",
       "       'Tags_Lost to EINS', 'Tags_Other_Tags', 'Tags_Ringing',\n",
       "       'Tags_Will revert after reading the email'],\n",
       "      dtype='object')"
      ]
     },
     "execution_count": 1798,
     "metadata": {},
     "output_type": "execute_result"
    }
   ],
   "source": [
    "##CHECKING OF RFE SUPPORTING COLUMNS##\n",
    "rfe_support_col = X_train.columns[rfe.support_]\n",
    "rfe_support_col"
   ]
  },
  {
   "cell_type": "code",
   "execution_count": 1799,
   "id": "9971e759",
   "metadata": {},
   "outputs": [
    {
     "data": {
      "text/plain": [
       "Index(['TotalVisits', 'Page Views Per Visit', 'Asymmetrique Activity Score',\n",
       "       'Asymmetrique Profile Score', 'Lead Origin_Landing Page Submission',\n",
       "       'Lead Origin_Lead Import', 'What is your current occupation_Housewife',\n",
       "       'What is your current occupation_Other',\n",
       "       'What is your current occupation_Student',\n",
       "       'What is your current occupation_Unemployed',\n",
       "       'What is your current occupation_Working Professional',\n",
       "       'City_Other Cities', 'City_Other Cities of Maharashtra',\n",
       "       'City_Other Metro Cities', 'City_Thane & Outskirts',\n",
       "       'City_Tier II Cities',\n",
       "       'Specialization_Banking, Investment And Insurance',\n",
       "       'Specialization_Business Administration', 'Specialization_E-Business',\n",
       "       'Specialization_E-COMMERCE', 'Specialization_International Business',\n",
       "       'Specialization_Management_Specializations',\n",
       "       'Specialization_Media and Advertising',\n",
       "       'Specialization_Rural and Agribusiness',\n",
       "       'Specialization_Services Excellence',\n",
       "       'Specialization_Travel and Tourism', 'Lead Source_Click2call',\n",
       "       'Lead Source_Direct Traffic', 'Lead Source_Facebook',\n",
       "       'Lead Source_Google', 'Lead Source_Live Chat', 'Lead Source_NC_EDM',\n",
       "       'Lead Source_Olark Chat', 'Lead Source_Organic Search',\n",
       "       'Lead Source_Pay per Click Ads', 'Lead Source_Press_Release',\n",
       "       'Lead Source_Reference', 'Lead Source_Referral Sites',\n",
       "       'Lead Source_Social Media', 'Lead Source_WeLearn', 'Lead Source_bing',\n",
       "       'Lead Source_blog', 'Lead Source_google',\n",
       "       'Last Activity_Converted to Lead', 'Last Activity_Email Bounced',\n",
       "       'Last Activity_Email Link Clicked', 'Last Activity_Email Opened',\n",
       "       'Last Activity_Form Submitted on Website',\n",
       "       'Last Activity_Olark Chat Conversation',\n",
       "       'Last Activity_Page Visited on Website', 'Last Activity_SMS Sent',\n",
       "       'Last Notable Activity_Email Link Clicked',\n",
       "       'Last Notable Activity_Email Opened', 'Last Notable Activity_Modified',\n",
       "       'Last Notable Activity_Olark Chat Conversation',\n",
       "       'Last Notable Activity_Page Visited on Website', 'Tags_Busy'],\n",
       "      dtype='object')"
      ]
     },
     "execution_count": 1799,
     "metadata": {},
     "output_type": "execute_result"
    }
   ],
   "source": [
    "##COLUMNS NOT SUPPORTED BY RFE##\n",
    "X_train.columns[~rfe.support_]"
   ]
  },
  {
   "cell_type": "code",
   "execution_count": 1800,
   "id": "30d1c674",
   "metadata": {},
   "outputs": [
    {
     "data": {
      "text/html": [
       "<table class=\"simpletable\">\n",
       "<caption>Generalized Linear Model Regression Results</caption>\n",
       "<tr>\n",
       "  <th>Dep. Variable:</th>       <td>Converted</td>    <th>  No. Observations:  </th>  <td>  3395</td> \n",
       "</tr>\n",
       "<tr>\n",
       "  <th>Model:</th>                  <td>GLM</td>       <th>  Df Residuals:      </th>  <td>  3384</td> \n",
       "</tr>\n",
       "<tr>\n",
       "  <th>Model Family:</th>        <td>Binomial</td>     <th>  Df Model:          </th>  <td>    10</td> \n",
       "</tr>\n",
       "<tr>\n",
       "  <th>Link Function:</th>         <td>Logit</td>      <th>  Scale:             </th> <td>  1.0000</td>\n",
       "</tr>\n",
       "<tr>\n",
       "  <th>Method:</th>                <td>IRLS</td>       <th>  Log-Likelihood:    </th> <td> -754.41</td>\n",
       "</tr>\n",
       "<tr>\n",
       "  <th>Date:</th>            <td>Tue, 27 Feb 2024</td> <th>  Deviance:          </th> <td>  1508.8</td>\n",
       "</tr>\n",
       "<tr>\n",
       "  <th>Time:</th>                <td>10:34:57</td>     <th>  Pearson chi2:      </th> <td>3.91e+03</td>\n",
       "</tr>\n",
       "<tr>\n",
       "  <th>No. Iterations:</th>         <td>24</td>        <th>  Pseudo R-squ. (CS):</th>  <td>0.5838</td> \n",
       "</tr>\n",
       "<tr>\n",
       "  <th>Covariance Type:</th>     <td>nonrobust</td>    <th>                     </th>     <td> </td>   \n",
       "</tr>\n",
       "</table>\n",
       "<table class=\"simpletable\">\n",
       "<tr>\n",
       "                      <td></td>                        <th>coef</th>     <th>std err</th>      <th>z</th>      <th>P>|z|</th>  <th>[0.025</th>    <th>0.975]</th>  \n",
       "</tr>\n",
       "<tr>\n",
       "  <th>const</th>                                    <td>   -1.6232</td> <td>    0.086</td> <td>  -18.822</td> <td> 0.000</td> <td>   -1.792</td> <td>   -1.454</td>\n",
       "</tr>\n",
       "<tr>\n",
       "  <th>Total Time Spent on Website</th>              <td>    0.8694</td> <td>    0.067</td> <td>   12.883</td> <td> 0.000</td> <td>    0.737</td> <td>    1.002</td>\n",
       "</tr>\n",
       "<tr>\n",
       "  <th>Lead Origin_Lead Add Form</th>                <td>    0.9846</td> <td>    0.477</td> <td>    2.065</td> <td> 0.039</td> <td>    0.050</td> <td>    1.919</td>\n",
       "</tr>\n",
       "<tr>\n",
       "  <th>Lead Source_Welingak Website</th>             <td>    4.1948</td> <td>    1.133</td> <td>    3.703</td> <td> 0.000</td> <td>    1.975</td> <td>    6.415</td>\n",
       "</tr>\n",
       "<tr>\n",
       "  <th>Last Notable Activity_SMS Sent</th>           <td>    2.3981</td> <td>    0.183</td> <td>   13.085</td> <td> 0.000</td> <td>    2.039</td> <td>    2.757</td>\n",
       "</tr>\n",
       "<tr>\n",
       "  <th>Tags_Closed by Horizzon</th>                  <td>   26.6477</td> <td> 1.75e+04</td> <td>    0.002</td> <td> 0.999</td> <td>-3.43e+04</td> <td> 3.44e+04</td>\n",
       "</tr>\n",
       "<tr>\n",
       "  <th>Tags_Interested in other courses</th>         <td>   -2.5435</td> <td>    0.477</td> <td>   -5.336</td> <td> 0.000</td> <td>   -3.478</td> <td>   -1.609</td>\n",
       "</tr>\n",
       "<tr>\n",
       "  <th>Tags_Lost to EINS</th>                        <td>    4.5020</td> <td>    0.606</td> <td>    7.428</td> <td> 0.000</td> <td>    3.314</td> <td>    5.690</td>\n",
       "</tr>\n",
       "<tr>\n",
       "  <th>Tags_Other_Tags</th>                          <td>   -2.3689</td> <td>    0.272</td> <td>   -8.700</td> <td> 0.000</td> <td>   -2.903</td> <td>   -1.835</td>\n",
       "</tr>\n",
       "<tr>\n",
       "  <th>Tags_Ringing</th>                             <td>   -3.2307</td> <td>    0.329</td> <td>   -9.809</td> <td> 0.000</td> <td>   -3.876</td> <td>   -2.585</td>\n",
       "</tr>\n",
       "<tr>\n",
       "  <th>Tags_Will revert after reading the email</th> <td>    4.2395</td> <td>    0.228</td> <td>   18.604</td> <td> 0.000</td> <td>    3.793</td> <td>    4.686</td>\n",
       "</tr>\n",
       "</table>"
      ],
      "text/latex": [
       "\\begin{center}\n",
       "\\begin{tabular}{lclc}\n",
       "\\toprule\n",
       "\\textbf{Dep. Variable:}                            &    Converted     & \\textbf{  No. Observations:  } &     3395    \\\\\n",
       "\\textbf{Model:}                                    &       GLM        & \\textbf{  Df Residuals:      } &     3384    \\\\\n",
       "\\textbf{Model Family:}                             &     Binomial     & \\textbf{  Df Model:          } &       10    \\\\\n",
       "\\textbf{Link Function:}                            &      Logit       & \\textbf{  Scale:             } &    1.0000   \\\\\n",
       "\\textbf{Method:}                                   &       IRLS       & \\textbf{  Log-Likelihood:    } &   -754.41   \\\\\n",
       "\\textbf{Date:}                                     & Tue, 27 Feb 2024 & \\textbf{  Deviance:          } &    1508.8   \\\\\n",
       "\\textbf{Time:}                                     &     10:34:57     & \\textbf{  Pearson chi2:      } &  3.91e+03   \\\\\n",
       "\\textbf{No. Iterations:}                           &        24        & \\textbf{  Pseudo R-squ. (CS):} &   0.5838    \\\\\n",
       "\\textbf{Covariance Type:}                          &    nonrobust     & \\textbf{                     } &             \\\\\n",
       "\\bottomrule\n",
       "\\end{tabular}\n",
       "\\begin{tabular}{lcccccc}\n",
       "                                                   & \\textbf{coef} & \\textbf{std err} & \\textbf{z} & \\textbf{P$> |$z$|$} & \\textbf{[0.025} & \\textbf{0.975]}  \\\\\n",
       "\\midrule\n",
       "\\textbf{const}                                     &      -1.6232  &        0.086     &   -18.822  &         0.000        &       -1.792    &       -1.454     \\\\\n",
       "\\textbf{Total Time Spent on Website}               &       0.8694  &        0.067     &    12.883  &         0.000        &        0.737    &        1.002     \\\\\n",
       "\\textbf{Lead Origin\\_Lead Add Form}                &       0.9846  &        0.477     &     2.065  &         0.039        &        0.050    &        1.919     \\\\\n",
       "\\textbf{Lead Source\\_Welingak Website}             &       4.1948  &        1.133     &     3.703  &         0.000        &        1.975    &        6.415     \\\\\n",
       "\\textbf{Last Notable Activity\\_SMS Sent}           &       2.3981  &        0.183     &    13.085  &         0.000        &        2.039    &        2.757     \\\\\n",
       "\\textbf{Tags\\_Closed by Horizzon}                  &      26.6477  &     1.75e+04     &     0.002  &         0.999        &    -3.43e+04    &     3.44e+04     \\\\\n",
       "\\textbf{Tags\\_Interested in other courses}         &      -2.5435  &        0.477     &    -5.336  &         0.000        &       -3.478    &       -1.609     \\\\\n",
       "\\textbf{Tags\\_Lost to EINS}                        &       4.5020  &        0.606     &     7.428  &         0.000        &        3.314    &        5.690     \\\\\n",
       "\\textbf{Tags\\_Other\\_Tags}                         &      -2.3689  &        0.272     &    -8.700  &         0.000        &       -2.903    &       -1.835     \\\\\n",
       "\\textbf{Tags\\_Ringing}                             &      -3.2307  &        0.329     &    -9.809  &         0.000        &       -3.876    &       -2.585     \\\\\n",
       "\\textbf{Tags\\_Will revert after reading the email} &       4.2395  &        0.228     &    18.604  &         0.000        &        3.793    &        4.686     \\\\\n",
       "\\bottomrule\n",
       "\\end{tabular}\n",
       "%\\caption{Generalized Linear Model Regression Results}\n",
       "\\end{center}"
      ],
      "text/plain": [
       "<class 'statsmodels.iolib.summary.Summary'>\n",
       "\"\"\"\n",
       "                 Generalized Linear Model Regression Results                  \n",
       "==============================================================================\n",
       "Dep. Variable:              Converted   No. Observations:                 3395\n",
       "Model:                            GLM   Df Residuals:                     3384\n",
       "Model Family:                Binomial   Df Model:                           10\n",
       "Link Function:                  Logit   Scale:                          1.0000\n",
       "Method:                          IRLS   Log-Likelihood:                -754.41\n",
       "Date:                Tue, 27 Feb 2024   Deviance:                       1508.8\n",
       "Time:                        10:34:57   Pearson chi2:                 3.91e+03\n",
       "No. Iterations:                    24   Pseudo R-squ. (CS):             0.5838\n",
       "Covariance Type:            nonrobust                                         \n",
       "============================================================================================================\n",
       "                                               coef    std err          z      P>|z|      [0.025      0.975]\n",
       "------------------------------------------------------------------------------------------------------------\n",
       "const                                       -1.6232      0.086    -18.822      0.000      -1.792      -1.454\n",
       "Total Time Spent on Website                  0.8694      0.067     12.883      0.000       0.737       1.002\n",
       "Lead Origin_Lead Add Form                    0.9846      0.477      2.065      0.039       0.050       1.919\n",
       "Lead Source_Welingak Website                 4.1948      1.133      3.703      0.000       1.975       6.415\n",
       "Last Notable Activity_SMS Sent               2.3981      0.183     13.085      0.000       2.039       2.757\n",
       "Tags_Closed by Horizzon                     26.6477   1.75e+04      0.002      0.999   -3.43e+04    3.44e+04\n",
       "Tags_Interested in other courses            -2.5435      0.477     -5.336      0.000      -3.478      -1.609\n",
       "Tags_Lost to EINS                            4.5020      0.606      7.428      0.000       3.314       5.690\n",
       "Tags_Other_Tags                             -2.3689      0.272     -8.700      0.000      -2.903      -1.835\n",
       "Tags_Ringing                                -3.2307      0.329     -9.809      0.000      -3.876      -2.585\n",
       "Tags_Will revert after reading the email     4.2395      0.228     18.604      0.000       3.793       4.686\n",
       "============================================================================================================\n",
       "\"\"\""
      ]
     },
     "execution_count": 1800,
     "metadata": {},
     "output_type": "execute_result"
    }
   ],
   "source": [
    "##PREPARATION OF MODEL##\n",
    "X_train_sm = sm.add_constant(X_train[rfe_support_col])\n",
    "log_model1 = sm.GLM(y_train,X_train_sm, family = sm.families.Binomial())\n",
    "res = log_model1.fit()\n",
    "res.summary()"
   ]
  },
  {
   "cell_type": "code",
   "execution_count": 1801,
   "id": "336214b6",
   "metadata": {},
   "outputs": [
    {
     "data": {
      "text/html": [
       "<table class=\"simpletable\">\n",
       "<caption>Generalized Linear Model Regression Results</caption>\n",
       "<tr>\n",
       "  <th>Dep. Variable:</th>       <td>Converted</td>    <th>  No. Observations:  </th>  <td>  3395</td> \n",
       "</tr>\n",
       "<tr>\n",
       "  <th>Model:</th>                  <td>GLM</td>       <th>  Df Residuals:      </th>  <td>  3384</td> \n",
       "</tr>\n",
       "<tr>\n",
       "  <th>Model Family:</th>        <td>Binomial</td>     <th>  Df Model:          </th>  <td>    10</td> \n",
       "</tr>\n",
       "<tr>\n",
       "  <th>Link Function:</th>         <td>Logit</td>      <th>  Scale:             </th> <td>  1.0000</td>\n",
       "</tr>\n",
       "<tr>\n",
       "  <th>Method:</th>                <td>IRLS</td>       <th>  Log-Likelihood:    </th> <td> -754.41</td>\n",
       "</tr>\n",
       "<tr>\n",
       "  <th>Date:</th>            <td>Tue, 27 Feb 2024</td> <th>  Deviance:          </th> <td>  1508.8</td>\n",
       "</tr>\n",
       "<tr>\n",
       "  <th>Time:</th>                <td>10:34:57</td>     <th>  Pearson chi2:      </th> <td>3.91e+03</td>\n",
       "</tr>\n",
       "<tr>\n",
       "  <th>No. Iterations:</th>         <td>24</td>        <th>  Pseudo R-squ. (CS):</th>  <td>0.5838</td> \n",
       "</tr>\n",
       "<tr>\n",
       "  <th>Covariance Type:</th>     <td>nonrobust</td>    <th>                     </th>     <td> </td>   \n",
       "</tr>\n",
       "</table>\n",
       "<table class=\"simpletable\">\n",
       "<tr>\n",
       "                      <td></td>                        <th>coef</th>     <th>std err</th>      <th>z</th>      <th>P>|z|</th>  <th>[0.025</th>    <th>0.975]</th>  \n",
       "</tr>\n",
       "<tr>\n",
       "  <th>const</th>                                    <td>   -1.6232</td> <td>    0.086</td> <td>  -18.822</td> <td> 0.000</td> <td>   -1.792</td> <td>   -1.454</td>\n",
       "</tr>\n",
       "<tr>\n",
       "  <th>Total Time Spent on Website</th>              <td>    0.8694</td> <td>    0.067</td> <td>   12.883</td> <td> 0.000</td> <td>    0.737</td> <td>    1.002</td>\n",
       "</tr>\n",
       "<tr>\n",
       "  <th>Lead Origin_Lead Add Form</th>                <td>    0.9846</td> <td>    0.477</td> <td>    2.065</td> <td> 0.039</td> <td>    0.050</td> <td>    1.919</td>\n",
       "</tr>\n",
       "<tr>\n",
       "  <th>Lead Source_Welingak Website</th>             <td>    4.1948</td> <td>    1.133</td> <td>    3.703</td> <td> 0.000</td> <td>    1.975</td> <td>    6.415</td>\n",
       "</tr>\n",
       "<tr>\n",
       "  <th>Last Notable Activity_SMS Sent</th>           <td>    2.3981</td> <td>    0.183</td> <td>   13.085</td> <td> 0.000</td> <td>    2.039</td> <td>    2.757</td>\n",
       "</tr>\n",
       "<tr>\n",
       "  <th>Tags_Closed by Horizzon</th>                  <td>   26.6477</td> <td> 1.75e+04</td> <td>    0.002</td> <td> 0.999</td> <td>-3.43e+04</td> <td> 3.44e+04</td>\n",
       "</tr>\n",
       "<tr>\n",
       "  <th>Tags_Interested in other courses</th>         <td>   -2.5435</td> <td>    0.477</td> <td>   -5.336</td> <td> 0.000</td> <td>   -3.478</td> <td>   -1.609</td>\n",
       "</tr>\n",
       "<tr>\n",
       "  <th>Tags_Lost to EINS</th>                        <td>    4.5020</td> <td>    0.606</td> <td>    7.428</td> <td> 0.000</td> <td>    3.314</td> <td>    5.690</td>\n",
       "</tr>\n",
       "<tr>\n",
       "  <th>Tags_Other_Tags</th>                          <td>   -2.3689</td> <td>    0.272</td> <td>   -8.700</td> <td> 0.000</td> <td>   -2.903</td> <td>   -1.835</td>\n",
       "</tr>\n",
       "<tr>\n",
       "  <th>Tags_Ringing</th>                             <td>   -3.2307</td> <td>    0.329</td> <td>   -9.809</td> <td> 0.000</td> <td>   -3.876</td> <td>   -2.585</td>\n",
       "</tr>\n",
       "<tr>\n",
       "  <th>Tags_Will revert after reading the email</th> <td>    4.2395</td> <td>    0.228</td> <td>   18.604</td> <td> 0.000</td> <td>    3.793</td> <td>    4.686</td>\n",
       "</tr>\n",
       "</table>"
      ],
      "text/latex": [
       "\\begin{center}\n",
       "\\begin{tabular}{lclc}\n",
       "\\toprule\n",
       "\\textbf{Dep. Variable:}                            &    Converted     & \\textbf{  No. Observations:  } &     3395    \\\\\n",
       "\\textbf{Model:}                                    &       GLM        & \\textbf{  Df Residuals:      } &     3384    \\\\\n",
       "\\textbf{Model Family:}                             &     Binomial     & \\textbf{  Df Model:          } &       10    \\\\\n",
       "\\textbf{Link Function:}                            &      Logit       & \\textbf{  Scale:             } &    1.0000   \\\\\n",
       "\\textbf{Method:}                                   &       IRLS       & \\textbf{  Log-Likelihood:    } &   -754.41   \\\\\n",
       "\\textbf{Date:}                                     & Tue, 27 Feb 2024 & \\textbf{  Deviance:          } &    1508.8   \\\\\n",
       "\\textbf{Time:}                                     &     10:34:57     & \\textbf{  Pearson chi2:      } &  3.91e+03   \\\\\n",
       "\\textbf{No. Iterations:}                           &        24        & \\textbf{  Pseudo R-squ. (CS):} &   0.5838    \\\\\n",
       "\\textbf{Covariance Type:}                          &    nonrobust     & \\textbf{                     } &             \\\\\n",
       "\\bottomrule\n",
       "\\end{tabular}\n",
       "\\begin{tabular}{lcccccc}\n",
       "                                                   & \\textbf{coef} & \\textbf{std err} & \\textbf{z} & \\textbf{P$> |$z$|$} & \\textbf{[0.025} & \\textbf{0.975]}  \\\\\n",
       "\\midrule\n",
       "\\textbf{const}                                     &      -1.6232  &        0.086     &   -18.822  &         0.000        &       -1.792    &       -1.454     \\\\\n",
       "\\textbf{Total Time Spent on Website}               &       0.8694  &        0.067     &    12.883  &         0.000        &        0.737    &        1.002     \\\\\n",
       "\\textbf{Lead Origin\\_Lead Add Form}                &       0.9846  &        0.477     &     2.065  &         0.039        &        0.050    &        1.919     \\\\\n",
       "\\textbf{Lead Source\\_Welingak Website}             &       4.1948  &        1.133     &     3.703  &         0.000        &        1.975    &        6.415     \\\\\n",
       "\\textbf{Last Notable Activity\\_SMS Sent}           &       2.3981  &        0.183     &    13.085  &         0.000        &        2.039    &        2.757     \\\\\n",
       "\\textbf{Tags\\_Closed by Horizzon}                  &      26.6477  &     1.75e+04     &     0.002  &         0.999        &    -3.43e+04    &     3.44e+04     \\\\\n",
       "\\textbf{Tags\\_Interested in other courses}         &      -2.5435  &        0.477     &    -5.336  &         0.000        &       -3.478    &       -1.609     \\\\\n",
       "\\textbf{Tags\\_Lost to EINS}                        &       4.5020  &        0.606     &     7.428  &         0.000        &        3.314    &        5.690     \\\\\n",
       "\\textbf{Tags\\_Other\\_Tags}                         &      -2.3689  &        0.272     &    -8.700  &         0.000        &       -2.903    &       -1.835     \\\\\n",
       "\\textbf{Tags\\_Ringing}                             &      -3.2307  &        0.329     &    -9.809  &         0.000        &       -3.876    &       -2.585     \\\\\n",
       "\\textbf{Tags\\_Will revert after reading the email} &       4.2395  &        0.228     &    18.604  &         0.000        &        3.793    &        4.686     \\\\\n",
       "\\bottomrule\n",
       "\\end{tabular}\n",
       "%\\caption{Generalized Linear Model Regression Results}\n",
       "\\end{center}"
      ],
      "text/plain": [
       "<class 'statsmodels.iolib.summary.Summary'>\n",
       "\"\"\"\n",
       "                 Generalized Linear Model Regression Results                  \n",
       "==============================================================================\n",
       "Dep. Variable:              Converted   No. Observations:                 3395\n",
       "Model:                            GLM   Df Residuals:                     3384\n",
       "Model Family:                Binomial   Df Model:                           10\n",
       "Link Function:                  Logit   Scale:                          1.0000\n",
       "Method:                          IRLS   Log-Likelihood:                -754.41\n",
       "Date:                Tue, 27 Feb 2024   Deviance:                       1508.8\n",
       "Time:                        10:34:57   Pearson chi2:                 3.91e+03\n",
       "No. Iterations:                    24   Pseudo R-squ. (CS):             0.5838\n",
       "Covariance Type:            nonrobust                                         \n",
       "============================================================================================================\n",
       "                                               coef    std err          z      P>|z|      [0.025      0.975]\n",
       "------------------------------------------------------------------------------------------------------------\n",
       "const                                       -1.6232      0.086    -18.822      0.000      -1.792      -1.454\n",
       "Total Time Spent on Website                  0.8694      0.067     12.883      0.000       0.737       1.002\n",
       "Lead Origin_Lead Add Form                    0.9846      0.477      2.065      0.039       0.050       1.919\n",
       "Lead Source_Welingak Website                 4.1948      1.133      3.703      0.000       1.975       6.415\n",
       "Last Notable Activity_SMS Sent               2.3981      0.183     13.085      0.000       2.039       2.757\n",
       "Tags_Closed by Horizzon                     26.6477   1.75e+04      0.002      0.999   -3.43e+04    3.44e+04\n",
       "Tags_Interested in other courses            -2.5435      0.477     -5.336      0.000      -3.478      -1.609\n",
       "Tags_Lost to EINS                            4.5020      0.606      7.428      0.000       3.314       5.690\n",
       "Tags_Other_Tags                             -2.3689      0.272     -8.700      0.000      -2.903      -1.835\n",
       "Tags_Ringing                                -3.2307      0.329     -9.809      0.000      -3.876      -2.585\n",
       "Tags_Will revert after reading the email     4.2395      0.228     18.604      0.000       3.793       4.686\n",
       "============================================================================================================\n",
       "\"\"\""
      ]
     },
     "execution_count": 1801,
     "metadata": {},
     "output_type": "execute_result"
    }
   ],
   "source": [
    "##PREPARATION OF MODEL 2 AFTER REMOVING LEAD SOURCE REFERAL SITES##\n",
    "\n",
    "X_train_sm = sm.add_constant(X_train[rfe_support_col])\n",
    "log_model2 = sm.GLM(y_train,X_train_sm, family = sm.families.Binomial())\n",
    "res = log_model2.fit()\n",
    "res.summary()\n"
   ]
  },
  {
   "cell_type": "code",
   "execution_count": 1802,
   "id": "659a7160",
   "metadata": {},
   "outputs": [],
   "source": [
    "##VIF FOR STAT MODELS##\n",
    "from statsmodels.stats.outliers_influence import variance_inflation_factor"
   ]
  },
  {
   "cell_type": "code",
   "execution_count": 1803,
   "id": "28090a89",
   "metadata": {},
   "outputs": [
    {
     "data": {
      "text/html": [
       "<div>\n",
       "<style scoped>\n",
       "    .dataframe tbody tr th:only-of-type {\n",
       "        vertical-align: middle;\n",
       "    }\n",
       "\n",
       "    .dataframe tbody tr th {\n",
       "        vertical-align: top;\n",
       "    }\n",
       "\n",
       "    .dataframe thead th {\n",
       "        text-align: right;\n",
       "    }\n",
       "</style>\n",
       "<table border=\"1\" class=\"dataframe\">\n",
       "  <thead>\n",
       "    <tr style=\"text-align: right;\">\n",
       "      <th></th>\n",
       "      <th>Features</th>\n",
       "      <th>VIF</th>\n",
       "    </tr>\n",
       "  </thead>\n",
       "  <tbody>\n",
       "    <tr>\n",
       "      <th>1</th>\n",
       "      <td>Lead Origin_Lead Add Form</td>\n",
       "      <td>1.77</td>\n",
       "    </tr>\n",
       "    <tr>\n",
       "      <th>9</th>\n",
       "      <td>Tags_Will revert after reading the email</td>\n",
       "      <td>1.38</td>\n",
       "    </tr>\n",
       "    <tr>\n",
       "      <th>2</th>\n",
       "      <td>Lead Source_Welingak Website</td>\n",
       "      <td>1.34</td>\n",
       "    </tr>\n",
       "    <tr>\n",
       "      <th>3</th>\n",
       "      <td>Last Notable Activity_SMS Sent</td>\n",
       "      <td>1.27</td>\n",
       "    </tr>\n",
       "    <tr>\n",
       "      <th>0</th>\n",
       "      <td>Total Time Spent on Website</td>\n",
       "      <td>1.21</td>\n",
       "    </tr>\n",
       "    <tr>\n",
       "      <th>4</th>\n",
       "      <td>Tags_Closed by Horizzon</td>\n",
       "      <td>1.20</td>\n",
       "    </tr>\n",
       "    <tr>\n",
       "      <th>8</th>\n",
       "      <td>Tags_Ringing</td>\n",
       "      <td>1.06</td>\n",
       "    </tr>\n",
       "    <tr>\n",
       "      <th>6</th>\n",
       "      <td>Tags_Lost to EINS</td>\n",
       "      <td>1.02</td>\n",
       "    </tr>\n",
       "    <tr>\n",
       "      <th>7</th>\n",
       "      <td>Tags_Other_Tags</td>\n",
       "      <td>1.02</td>\n",
       "    </tr>\n",
       "    <tr>\n",
       "      <th>5</th>\n",
       "      <td>Tags_Interested in other courses</td>\n",
       "      <td>1.00</td>\n",
       "    </tr>\n",
       "  </tbody>\n",
       "</table>\n",
       "</div>"
      ],
      "text/plain": [
       "                                   Features   VIF\n",
       "1                 Lead Origin_Lead Add Form  1.77\n",
       "9  Tags_Will revert after reading the email  1.38\n",
       "2              Lead Source_Welingak Website  1.34\n",
       "3            Last Notable Activity_SMS Sent  1.27\n",
       "0               Total Time Spent on Website  1.21\n",
       "4                   Tags_Closed by Horizzon  1.20\n",
       "8                              Tags_Ringing  1.06\n",
       "6                         Tags_Lost to EINS  1.02\n",
       "7                           Tags_Other_Tags  1.02\n",
       "5          Tags_Interested in other courses  1.00"
      ]
     },
     "execution_count": 1803,
     "metadata": {},
     "output_type": "execute_result"
    }
   ],
   "source": [
    "## CREATION OF DATA FRAME CONTAINING NAMES OF ALL FEATURE VARIABLES AND VIFS##\n",
    "vif = pd.DataFrame()\n",
    "vif['Features'] = X_train[rfe_support_col].columns\n",
    "vif['VIF'] = [variance_inflation_factor(X_train[rfe_support_col].values, i) for i in range(X_train[rfe_support_col].shape[1])]\n",
    "vif['VIF'] = round(vif['VIF'], 2)\n",
    "vif = vif.sort_values(by = \"VIF\", ascending = False)\n",
    "vif"
   ]
  },
  {
   "cell_type": "code",
   "execution_count": 1804,
   "id": "9aec92e2",
   "metadata": {},
   "outputs": [],
   "source": [
    "##REMOVAL OF FEATURES WITH HIGHER VIF VALUES##\n",
    "rfe_support_col = rfe_support_col.drop('Last Notable Activity_SMS Sent',1)"
   ]
  },
  {
   "cell_type": "code",
   "execution_count": 1805,
   "id": "a8b24415",
   "metadata": {},
   "outputs": [
    {
     "data": {
      "text/html": [
       "<table class=\"simpletable\">\n",
       "<caption>Generalized Linear Model Regression Results</caption>\n",
       "<tr>\n",
       "  <th>Dep. Variable:</th>       <td>Converted</td>    <th>  No. Observations:  </th>  <td>  3395</td> \n",
       "</tr>\n",
       "<tr>\n",
       "  <th>Model:</th>                  <td>GLM</td>       <th>  Df Residuals:      </th>  <td>  3385</td> \n",
       "</tr>\n",
       "<tr>\n",
       "  <th>Model Family:</th>        <td>Binomial</td>     <th>  Df Model:          </th>  <td>     9</td> \n",
       "</tr>\n",
       "<tr>\n",
       "  <th>Link Function:</th>         <td>Logit</td>      <th>  Scale:             </th> <td>  1.0000</td>\n",
       "</tr>\n",
       "<tr>\n",
       "  <th>Method:</th>                <td>IRLS</td>       <th>  Log-Likelihood:    </th> <td> -849.42</td>\n",
       "</tr>\n",
       "<tr>\n",
       "  <th>Date:</th>            <td>Tue, 27 Feb 2024</td> <th>  Deviance:          </th> <td>  1698.8</td>\n",
       "</tr>\n",
       "<tr>\n",
       "  <th>Time:</th>                <td>10:34:58</td>     <th>  Pearson chi2:      </th> <td>3.40e+03</td>\n",
       "</tr>\n",
       "<tr>\n",
       "  <th>No. Iterations:</th>         <td>24</td>        <th>  Pseudo R-squ. (CS):</th>  <td>0.5598</td> \n",
       "</tr>\n",
       "<tr>\n",
       "  <th>Covariance Type:</th>     <td>nonrobust</td>    <th>                     </th>     <td> </td>   \n",
       "</tr>\n",
       "</table>\n",
       "<table class=\"simpletable\">\n",
       "<tr>\n",
       "                      <td></td>                        <th>coef</th>     <th>std err</th>      <th>z</th>      <th>P>|z|</th>  <th>[0.025</th>    <th>0.975]</th>  \n",
       "</tr>\n",
       "<tr>\n",
       "  <th>const</th>                                    <td>   -1.2247</td> <td>    0.074</td> <td>  -16.644</td> <td> 0.000</td> <td>   -1.369</td> <td>   -1.080</td>\n",
       "</tr>\n",
       "<tr>\n",
       "  <th>Total Time Spent on Website</th>              <td>    0.8824</td> <td>    0.063</td> <td>   14.030</td> <td> 0.000</td> <td>    0.759</td> <td>    1.006</td>\n",
       "</tr>\n",
       "<tr>\n",
       "  <th>Lead Origin_Lead Add Form</th>                <td>    1.3674</td> <td>    0.521</td> <td>    2.625</td> <td> 0.009</td> <td>    0.346</td> <td>    2.388</td>\n",
       "</tr>\n",
       "<tr>\n",
       "  <th>Lead Source_Welingak Website</th>             <td>    4.0622</td> <td>    1.141</td> <td>    3.559</td> <td> 0.000</td> <td>    1.825</td> <td>    6.299</td>\n",
       "</tr>\n",
       "<tr>\n",
       "  <th>Tags_Closed by Horizzon</th>                  <td>   26.0944</td> <td> 1.73e+04</td> <td>    0.002</td> <td> 0.999</td> <td>-3.39e+04</td> <td>  3.4e+04</td>\n",
       "</tr>\n",
       "<tr>\n",
       "  <th>Tags_Interested in other courses</th>         <td>   -2.8445</td> <td>    0.466</td> <td>   -6.099</td> <td> 0.000</td> <td>   -3.759</td> <td>   -1.930</td>\n",
       "</tr>\n",
       "<tr>\n",
       "  <th>Tags_Lost to EINS</th>                        <td>    4.0810</td> <td>    0.605</td> <td>    6.749</td> <td> 0.000</td> <td>    2.896</td> <td>    5.266</td>\n",
       "</tr>\n",
       "<tr>\n",
       "  <th>Tags_Other_Tags</th>                          <td>   -2.2007</td> <td>    0.259</td> <td>   -8.500</td> <td> 0.000</td> <td>   -2.708</td> <td>   -1.693</td>\n",
       "</tr>\n",
       "<tr>\n",
       "  <th>Tags_Ringing</th>                             <td>   -2.5054</td> <td>    0.300</td> <td>   -8.355</td> <td> 0.000</td> <td>   -3.093</td> <td>   -1.918</td>\n",
       "</tr>\n",
       "<tr>\n",
       "  <th>Tags_Will revert after reading the email</th> <td>    4.1951</td> <td>    0.220</td> <td>   19.039</td> <td> 0.000</td> <td>    3.763</td> <td>    4.627</td>\n",
       "</tr>\n",
       "</table>"
      ],
      "text/latex": [
       "\\begin{center}\n",
       "\\begin{tabular}{lclc}\n",
       "\\toprule\n",
       "\\textbf{Dep. Variable:}                            &    Converted     & \\textbf{  No. Observations:  } &     3395    \\\\\n",
       "\\textbf{Model:}                                    &       GLM        & \\textbf{  Df Residuals:      } &     3385    \\\\\n",
       "\\textbf{Model Family:}                             &     Binomial     & \\textbf{  Df Model:          } &        9    \\\\\n",
       "\\textbf{Link Function:}                            &      Logit       & \\textbf{  Scale:             } &    1.0000   \\\\\n",
       "\\textbf{Method:}                                   &       IRLS       & \\textbf{  Log-Likelihood:    } &   -849.42   \\\\\n",
       "\\textbf{Date:}                                     & Tue, 27 Feb 2024 & \\textbf{  Deviance:          } &    1698.8   \\\\\n",
       "\\textbf{Time:}                                     &     10:34:58     & \\textbf{  Pearson chi2:      } &  3.40e+03   \\\\\n",
       "\\textbf{No. Iterations:}                           &        24        & \\textbf{  Pseudo R-squ. (CS):} &   0.5598    \\\\\n",
       "\\textbf{Covariance Type:}                          &    nonrobust     & \\textbf{                     } &             \\\\\n",
       "\\bottomrule\n",
       "\\end{tabular}\n",
       "\\begin{tabular}{lcccccc}\n",
       "                                                   & \\textbf{coef} & \\textbf{std err} & \\textbf{z} & \\textbf{P$> |$z$|$} & \\textbf{[0.025} & \\textbf{0.975]}  \\\\\n",
       "\\midrule\n",
       "\\textbf{const}                                     &      -1.2247  &        0.074     &   -16.644  &         0.000        &       -1.369    &       -1.080     \\\\\n",
       "\\textbf{Total Time Spent on Website}               &       0.8824  &        0.063     &    14.030  &         0.000        &        0.759    &        1.006     \\\\\n",
       "\\textbf{Lead Origin\\_Lead Add Form}                &       1.3674  &        0.521     &     2.625  &         0.009        &        0.346    &        2.388     \\\\\n",
       "\\textbf{Lead Source\\_Welingak Website}             &       4.0622  &        1.141     &     3.559  &         0.000        &        1.825    &        6.299     \\\\\n",
       "\\textbf{Tags\\_Closed by Horizzon}                  &      26.0944  &     1.73e+04     &     0.002  &         0.999        &    -3.39e+04    &      3.4e+04     \\\\\n",
       "\\textbf{Tags\\_Interested in other courses}         &      -2.8445  &        0.466     &    -6.099  &         0.000        &       -3.759    &       -1.930     \\\\\n",
       "\\textbf{Tags\\_Lost to EINS}                        &       4.0810  &        0.605     &     6.749  &         0.000        &        2.896    &        5.266     \\\\\n",
       "\\textbf{Tags\\_Other\\_Tags}                         &      -2.2007  &        0.259     &    -8.500  &         0.000        &       -2.708    &       -1.693     \\\\\n",
       "\\textbf{Tags\\_Ringing}                             &      -2.5054  &        0.300     &    -8.355  &         0.000        &       -3.093    &       -1.918     \\\\\n",
       "\\textbf{Tags\\_Will revert after reading the email} &       4.1951  &        0.220     &    19.039  &         0.000        &        3.763    &        4.627     \\\\\n",
       "\\bottomrule\n",
       "\\end{tabular}\n",
       "%\\caption{Generalized Linear Model Regression Results}\n",
       "\\end{center}"
      ],
      "text/plain": [
       "<class 'statsmodels.iolib.summary.Summary'>\n",
       "\"\"\"\n",
       "                 Generalized Linear Model Regression Results                  \n",
       "==============================================================================\n",
       "Dep. Variable:              Converted   No. Observations:                 3395\n",
       "Model:                            GLM   Df Residuals:                     3385\n",
       "Model Family:                Binomial   Df Model:                            9\n",
       "Link Function:                  Logit   Scale:                          1.0000\n",
       "Method:                          IRLS   Log-Likelihood:                -849.42\n",
       "Date:                Tue, 27 Feb 2024   Deviance:                       1698.8\n",
       "Time:                        10:34:58   Pearson chi2:                 3.40e+03\n",
       "No. Iterations:                    24   Pseudo R-squ. (CS):             0.5598\n",
       "Covariance Type:            nonrobust                                         \n",
       "============================================================================================================\n",
       "                                               coef    std err          z      P>|z|      [0.025      0.975]\n",
       "------------------------------------------------------------------------------------------------------------\n",
       "const                                       -1.2247      0.074    -16.644      0.000      -1.369      -1.080\n",
       "Total Time Spent on Website                  0.8824      0.063     14.030      0.000       0.759       1.006\n",
       "Lead Origin_Lead Add Form                    1.3674      0.521      2.625      0.009       0.346       2.388\n",
       "Lead Source_Welingak Website                 4.0622      1.141      3.559      0.000       1.825       6.299\n",
       "Tags_Closed by Horizzon                     26.0944   1.73e+04      0.002      0.999   -3.39e+04     3.4e+04\n",
       "Tags_Interested in other courses            -2.8445      0.466     -6.099      0.000      -3.759      -1.930\n",
       "Tags_Lost to EINS                            4.0810      0.605      6.749      0.000       2.896       5.266\n",
       "Tags_Other_Tags                             -2.2007      0.259     -8.500      0.000      -2.708      -1.693\n",
       "Tags_Ringing                                -2.5054      0.300     -8.355      0.000      -3.093      -1.918\n",
       "Tags_Will revert after reading the email     4.1951      0.220     19.039      0.000       3.763       4.627\n",
       "============================================================================================================\n",
       "\"\"\""
      ]
     },
     "execution_count": 1805,
     "metadata": {},
     "output_type": "execute_result"
    }
   ],
   "source": [
    "##PREPARATION OF LOGISTIC MODEL 3##\n",
    "X_train_sm = sm.add_constant(X_train[rfe_support_col])\n",
    "log_model3 = sm.GLM(y_train,X_train_sm, family = sm.families.Binomial())\n",
    "res = log_model3.fit()\n",
    "res.summary()"
   ]
  },
  {
   "cell_type": "code",
   "execution_count": 1806,
   "id": "d0e0abb1",
   "metadata": {},
   "outputs": [
    {
     "data": {
      "text/html": [
       "<div>\n",
       "<style scoped>\n",
       "    .dataframe tbody tr th:only-of-type {\n",
       "        vertical-align: middle;\n",
       "    }\n",
       "\n",
       "    .dataframe tbody tr th {\n",
       "        vertical-align: top;\n",
       "    }\n",
       "\n",
       "    .dataframe thead th {\n",
       "        text-align: right;\n",
       "    }\n",
       "</style>\n",
       "<table border=\"1\" class=\"dataframe\">\n",
       "  <thead>\n",
       "    <tr style=\"text-align: right;\">\n",
       "      <th></th>\n",
       "      <th>Features</th>\n",
       "      <th>VIF</th>\n",
       "    </tr>\n",
       "  </thead>\n",
       "  <tbody>\n",
       "    <tr>\n",
       "      <th>1</th>\n",
       "      <td>Lead Origin_Lead Add Form</td>\n",
       "      <td>1.76</td>\n",
       "    </tr>\n",
       "    <tr>\n",
       "      <th>2</th>\n",
       "      <td>Lead Source_Welingak Website</td>\n",
       "      <td>1.33</td>\n",
       "    </tr>\n",
       "    <tr>\n",
       "      <th>8</th>\n",
       "      <td>Tags_Will revert after reading the email</td>\n",
       "      <td>1.22</td>\n",
       "    </tr>\n",
       "    <tr>\n",
       "      <th>0</th>\n",
       "      <td>Total Time Spent on Website</td>\n",
       "      <td>1.21</td>\n",
       "    </tr>\n",
       "    <tr>\n",
       "      <th>3</th>\n",
       "      <td>Tags_Closed by Horizzon</td>\n",
       "      <td>1.20</td>\n",
       "    </tr>\n",
       "    <tr>\n",
       "      <th>5</th>\n",
       "      <td>Tags_Lost to EINS</td>\n",
       "      <td>1.02</td>\n",
       "    </tr>\n",
       "    <tr>\n",
       "      <th>6</th>\n",
       "      <td>Tags_Other_Tags</td>\n",
       "      <td>1.01</td>\n",
       "    </tr>\n",
       "    <tr>\n",
       "      <th>4</th>\n",
       "      <td>Tags_Interested in other courses</td>\n",
       "      <td>1.00</td>\n",
       "    </tr>\n",
       "    <tr>\n",
       "      <th>7</th>\n",
       "      <td>Tags_Ringing</td>\n",
       "      <td>1.00</td>\n",
       "    </tr>\n",
       "  </tbody>\n",
       "</table>\n",
       "</div>"
      ],
      "text/plain": [
       "                                   Features   VIF\n",
       "1                 Lead Origin_Lead Add Form  1.76\n",
       "2              Lead Source_Welingak Website  1.33\n",
       "8  Tags_Will revert after reading the email  1.22\n",
       "0               Total Time Spent on Website  1.21\n",
       "3                   Tags_Closed by Horizzon  1.20\n",
       "5                         Tags_Lost to EINS  1.02\n",
       "6                           Tags_Other_Tags  1.01\n",
       "4          Tags_Interested in other courses  1.00\n",
       "7                              Tags_Ringing  1.00"
      ]
     },
     "execution_count": 1806,
     "metadata": {},
     "output_type": "execute_result"
    }
   ],
   "source": [
    "## CREATION OF DATA FRAME CONAINING NAMES OF ALL FEATURE VARIABLES AND VIFS##\n",
    "vif = pd.DataFrame()\n",
    "vif['Features'] = X_train[rfe_support_col].columns\n",
    "vif['VIF'] = [variance_inflation_factor(X_train[rfe_support_col].values, i) for i in range(X_train[rfe_support_col].shape[1])]\n",
    "vif['VIF'] = round(vif['VIF'], 2)\n",
    "vif = vif.sort_values(by = \"VIF\", ascending = False)\n",
    "vif"
   ]
  },
  {
   "cell_type": "code",
   "execution_count": 1807,
   "id": "e0365c45",
   "metadata": {},
   "outputs": [
    {
     "data": {
      "text/plain": [
       "200     0.985004\n",
       "816     0.406862\n",
       "8764    0.054848\n",
       "3502    0.136615\n",
       "8576    0.955028\n",
       "688     0.070104\n",
       "1730    0.993060\n",
       "1679    0.007782\n",
       "4129    0.118824\n",
       "1880    0.265999\n",
       "dtype: float64"
      ]
     },
     "execution_count": 1807,
     "metadata": {},
     "output_type": "execute_result"
    }
   ],
   "source": [
    "##PREDICTING 10 VALUES OF TRAIN DATA SET##\n",
    "y_train_pred = res.predict(X_train_sm)\n",
    "y_train_pred[:10]"
   ]
  },
  {
   "cell_type": "code",
   "execution_count": 1808,
   "id": "fbfe8656",
   "metadata": {},
   "outputs": [
    {
     "data": {
      "text/plain": [
       "array([0.98500371, 0.40686243, 0.0548479 , 0.13661478, 0.95502831,\n",
       "       0.07010392, 0.99305969, 0.00778185, 0.11882376, 0.26599908])"
      ]
     },
     "execution_count": 1808,
     "metadata": {},
     "output_type": "execute_result"
    }
   ],
   "source": [
    "y_train_pred = y_train_pred.values.reshape(-1)\n",
    "y_train_pred[:10]"
   ]
  },
  {
   "cell_type": "code",
   "execution_count": 1809,
   "id": "a189140b",
   "metadata": {},
   "outputs": [
    {
     "data": {
      "text/html": [
       "<div>\n",
       "<style scoped>\n",
       "    .dataframe tbody tr th:only-of-type {\n",
       "        vertical-align: middle;\n",
       "    }\n",
       "\n",
       "    .dataframe tbody tr th {\n",
       "        vertical-align: top;\n",
       "    }\n",
       "\n",
       "    .dataframe thead th {\n",
       "        text-align: right;\n",
       "    }\n",
       "</style>\n",
       "<table border=\"1\" class=\"dataframe\">\n",
       "  <thead>\n",
       "    <tr style=\"text-align: right;\">\n",
       "      <th></th>\n",
       "      <th>Converted</th>\n",
       "      <th>Converted_prob</th>\n",
       "      <th>Prospect ID</th>\n",
       "    </tr>\n",
       "  </thead>\n",
       "  <tbody>\n",
       "    <tr>\n",
       "      <th>0</th>\n",
       "      <td>1</td>\n",
       "      <td>0.985004</td>\n",
       "      <td>200</td>\n",
       "    </tr>\n",
       "    <tr>\n",
       "      <th>1</th>\n",
       "      <td>1</td>\n",
       "      <td>0.406862</td>\n",
       "      <td>816</td>\n",
       "    </tr>\n",
       "    <tr>\n",
       "      <th>2</th>\n",
       "      <td>0</td>\n",
       "      <td>0.054848</td>\n",
       "      <td>8764</td>\n",
       "    </tr>\n",
       "    <tr>\n",
       "      <th>3</th>\n",
       "      <td>0</td>\n",
       "      <td>0.136615</td>\n",
       "      <td>3502</td>\n",
       "    </tr>\n",
       "    <tr>\n",
       "      <th>4</th>\n",
       "      <td>1</td>\n",
       "      <td>0.955028</td>\n",
       "      <td>8576</td>\n",
       "    </tr>\n",
       "  </tbody>\n",
       "</table>\n",
       "</div>"
      ],
      "text/plain": [
       "   Converted  Converted_prob  Prospect ID\n",
       "0          1        0.985004          200\n",
       "1          1        0.406862          816\n",
       "2          0        0.054848         8764\n",
       "3          0        0.136615         3502\n",
       "4          1        0.955028         8576"
      ]
     },
     "execution_count": 1809,
     "metadata": {},
     "output_type": "execute_result"
    }
   ],
   "source": [
    "##CONVERSION OF PREDICTED VARIABLE INTO A DATAFRAME## \n",
    "y_train_pred_final = pd.DataFrame({'Converted':y_train.values, 'Converted_prob':y_train_pred})\n",
    "y_train_pred_final['Prospect ID'] = y_train.index\n",
    "y_train_pred_final.head()"
   ]
  },
  {
   "cell_type": "code",
   "execution_count": 1810,
   "id": "f8e99234",
   "metadata": {},
   "outputs": [
    {
     "data": {
      "text/html": [
       "<div>\n",
       "<style scoped>\n",
       "    .dataframe tbody tr th:only-of-type {\n",
       "        vertical-align: middle;\n",
       "    }\n",
       "\n",
       "    .dataframe tbody tr th {\n",
       "        vertical-align: top;\n",
       "    }\n",
       "\n",
       "    .dataframe thead th {\n",
       "        text-align: right;\n",
       "    }\n",
       "</style>\n",
       "<table border=\"1\" class=\"dataframe\">\n",
       "  <thead>\n",
       "    <tr style=\"text-align: right;\">\n",
       "      <th></th>\n",
       "      <th>Converted</th>\n",
       "      <th>Converted_prob</th>\n",
       "      <th>Prospect ID</th>\n",
       "      <th>Predicted</th>\n",
       "    </tr>\n",
       "  </thead>\n",
       "  <tbody>\n",
       "    <tr>\n",
       "      <th>0</th>\n",
       "      <td>1</td>\n",
       "      <td>0.985004</td>\n",
       "      <td>200</td>\n",
       "      <td>1</td>\n",
       "    </tr>\n",
       "    <tr>\n",
       "      <th>1</th>\n",
       "      <td>1</td>\n",
       "      <td>0.406862</td>\n",
       "      <td>816</td>\n",
       "      <td>0</td>\n",
       "    </tr>\n",
       "    <tr>\n",
       "      <th>2</th>\n",
       "      <td>0</td>\n",
       "      <td>0.054848</td>\n",
       "      <td>8764</td>\n",
       "      <td>0</td>\n",
       "    </tr>\n",
       "    <tr>\n",
       "      <th>3</th>\n",
       "      <td>0</td>\n",
       "      <td>0.136615</td>\n",
       "      <td>3502</td>\n",
       "      <td>0</td>\n",
       "    </tr>\n",
       "    <tr>\n",
       "      <th>4</th>\n",
       "      <td>1</td>\n",
       "      <td>0.955028</td>\n",
       "      <td>8576</td>\n",
       "      <td>1</td>\n",
       "    </tr>\n",
       "  </tbody>\n",
       "</table>\n",
       "</div>"
      ],
      "text/plain": [
       "   Converted  Converted_prob  Prospect ID  Predicted\n",
       "0          1        0.985004          200          1\n",
       "1          1        0.406862          816          0\n",
       "2          0        0.054848         8764          0\n",
       "3          0        0.136615         3502          0\n",
       "4          1        0.955028         8576          1"
      ]
     },
     "execution_count": 1810,
     "metadata": {},
     "output_type": "execute_result"
    }
   ],
   "source": [
    "##PREDICTING THE OUTPUT##\n",
    "y_train_pred_final['Predicted'] = y_train_pred_final.Converted_prob.map(lambda x: 1 if x > 0.5 else 0)\n",
    "y_train_pred_final.head()"
   ]
  },
  {
   "cell_type": "code",
   "execution_count": 1811,
   "id": "31c5212b",
   "metadata": {},
   "outputs": [
    {
     "name": "stdout",
     "output_type": "stream",
     "text": [
      "[[2045   84]\n",
      " [ 245 1021]]\n"
     ]
    }
   ],
   "source": [
    "##MODEL PERFORMANCE USING CONFUSION MATERIX##\n",
    "from sklearn import metrics\n",
    "confusion_matrix = metrics.confusion_matrix(y_train_pred_final.Converted, y_train_pred_final.Predicted )\n",
    "print(confusion_matrix)"
   ]
  },
  {
   "cell_type": "code",
   "execution_count": 1812,
   "id": "bf2e3326",
   "metadata": {},
   "outputs": [
    {
     "name": "stdout",
     "output_type": "stream",
     "text": [
      "0.9030927835051547\n"
     ]
    }
   ],
   "source": [
    "##ACCURACY OF THE MODEL##\n",
    "print(metrics.accuracy_score(y_train_pred_final.Converted, y_train_pred_final.Predicted))"
   ]
  },
  {
   "cell_type": "code",
   "execution_count": 1813,
   "id": "a4a21aea",
   "metadata": {},
   "outputs": [],
   "source": [
    "TP = confusion_matrix[1,1] # TRUE POSITIVES \n",
    "TN = confusion_matrix[0,0] # TRUE NEGATIVES\n",
    "FP = confusion_matrix[0,1] # FALSE POSITIVES\n",
    "FN = confusion_matrix[1,0] # FLASE NEGATIVES"
   ]
  },
  {
   "cell_type": "code",
   "execution_count": 1814,
   "id": "709a0f30",
   "metadata": {},
   "outputs": [
    {
     "name": "stdout",
     "output_type": "stream",
     "text": [
      "True positive is  1021\n",
      "True negatives is  2045\n",
      "False positives is  84\n",
      "False negatives is  245\n"
     ]
    }
   ],
   "source": [
    "print (\"True positive is \",TP)\n",
    "print (\"True negatives is \",TN)\n",
    "print (\"False positives is \",FP)\n",
    "print (\"False negatives is \",FN)"
   ]
  },
  {
   "cell_type": "code",
   "execution_count": 1815,
   "id": "596d51b7",
   "metadata": {},
   "outputs": [
    {
     "name": "stdout",
     "output_type": "stream",
     "text": [
      "Sensitivity is  80.648 %\n"
     ]
    }
   ],
   "source": [
    "##SENSITIVITY##\n",
    "Sensitivity = round(TP / float(TP+FN)*100,3)\n",
    "print('Sensitivity is ',Sensitivity,'%')"
   ]
  },
  {
   "cell_type": "code",
   "execution_count": 1816,
   "id": "6548b1bb",
   "metadata": {},
   "outputs": [
    {
     "name": "stdout",
     "output_type": "stream",
     "text": [
      "Specificity is  96.054 %\n"
     ]
    }
   ],
   "source": [
    "##SPECIFICITY##\n",
    "Specificity = round(TN / float(TN+FP)*100,3)\n",
    "print('Specificity is ',Specificity,'%')"
   ]
  },
  {
   "cell_type": "code",
   "execution_count": 1817,
   "id": "1a0fe386",
   "metadata": {},
   "outputs": [
    {
     "name": "stdout",
     "output_type": "stream",
     "text": [
      "0.03945514325974636\n"
     ]
    }
   ],
   "source": [
    "##FALSE POSITIVE RATE##\n",
    "print(FP/ float(TN+FP))"
   ]
  },
  {
   "cell_type": "code",
   "execution_count": 1818,
   "id": "d125efcd",
   "metadata": {},
   "outputs": [
    {
     "name": "stdout",
     "output_type": "stream",
     "text": [
      "0.9239819004524887\n"
     ]
    }
   ],
   "source": [
    "##POSITIVE PREDICTIVE VALUE##\n",
    "print (TP / float(TP+FP))"
   ]
  },
  {
   "cell_type": "code",
   "execution_count": 1819,
   "id": "889ae784",
   "metadata": {},
   "outputs": [
    {
     "name": "stdout",
     "output_type": "stream",
     "text": [
      "0.8930131004366813\n"
     ]
    }
   ],
   "source": [
    "##NEGATIVE PREDICITIVE VALUE##\n",
    "print (TN / float(TN+ FN))"
   ]
  },
  {
   "cell_type": "code",
   "execution_count": 1820,
   "id": "11c003f0",
   "metadata": {},
   "outputs": [],
   "source": [
    "def draw_roc( actual, probs ):\n",
    "    fpr, tpr, thresholds = metrics.roc_curve( actual, probs,\n",
    "                                              drop_intermediate = False )\n",
    "    auc_score = metrics.roc_auc_score( actual, probs )\n",
    "    plt.figure(figsize=(5, 5))\n",
    "    plt.plot( fpr, tpr, label='ROC curve (area = %0.2f)' % auc_score )\n",
    "    plt.plot([0, 1], [0, 1], 'k--')\n",
    "    plt.xlim([0.0, 1.0])\n",
    "    plt.ylim([0.0, 1.05])\n",
    "    plt.xlabel('False Positive Rate or [1 - True Negative Rate]')\n",
    "    plt.ylabel('True Positive Rate')\n",
    "    plt.title('Receiver operating characteristic')\n",
    "    plt.legend(loc=\"lower right\")\n",
    "    plt.show()\n",
    "\n",
    "    return None"
   ]
  },
  {
   "cell_type": "code",
   "execution_count": 1821,
   "id": "86a3fa99",
   "metadata": {},
   "outputs": [],
   "source": [
    "fpr, tpr, thresholds = metrics.roc_curve( y_train_pred_final.Converted, y_train_pred_final.Converted_prob, drop_intermediate = False )\n"
   ]
  },
  {
   "cell_type": "code",
   "execution_count": 1822,
   "id": "d776d1b9",
   "metadata": {},
   "outputs": [
    {
     "data": {
      "text/plain": [
       "<Figure size 1500x1500 with 0 Axes>"
      ]
     },
     "metadata": {},
     "output_type": "display_data"
    },
    {
     "data": {
      "image/png": "[encoded data removed]",
      "text/plain": [
       "<Figure size 500x500 with 1 Axes>"
      ]
     },
     "metadata": {},
     "output_type": "display_data"
    }
   ],
   "source": [
    "plt.figure(figsize=(15,15))\n",
    "draw_roc(y_train_pred_final.Converted, y_train_pred_final.Converted_prob)\n",
    "plt.show();"
   ]
  },
  {
   "cell_type": "code",
   "execution_count": 1823,
   "id": "c3c2055d",
   "metadata": {},
   "outputs": [
    {
     "data": {
      "text/html": [
       "<div>\n",
       "<style scoped>\n",
       "    .dataframe tbody tr th:only-of-type {\n",
       "        vertical-align: middle;\n",
       "    }\n",
       "\n",
       "    .dataframe tbody tr th {\n",
       "        vertical-align: top;\n",
       "    }\n",
       "\n",
       "    .dataframe thead th {\n",
       "        text-align: right;\n",
       "    }\n",
       "</style>\n",
       "<table border=\"1\" class=\"dataframe\">\n",
       "  <thead>\n",
       "    <tr style=\"text-align: right;\">\n",
       "      <th></th>\n",
       "      <th>Converted</th>\n",
       "      <th>Converted_prob</th>\n",
       "      <th>Prospect ID</th>\n",
       "      <th>Predicted</th>\n",
       "      <th>0.0</th>\n",
       "      <th>0.1</th>\n",
       "      <th>0.2</th>\n",
       "      <th>0.3</th>\n",
       "      <th>0.4</th>\n",
       "      <th>0.5</th>\n",
       "      <th>0.6</th>\n",
       "      <th>0.7</th>\n",
       "      <th>0.8</th>\n",
       "      <th>0.9</th>\n",
       "    </tr>\n",
       "  </thead>\n",
       "  <tbody>\n",
       "    <tr>\n",
       "      <th>0</th>\n",
       "      <td>1</td>\n",
       "      <td>0.985004</td>\n",
       "      <td>200</td>\n",
       "      <td>1</td>\n",
       "      <td>1</td>\n",
       "      <td>1</td>\n",
       "      <td>1</td>\n",
       "      <td>1</td>\n",
       "      <td>1</td>\n",
       "      <td>1</td>\n",
       "      <td>1</td>\n",
       "      <td>1</td>\n",
       "      <td>1</td>\n",
       "      <td>1</td>\n",
       "    </tr>\n",
       "    <tr>\n",
       "      <th>1</th>\n",
       "      <td>1</td>\n",
       "      <td>0.406862</td>\n",
       "      <td>816</td>\n",
       "      <td>0</td>\n",
       "      <td>1</td>\n",
       "      <td>1</td>\n",
       "      <td>1</td>\n",
       "      <td>1</td>\n",
       "      <td>1</td>\n",
       "      <td>0</td>\n",
       "      <td>0</td>\n",
       "      <td>0</td>\n",
       "      <td>0</td>\n",
       "      <td>0</td>\n",
       "    </tr>\n",
       "    <tr>\n",
       "      <th>2</th>\n",
       "      <td>0</td>\n",
       "      <td>0.054848</td>\n",
       "      <td>8764</td>\n",
       "      <td>0</td>\n",
       "      <td>1</td>\n",
       "      <td>0</td>\n",
       "      <td>0</td>\n",
       "      <td>0</td>\n",
       "      <td>0</td>\n",
       "      <td>0</td>\n",
       "      <td>0</td>\n",
       "      <td>0</td>\n",
       "      <td>0</td>\n",
       "      <td>0</td>\n",
       "    </tr>\n",
       "    <tr>\n",
       "      <th>3</th>\n",
       "      <td>0</td>\n",
       "      <td>0.136615</td>\n",
       "      <td>3502</td>\n",
       "      <td>0</td>\n",
       "      <td>1</td>\n",
       "      <td>1</td>\n",
       "      <td>0</td>\n",
       "      <td>0</td>\n",
       "      <td>0</td>\n",
       "      <td>0</td>\n",
       "      <td>0</td>\n",
       "      <td>0</td>\n",
       "      <td>0</td>\n",
       "      <td>0</td>\n",
       "    </tr>\n",
       "    <tr>\n",
       "      <th>4</th>\n",
       "      <td>1</td>\n",
       "      <td>0.955028</td>\n",
       "      <td>8576</td>\n",
       "      <td>1</td>\n",
       "      <td>1</td>\n",
       "      <td>1</td>\n",
       "      <td>1</td>\n",
       "      <td>1</td>\n",
       "      <td>1</td>\n",
       "      <td>1</td>\n",
       "      <td>1</td>\n",
       "      <td>1</td>\n",
       "      <td>1</td>\n",
       "      <td>1</td>\n",
       "    </tr>\n",
       "  </tbody>\n",
       "</table>\n",
       "</div>"
      ],
      "text/plain": [
       "   Converted  Converted_prob  Prospect ID  Predicted  0.0  0.1  0.2  0.3  0.4  \\\n",
       "0          1        0.985004          200          1    1    1    1    1    1   \n",
       "1          1        0.406862          816          0    1    1    1    1    1   \n",
       "2          0        0.054848         8764          0    1    0    0    0    0   \n",
       "3          0        0.136615         3502          0    1    1    0    0    0   \n",
       "4          1        0.955028         8576          1    1    1    1    1    1   \n",
       "\n",
       "   0.5  0.6  0.7  0.8  0.9  \n",
       "0    1    1    1    1    1  \n",
       "1    0    0    0    0    0  \n",
       "2    0    0    0    0    0  \n",
       "3    0    0    0    0    0  \n",
       "4    1    1    1    1    1  "
      ]
     },
     "execution_count": 1823,
     "metadata": {},
     "output_type": "execute_result"
    }
   ],
   "source": [
    "##CUT OFF POINT##\n",
    "numbers = [float(x)/10 for x in range(10)]\n",
    "for i in numbers:\n",
    "    y_train_pred_final[i]= y_train_pred_final.Converted_prob.map(lambda x: 1 if x > i else 0)\n",
    "y_train_pred_final.head()"
   ]
  },
  {
   "cell_type": "code",
   "execution_count": 1824,
   "id": "301d97a7",
   "metadata": {},
   "outputs": [
    {
     "name": "stdout",
     "output_type": "stream",
     "text": [
      "     prob  accuracy     sensi     speci\n",
      "0.0   0.0  0.372901  1.000000  0.000000\n",
      "0.1   0.1  0.678940  0.976303  0.502114\n",
      "0.2   0.2  0.883947  0.890205  0.880225\n",
      "0.3   0.3  0.909278  0.872038  0.931423\n",
      "0.4   0.4  0.908984  0.845182  0.946923\n",
      "0.5   0.5  0.903093  0.806477  0.960545\n",
      "0.6   0.6  0.902798  0.778831  0.976515\n",
      "0.7   0.7  0.897496  0.755924  0.981682\n",
      "0.8   0.8  0.897202  0.749605  0.984969\n",
      "0.9   0.9  0.878645  0.695893  0.987318\n"
     ]
    }
   ],
   "source": [
    "##CALCULATION OF ACCURACY SPECIFICTY AND SENSITIVITY##\n",
    "cutoff_df = pd.DataFrame( columns = ['prob','accuracy','sensi','speci'])\n",
    "from sklearn.metrics import confusion_matrix\n",
    "\n",
    "# TP = confusion[1,1] # true positive \n",
    "# TN = confusion[0,0] # true negatives\n",
    "# FP = confusion[0,1] # false positives\n",
    "# FN = confusion[1,0] # false negatives\n",
    "\n",
    "num = [0.0,0.1,0.2,0.3,0.4,0.5,0.6,0.7,0.8,0.9]\n",
    "for i in num:\n",
    "    cm1 = metrics.confusion_matrix(y_train_pred_final.Converted, y_train_pred_final[i] )\n",
    "    total1=sum(sum(cm1))\n",
    "    accuracy = (cm1[0,0]+cm1[1,1])/total1\n",
    "    \n",
    "    speci = cm1[0,0]/(cm1[0,0]+cm1[0,1])\n",
    "    sensi = cm1[1,1]/(cm1[1,0]+cm1[1,1])\n",
    "    cutoff_df.loc[i] =[ i ,accuracy,sensi,speci]\n",
    "print(cutoff_df)"
   ]
  },
  {
   "cell_type": "code",
   "execution_count": 1825,
   "id": "77dbc4e6",
   "metadata": {},
   "outputs": [
    {
     "data": {
      "image/png": "[encoded data removed]",
      "text/plain": [
       "<Figure size 640x480 with 1 Axes>"
      ]
     },
     "metadata": {},
     "output_type": "display_data"
    }
   ],
   "source": [
    "cutoff_df.plot.line(x='prob', y=['accuracy','sensi','speci'])\n",
    "plt.show()"
   ]
  },
  {
   "cell_type": "code",
   "execution_count": 1826,
   "id": "1c077c6e",
   "metadata": {},
   "outputs": [
    {
     "data": {
      "text/html": [
       "<div>\n",
       "<style scoped>\n",
       "    .dataframe tbody tr th:only-of-type {\n",
       "        vertical-align: middle;\n",
       "    }\n",
       "\n",
       "    .dataframe tbody tr th {\n",
       "        vertical-align: top;\n",
       "    }\n",
       "\n",
       "    .dataframe thead th {\n",
       "        text-align: right;\n",
       "    }\n",
       "</style>\n",
       "<table border=\"1\" class=\"dataframe\">\n",
       "  <thead>\n",
       "    <tr style=\"text-align: right;\">\n",
       "      <th></th>\n",
       "      <th>Converted</th>\n",
       "      <th>Converted_prob</th>\n",
       "      <th>Prospect ID</th>\n",
       "      <th>Predicted</th>\n",
       "      <th>0.0</th>\n",
       "      <th>0.1</th>\n",
       "      <th>0.2</th>\n",
       "      <th>0.3</th>\n",
       "      <th>0.4</th>\n",
       "      <th>0.5</th>\n",
       "      <th>0.6</th>\n",
       "      <th>0.7</th>\n",
       "      <th>0.8</th>\n",
       "      <th>0.9</th>\n",
       "      <th>final_Predicted</th>\n",
       "    </tr>\n",
       "  </thead>\n",
       "  <tbody>\n",
       "    <tr>\n",
       "      <th>0</th>\n",
       "      <td>1</td>\n",
       "      <td>0.985004</td>\n",
       "      <td>200</td>\n",
       "      <td>1</td>\n",
       "      <td>1</td>\n",
       "      <td>1</td>\n",
       "      <td>1</td>\n",
       "      <td>1</td>\n",
       "      <td>1</td>\n",
       "      <td>1</td>\n",
       "      <td>1</td>\n",
       "      <td>1</td>\n",
       "      <td>1</td>\n",
       "      <td>1</td>\n",
       "      <td>1</td>\n",
       "    </tr>\n",
       "    <tr>\n",
       "      <th>1</th>\n",
       "      <td>1</td>\n",
       "      <td>0.406862</td>\n",
       "      <td>816</td>\n",
       "      <td>0</td>\n",
       "      <td>1</td>\n",
       "      <td>1</td>\n",
       "      <td>1</td>\n",
       "      <td>1</td>\n",
       "      <td>1</td>\n",
       "      <td>0</td>\n",
       "      <td>0</td>\n",
       "      <td>0</td>\n",
       "      <td>0</td>\n",
       "      <td>0</td>\n",
       "      <td>1</td>\n",
       "    </tr>\n",
       "    <tr>\n",
       "      <th>2</th>\n",
       "      <td>0</td>\n",
       "      <td>0.054848</td>\n",
       "      <td>8764</td>\n",
       "      <td>0</td>\n",
       "      <td>1</td>\n",
       "      <td>0</td>\n",
       "      <td>0</td>\n",
       "      <td>0</td>\n",
       "      <td>0</td>\n",
       "      <td>0</td>\n",
       "      <td>0</td>\n",
       "      <td>0</td>\n",
       "      <td>0</td>\n",
       "      <td>0</td>\n",
       "      <td>0</td>\n",
       "    </tr>\n",
       "    <tr>\n",
       "      <th>3</th>\n",
       "      <td>0</td>\n",
       "      <td>0.136615</td>\n",
       "      <td>3502</td>\n",
       "      <td>0</td>\n",
       "      <td>1</td>\n",
       "      <td>1</td>\n",
       "      <td>0</td>\n",
       "      <td>0</td>\n",
       "      <td>0</td>\n",
       "      <td>0</td>\n",
       "      <td>0</td>\n",
       "      <td>0</td>\n",
       "      <td>0</td>\n",
       "      <td>0</td>\n",
       "      <td>0</td>\n",
       "    </tr>\n",
       "    <tr>\n",
       "      <th>4</th>\n",
       "      <td>1</td>\n",
       "      <td>0.955028</td>\n",
       "      <td>8576</td>\n",
       "      <td>1</td>\n",
       "      <td>1</td>\n",
       "      <td>1</td>\n",
       "      <td>1</td>\n",
       "      <td>1</td>\n",
       "      <td>1</td>\n",
       "      <td>1</td>\n",
       "      <td>1</td>\n",
       "      <td>1</td>\n",
       "      <td>1</td>\n",
       "      <td>1</td>\n",
       "      <td>1</td>\n",
       "    </tr>\n",
       "  </tbody>\n",
       "</table>\n",
       "</div>"
      ],
      "text/plain": [
       "   Converted  Converted_prob  Prospect ID  Predicted  0.0  0.1  0.2  0.3  0.4  \\\n",
       "0          1        0.985004          200          1    1    1    1    1    1   \n",
       "1          1        0.406862          816          0    1    1    1    1    1   \n",
       "2          0        0.054848         8764          0    1    0    0    0    0   \n",
       "3          0        0.136615         3502          0    1    1    0    0    0   \n",
       "4          1        0.955028         8576          1    1    1    1    1    1   \n",
       "\n",
       "   0.5  0.6  0.7  0.8  0.9  final_Predicted  \n",
       "0    1    1    1    1    1                1  \n",
       "1    0    0    0    0    0                1  \n",
       "2    0    0    0    0    0                0  \n",
       "3    0    0    0    0    0                0  \n",
       "4    1    1    1    1    1                1  "
      ]
     },
     "execution_count": 1826,
     "metadata": {},
     "output_type": "execute_result"
    }
   ],
   "source": [
    "## CONSIDERING THE ABOVE CURVE, 0.3 IS THE OPTIMUM POINT.##\n",
    "y_train_pred_final['final_Predicted'] = y_train_pred_final.Converted_prob.map( lambda x: 1 if x > 0.3 else 0)\n",
    "y_train_pred_final.head()"
   ]
  },
  {
   "cell_type": "code",
   "execution_count": 1827,
   "id": "f079d027",
   "metadata": {},
   "outputs": [
    {
     "data": {
      "text/html": [
       "<div>\n",
       "<style scoped>\n",
       "    .dataframe tbody tr th:only-of-type {\n",
       "        vertical-align: middle;\n",
       "    }\n",
       "\n",
       "    .dataframe tbody tr th {\n",
       "        vertical-align: top;\n",
       "    }\n",
       "\n",
       "    .dataframe thead th {\n",
       "        text-align: right;\n",
       "    }\n",
       "</style>\n",
       "<table border=\"1\" class=\"dataframe\">\n",
       "  <thead>\n",
       "    <tr style=\"text-align: right;\">\n",
       "      <th></th>\n",
       "      <th>Converted</th>\n",
       "      <th>Converted_prob</th>\n",
       "      <th>Prospect ID</th>\n",
       "      <th>final_Predicted</th>\n",
       "      <th>Lead_Score</th>\n",
       "    </tr>\n",
       "  </thead>\n",
       "  <tbody>\n",
       "    <tr>\n",
       "      <th>0</th>\n",
       "      <td>1</td>\n",
       "      <td>0.985004</td>\n",
       "      <td>200</td>\n",
       "      <td>1</td>\n",
       "      <td>99</td>\n",
       "    </tr>\n",
       "    <tr>\n",
       "      <th>1</th>\n",
       "      <td>1</td>\n",
       "      <td>0.406862</td>\n",
       "      <td>816</td>\n",
       "      <td>1</td>\n",
       "      <td>41</td>\n",
       "    </tr>\n",
       "    <tr>\n",
       "      <th>2</th>\n",
       "      <td>0</td>\n",
       "      <td>0.054848</td>\n",
       "      <td>8764</td>\n",
       "      <td>0</td>\n",
       "      <td>5</td>\n",
       "    </tr>\n",
       "    <tr>\n",
       "      <th>3</th>\n",
       "      <td>0</td>\n",
       "      <td>0.136615</td>\n",
       "      <td>3502</td>\n",
       "      <td>0</td>\n",
       "      <td>14</td>\n",
       "    </tr>\n",
       "    <tr>\n",
       "      <th>4</th>\n",
       "      <td>1</td>\n",
       "      <td>0.955028</td>\n",
       "      <td>8576</td>\n",
       "      <td>1</td>\n",
       "      <td>96</td>\n",
       "    </tr>\n",
       "  </tbody>\n",
       "</table>\n",
       "</div>"
      ],
      "text/plain": [
       "   Converted  Converted_prob  Prospect ID  final_Predicted  Lead_Score\n",
       "0          1        0.985004          200                1          99\n",
       "1          1        0.406862          816                1          41\n",
       "2          0        0.054848         8764                0           5\n",
       "3          0        0.136615         3502                0          14\n",
       "4          1        0.955028         8576                1          96"
      ]
     },
     "execution_count": 1827,
     "metadata": {},
     "output_type": "execute_result"
    }
   ],
   "source": [
    "y_train_pred_final['Lead_Score'] = y_train_pred_final.Converted_prob.map( lambda x: round(x*100))\n",
    "y_train_pred_final[['Converted','Converted_prob','Prospect ID','final_Predicted','Lead_Score']].head()"
   ]
  },
  {
   "cell_type": "code",
   "execution_count": 1828,
   "id": "89200c2f",
   "metadata": {},
   "outputs": [
    {
     "data": {
      "text/plain": [
       "0.9092783505154639"
      ]
     },
     "execution_count": 1828,
     "metadata": {},
     "output_type": "execute_result"
    }
   ],
   "source": [
    "##OVERALL ACCURACY##\n",
    "metrics.accuracy_score(y_train_pred_final.Converted, y_train_pred_final.final_Predicted)"
   ]
  },
  {
   "cell_type": "code",
   "execution_count": 1829,
   "id": "53089a3e",
   "metadata": {},
   "outputs": [
    {
     "data": {
      "text/plain": [
       "array([[1983,  146],\n",
       "       [ 162, 1104]], dtype=int64)"
      ]
     },
     "execution_count": 1829,
     "metadata": {},
     "output_type": "execute_result"
    }
   ],
   "source": [
    "confusion2 = metrics.confusion_matrix(y_train_pred_final.Converted, y_train_pred_final.final_Predicted )\n",
    "confusion2"
   ]
  },
  {
   "cell_type": "code",
   "execution_count": 1830,
   "id": "03582dd1",
   "metadata": {},
   "outputs": [],
   "source": [
    "TP = confusion2[1,1] #TRUE POSITIVE \n",
    "TN = confusion2[0,0] #TRUE NEGATIVE\n",
    "FP = confusion2[0,1] #FALSE POSITIVE\n",
    "FN = confusion2[1,0] #FALSE NEGATIVE"
   ]
  },
  {
   "cell_type": "code",
   "execution_count": 1831,
   "id": "dba9d55a",
   "metadata": {},
   "outputs": [
    {
     "data": {
      "text/plain": [
       "0.8720379146919431"
      ]
     },
     "execution_count": 1831,
     "metadata": {},
     "output_type": "execute_result"
    }
   ],
   "source": [
    "##SENSITIVITY ON REGRESSION MODEL##\n",
    "TP / float(TP+FN)"
   ]
  },
  {
   "cell_type": "code",
   "execution_count": 1832,
   "id": "2d2ffc12",
   "metadata": {},
   "outputs": [
    {
     "data": {
      "text/plain": [
       "0.9314232033818695"
      ]
     },
     "execution_count": 1832,
     "metadata": {},
     "output_type": "execute_result"
    }
   ],
   "source": [
    "#SPECIFICITY##\n",
    "TN / float(TN+FP)"
   ]
  },
  {
   "cell_type": "code",
   "execution_count": 1833,
   "id": "dcdfc0c9",
   "metadata": {},
   "outputs": [
    {
     "name": "stdout",
     "output_type": "stream",
     "text": [
      "0.06857679661813058\n"
     ]
    }
   ],
   "source": [
    "##CALCULATION OF FALSE POSITIVE RATE##\n",
    "print(FP/ float(TN+FP))"
   ]
  },
  {
   "cell_type": "code",
   "execution_count": 1834,
   "id": "0c2308a0",
   "metadata": {},
   "outputs": [
    {
     "name": "stdout",
     "output_type": "stream",
     "text": [
      "0.8832\n"
     ]
    }
   ],
   "source": [
    "##POSITIVE PREDICTIVE VALUE##\n",
    "print (TP / float(TP+FP))"
   ]
  },
  {
   "cell_type": "code",
   "execution_count": 1835,
   "id": "0d794e05",
   "metadata": {},
   "outputs": [
    {
     "name": "stdout",
     "output_type": "stream",
     "text": [
      "0.9244755244755245\n"
     ]
    }
   ],
   "source": [
    "##NEGATIVE PREDICTIVE VALUE##\n",
    "print (TN / float(TN+ FN))"
   ]
  },
  {
   "cell_type": "code",
   "execution_count": 1836,
   "id": "37e3e729",
   "metadata": {},
   "outputs": [
    {
     "data": {
      "text/plain": [
       "array([[1983,  146],\n",
       "       [ 162, 1104]], dtype=int64)"
      ]
     },
     "execution_count": 1836,
     "metadata": {},
     "output_type": "execute_result"
    }
   ],
   "source": [
    "confusion = metrics.confusion_matrix(y_train_pred_final.Converted, y_train_pred_final.final_Predicted )\n",
    "confusion"
   ]
  },
  {
   "cell_type": "code",
   "execution_count": 1837,
   "id": "f9c7c364",
   "metadata": {},
   "outputs": [
    {
     "data": {
      "text/plain": [
       "0.8832"
      ]
     },
     "execution_count": 1837,
     "metadata": {},
     "output_type": "execute_result"
    }
   ],
   "source": [
    "##PRECISION##\n",
    "TP / TP + FP\n",
    "confusion[1,1]/(confusion[0,1]+confusion[1,1])"
   ]
  },
  {
   "cell_type": "code",
   "execution_count": 1838,
   "id": "6b7d151f",
   "metadata": {},
   "outputs": [
    {
     "data": {
      "text/plain": [
       "0.8720379146919431"
      ]
     },
     "execution_count": 1838,
     "metadata": {},
     "output_type": "execute_result"
    }
   ],
   "source": [
    "TP / TP + FN\n",
    "confusion[1,1]/(confusion[1,0]+confusion[1,1])"
   ]
  },
  {
   "cell_type": "code",
   "execution_count": 1839,
   "id": "294ac503",
   "metadata": {},
   "outputs": [],
   "source": [
    "from sklearn.metrics import precision_score, recall_score"
   ]
  },
  {
   "cell_type": "code",
   "execution_count": 1840,
   "id": "0fd13a95",
   "metadata": {},
   "outputs": [
    {
     "data": {
      "text/plain": [
       "0.8832"
      ]
     },
     "execution_count": 1840,
     "metadata": {},
     "output_type": "execute_result"
    }
   ],
   "source": [
    "precision_score(y_train_pred_final.Converted , y_train_pred_final.final_Predicted)"
   ]
  },
  {
   "cell_type": "code",
   "execution_count": 1841,
   "id": "24f5e9d8",
   "metadata": {},
   "outputs": [
    {
     "data": {
      "text/plain": [
       "0.8720379146919431"
      ]
     },
     "execution_count": 1841,
     "metadata": {},
     "output_type": "execute_result"
    }
   ],
   "source": [
    "recall_score(y_train_pred_final.Converted, y_train_pred_final.final_Predicted)"
   ]
  },
  {
   "cell_type": "code",
   "execution_count": 1842,
   "id": "4071be33",
   "metadata": {},
   "outputs": [],
   "source": [
    "from sklearn.metrics import precision_recall_curve"
   ]
  },
  {
   "cell_type": "code",
   "execution_count": 1843,
   "id": "5ce33e36",
   "metadata": {},
   "outputs": [],
   "source": [
    "y_train_pred_final.Converted, y_train_pred_final.final_Predicted\n",
    "p, r, thresholds = precision_recall_curve(y_train_pred_final.Converted, y_train_pred_final.Converted_prob)"
   ]
  },
  {
   "cell_type": "code",
   "execution_count": 1844,
   "id": "4aaef996",
   "metadata": {},
   "outputs": [
    {
     "data": {
      "image/png": "[encoded data removed]",
      "text/plain": [
       "<Figure size 640x480 with 1 Axes>"
      ]
     },
     "metadata": {},
     "output_type": "display_data"
    }
   ],
   "source": [
    "plt.plot(thresholds, p[:-1], \"g-\")\n",
    "plt.plot(thresholds, r[:-1], \"r-\")\n",
    "plt.show()"
   ]
  },
  {
   "cell_type": "code",
   "execution_count": 1845,
   "id": "83b51e51",
   "metadata": {},
   "outputs": [],
   "source": [
    "#############################END#####################################################"
   ]
  }
 ],
 "metadata": {
  "kernelspec": {
   "display_name": "Python 3 (ipykernel)",
   "language": "python",
   "name": "python3"
  },
  "language_info": {
   "codemirror_mode": {
    "name": "ipython",
    "version": 3
   },
   "file_extension": ".py",
   "mimetype": "text/x-python",
   "name": "python",
   "nbconvert_exporter": "python",
   "pygments_lexer": "ipython3",
   "version": "3.11.4"
  }
 },
 "nbformat": 4,
 "nbformat_minor": 5
}
